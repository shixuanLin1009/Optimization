{
 "cells": [
  {
   "cell_type": "code",
   "execution_count": 1,
   "id": "750a619d",
   "metadata": {},
   "outputs": [],
   "source": [
    "import numpy as np\n",
    "import random\n",
    "import pandas as pd"
   ]
  },
  {
   "cell_type": "markdown",
   "id": "c57434ca",
   "metadata": {},
   "source": [
    "Consider the function $f({\\bf x}) = 5x_{0}^{2} + x_{1}^{2} + 4x_{0}x_{1} - 14x_{0} - 6x_{1} +20$.\n",
    "\n",
    "Define\n",
    "$$\n",
    "{\\bf x}=\n",
    "\\left[\\begin{array}{cc}\n",
    "x_{0}\\\\\n",
    "x_{1}\n",
    "\\end{array}\\right],\n",
    "Q=\n",
    "\\left[\\begin{array}{cc}\n",
    "10&4\\\\\n",
    "4&2\n",
    "\\end{array}\\right]\n",
    "\\hbox{ and }\n",
    "{\\bf q}=\n",
    "\\left[\\begin{array}{cc}\n",
    "-14\\\\\n",
    "-6\n",
    "\\end{array}\\right].\n",
    "$$\n",
    "\n",
    "Then $f({\\bf x})=\\displaystyle \\frac{1}{2}{\\bf x}^tQ{\\bf x}+{\\bf q}^t {\\bf x}+20$. \n",
    "<hr>"
   ]
  },
  {
   "cell_type": "code",
   "execution_count": 2,
   "id": "c370310e",
   "metadata": {},
   "outputs": [],
   "source": [
    "def functionValue(x,Q,q,f0):\n",
    "    y=(1/2)*x.transpose().dot(Q).dot(x)+q.transpose().dot(x)+f0\n",
    "    return y"
   ]
  },
  {
   "cell_type": "markdown",
   "id": "78f577dd",
   "metadata": {},
   "source": [
    "Since\n",
    "$$\n",
    "\\frac{\\partial f}{\\partial x_0}=10x_0+4x_1-14\n",
    "$$\n",
    "and \n",
    "$$\n",
    "\\frac{\\partial f}{\\partial x_1}=2x_1+4x_0-6,\n",
    "$$\n",
    "we obtain the graident $\\nabla f(x)$ of $f(x)$ is \n",
    "$$\n",
    "\\nabla f(x)=\\left[\\begin{array}{c} 10x_0+4x_1-14 \\\\ 2x_1+4x_0-6 \\end{array}\\right].\n",
    "$$\n",
    "<hr>"
   ]
  },
  {
   "cell_type": "code",
   "execution_count": 3,
   "id": "2bdee69f",
   "metadata": {},
   "outputs": [],
   "source": [
    "def functionGradient(x,Q,q):\n",
    "    d=Q.dot(x)+q\n",
    "    return d"
   ]
  },
  {
   "cell_type": "markdown",
   "id": "417867cd",
   "metadata": {},
   "source": [
    "From the definition of gradients, we consider\n",
    "$$f({\\bf x}) = f({\\bf\\bar{x}}) + \\nabla f({\\bf\\bar{x}})^{t}({\\bf x}-{\\bf\\bar{x}}) + \\| {\\bf x}-{\\bf\\bar{x}} \\| \\alpha ({\\bf\\bar{x}},{\\bf x}-{\\bf\\bar{x}}),$$\n",
    "The computation is given as follows:\n",
    "$$f({\\bf x}) - f({\\bf\\bar{x}}) = \\frac{1}{2}{\\bf x}^tQ{\\bf x}+{\\bf q}^t{\\bf x} - \\left(\\frac{1}{2}{\\bf\\bar{x}}^tQ{\\bf\\bar{x}}+{\\bf q}^t{\\bf\\bar{x}}\\right)$$\n",
    "$$\n",
    "= \\frac{1}{2}{\\bf x}^tQ{\\bf x}+{\\bf q}^t({\\bf x}-{\\bf\\bar{x}}) -{\\bf\\bar{x}}^tQ{\\bf\\bar{x}} +\\frac{1}{2}{\\bf\\bar{x}}^tQ{\\bf\\bar{x}}+ {\\bf\\bar{x}}^tQ{\\bf x}-{\\bf\\bar{x}}^tQ{\\bf x}\n",
    "$$\n",
    "$$\n",
    "= {\\bf\\bar{x}}^t Q({\\bf x}-{\\bf\\bar{x}}) +{\\bf q}^t({\\bf x}-{\\bf\\bar{x}})+\\frac{1}{2}{\\bf x}^tQ{\\bf x}  +\\frac{1}{2}{\\bf\\bar{x}}^tQ{\\bf\\bar{x}}-{\\bf\\bar{x}}^tQ{\\bf x}\n",
    "$$\n",
    "$$\n",
    "= (Q{\\bf\\bar{x}})^t({\\bf x}-{\\bf\\bar{x}}) +{\\bf q}^t({\\bf x}-{\\bf\\bar{x}})+\\frac{1}{2}{\\bf x}^tQ({\\bf x}-{\\bf\\bar{x}})  -\\frac{1}{2}{\\bf\\bar{x}}^tQ({\\bf x} -{\\bf\\bar{x}})\n",
    "$$\n",
    "$$\n",
    "= (Q{\\bf\\bar{x}}+{\\bf q})^t({\\bf x}-{\\bf\\bar{x}}) +\\frac{1}{2}({\\bf x}-{\\bf\\bar{x}})^tQ({\\bf x}-{\\bf\\bar{x}})\n",
    "$$"
   ]
  },
  {
   "cell_type": "markdown",
   "id": "6e11a2d7",
   "metadata": {},
   "source": [
    "Since\n",
    "$$\n",
    "\\frac{\\partial f}{\\partial x_0}=10x_0+4x_1-14\n",
    "$$\n",
    "and \n",
    "$$\n",
    "\\frac{\\partial f}{\\partial x_1}=2x_1+4x_0-6,\n",
    "$$\n",
    "we obtain the graident $\\nabla f(x)$ of $f(x)$ is \n",
    "$$\n",
    "\\nabla f(x_0,x_1)=\\left[\\begin{array}{c} 10x_0+4x_1-14 \\\\ 2x_1+4x_0-6 \\end{array}\\right].\n",
    "$$\n",
    "Moreover, \n",
    "$$\n",
    "\\nabla f(x_0,x_1)=Q\\left[\\begin{array}{c}x_0 \\\\ x_1 \\end{array}\\right]+q\n",
    "$$\n",
    "where \n",
    "$$\n",
    "Q=\\left[\\begin{array}{cc}10 &４\\\\4 & 2\\end{array}\\right], \n",
    "q=\\left[\\begin{array}{cc}-14\\\\-6\\end{array}\\right].\n",
    "$$\n",
    "At the same time, the function $f(x_0,x_1) = 5x_{0}^{2} + x_{1}^{2} + 4x_{0}x_{1} - 14x_{0} - 6x_{1} +20$ can be rewritten as \n",
    "$$\n",
    "f(x_0,x_1)=\\frac{1}{2}\\left[\\begin{array}{cc}x_0 & x_1 \\end{array}\\right]\n",
    "Q\\left[\\begin{array}{c}x_0 \\\\ x_1 \\end{array}\\right]+q^t\\left[\\begin{array}{c}x_0 \\\\ x_1 \\end{array}\\right]\n",
    "$$\n",
    "i.e.\n",
    "$$\n",
    "f({\\bf x})=\\frac{1}{2}{\\bf x}^t Q{\\bf x}+q^t{\\bf x}\\quad and\\quad \\nabla f({\\bf x})=Q{\\bf x}+q \n",
    "$$\n",
    "where ${\\bf x}=\\left[\\begin{array}{c}x_0 \\\\ x_1 \\end{array}\\right]$.\n",
    "<hr>"
   ]
  },
  {
   "cell_type": "code",
   "execution_count": 4,
   "id": "89e04539",
   "metadata": {},
   "outputs": [
    {
     "name": "stdout",
     "output_type": "stream",
     "text": [
      "[[10.  4.]\n",
      " [ 4.  2.]]\n"
     ]
    }
   ],
   "source": [
    "Q=np.zeros((2,2))\n",
    "Q[0,0]=10\n",
    "Q[0,1]=4\n",
    "Q[1,0]=4\n",
    "Q[1,1]=2\n",
    "print(Q)"
   ]
  },
  {
   "cell_type": "code",
   "execution_count": 5,
   "id": "3d956ebb",
   "metadata": {},
   "outputs": [
    {
     "name": "stdout",
     "output_type": "stream",
     "text": [
      "[[-14.]\n",
      " [ -6.]]\n"
     ]
    }
   ],
   "source": [
    "q=np.zeros((2,1))\n",
    "q[0,0]=-14\n",
    "q[1,0]=-6\n",
    "print(q)"
   ]
  },
  {
   "cell_type": "code",
   "execution_count": 6,
   "id": "5c0abfac",
   "metadata": {},
   "outputs": [
    {
     "name": "stdout",
     "output_type": "stream",
     "text": [
      "[[20.]]\n",
      "20.0\n",
      "[[14.]\n",
      " [ 6.]]\n",
      "14.0\n",
      "6.0\n"
     ]
    }
   ],
   "source": [
    "x = np.zeros((2,1))\n",
    "x[0,0]=2\n",
    "x[1,0]=2\n",
    "f0=20\n",
    "print(functionValue(x,Q,q,f0))\n",
    "print(functionValue(x,Q,q,f0)[0,0])\n",
    "print(functionGradient(x,Q,q))\n",
    "print(functionGradient(x,Q,q)[0,0])\n",
    "print(functionGradient(x,Q,q)[1,0])\n"
   ]
  },
  {
   "cell_type": "markdown",
   "id": "f61eb49e",
   "metadata": {},
   "source": [
    "A natural consequence of this is the following algorithm, called the steepest\n",
    "descent algorithm.\n",
    "    \n",
    "Step 0: Given ${\\bf x}^{0}$, set $k:=0$\n",
    "\n",
    "Step 1: ${\\bf d}^{k}:= -\\nabla f({\\bf x}^{k})$. If ${\\bf d}^{k}=0$, then stop.\n",
    "\n",
    "Step 2: Solve $\\displaystyle \\min_{\\alpha >0} f({\\bf x}^{k} + \\alpha {\\bf d}^{k})$ for the step size $\\alpha^{k}$, perhaps chosen by an exact or inexact line search.\n",
    "\n",
    "Step 3: Set ${\\bf x}^{k+1} \\leftarrow {\\bf x}^{k} + \\alpha^{k} {\\bf d}^{k}$, $k \\leftarrow k+1$.Go to Step 1.\n",
    "\n",
    "Note from Step 2 and the fact that ${\\bf d}^{k} = - \\nabla f({\\bf x}^{k})$\n",
    "is a descent direction, it follows that $f({\\bf x}^{k+1}) < f({\\bf x}^{k}).$\n",
    "<hr>"
   ]
  },
  {
   "cell_type": "markdown",
   "id": "2315ca8f",
   "metadata": {},
   "source": [
    "<hr>\n",
    "Step 0: Given ${\\bf x}^{0}$, set $k:=0$"
   ]
  },
  {
   "cell_type": "markdown",
   "id": "3db4d384",
   "metadata": {},
   "source": [
    "<hr>\n",
    "Step 1: $d^{k}:= -\\nabla f(x^{k})$."
   ]
  },
  {
   "cell_type": "markdown",
   "id": "512cdbe2",
   "metadata": {},
   "source": [
    "<hr>\n",
    "Step 2: Solve $\\displaystyle \\min_{\\alpha >0} f({\\bf x}^{k} + \\alpha {\\bf d}^{k})$ for the step size $\\alpha^{k}$, perhaps chosen by an exact or inexact line search.\n",
    "\n",
    "$$\n",
    "\\begin{array}{rcl}\n",
    "f({\\bf x}+\\alpha {\\bf d}) &= &5(x_{0}+\\alpha d_{0})^{2} + (x_{1}+\\alpha d_{1})^{2} + 4(x_{0}+\\alpha d_{0})(x_{1}+\\alpha d_{1}) - 14(x_{0}+\\alpha d_{0}) - 6(x_{1}+\\alpha d_{1}) +20\\\\\n",
    "& = & (5d_{0}^{2}+d_{1}^{2}+4d_{0}d_{1}) \\alpha^2 +(10x_{0}d_{0}+2x_{1}d_{1}+4x_{1}d_{0}+4x_{0}d_{1}-14d_{0}-6d_{1})\\alpha +5x_{0}^{2} + x_{1}^{2} + 4x_{0}x_{1} - 14x_{0} - 6x_{1} +20\\\\\n",
    "\\end{array}\n",
    "$$\n",
    "Hence \n",
    "$$\n",
    "\\frac{d}{d \\alpha} f({\\bf x}+\\alpha {\\bf d})=2(5d_{0}^{2}+d_{1}^{2}+4d_{0}d_{1}) \\alpha +10x_{0}d_{0}+2x_{1}d_{1}+4x_{1}d_{0}+4x_{0}d_{1}-14d_{0}-6d_{1}\n",
    "$$\n",
    "and the minimum solution of $\\displaystyle \\min_{\\alpha >0} f({\\bf x}^{k} + \\alpha {\\bf d}^{k})$ is given by\n",
    "$$\n",
    "\\alpha^{*}=-\\frac{10x_{0}d_{0}+2x_{1}d_{1}+4x_{1}d_{0}+4x_{0}d_{1}-14d_{0}-6d_{1}}{2(5d_{0}^{2}+d_{1}^{2}+4d_{0}d_{1})}\n",
    "$$"
   ]
  },
  {
   "cell_type": "code",
   "execution_count": 7,
   "id": "5eacccb4",
   "metadata": {},
   "outputs": [],
   "source": [
    "def determineStepSize(x,Q,q,d):\n",
    "    alpha = 0\n",
    "    alpha = alpha+10*x[0,0]*d[0,0]\n",
    "    alpha = alpha+2*x[1,0]*d[1,0]\n",
    "    alpha = alpha+4*x[1,0]*d[0,0]\n",
    "    alpha = alpha+4*x[0,0]*d[1,0]\n",
    "    alpha = alpha-14*d[0,0]\n",
    "    alpha = alpha-6*d[1,0]\n",
    "    alpha = -alpha/(2*(5*d[0,0]**2+d[1,0]**2+4*d[0,0]*d[1,0]))\n",
    "    return alpha\n"
   ]
  },
  {
   "cell_type": "code",
   "execution_count": 8,
   "id": "fc86d768",
   "metadata": {},
   "outputs": [
    {
     "name": "stdout",
     "output_type": "stream",
     "text": [
      "0.08579881656804733\n",
      "[[20.]]\n",
      "[[10.04733728]]\n"
     ]
    }
   ],
   "source": [
    "x = np.zeros((2,1))\n",
    "x[0,0]=2\n",
    "x[1,0]=2\n",
    "f0=20\n",
    "d=-functionGradient(x,Q,q)\n",
    "print(determineStepSize(x,Q,q,d))\n",
    "########################\n",
    "print(functionValue(x,Q,q,f0))\n",
    "alpha=determineStepSize(x,Q,q,d)\n",
    "print(functionValue(x+alpha*d,Q,q,f0))"
   ]
  },
  {
   "cell_type": "code",
   "execution_count": 9,
   "id": "cb9355b5",
   "metadata": {},
   "outputs": [
    {
     "name": "stdout",
     "output_type": "stream",
     "text": [
      "0.08579881656804733\n",
      "[[20.]]\n",
      "[[10.04733728]]\n"
     ]
    }
   ],
   "source": [
    "x = np.zeros((2,1))\n",
    "x[0,0]=2\n",
    "x[1,0]=2\n",
    "f0=20\n",
    "########################\n",
    "d=-functionGradient(x,Q,q)\n",
    "print(determineStepSize(x,Q,q,d))\n",
    "print(functionValue(x,Q,q,f0))\n",
    "alpha=determineStepSize(x,Q,q,d)\n",
    "print(functionValue(x+alpha*d,Q,q,f0))\n",
    "x=x+alpha*d\n",
    "#######################"
   ]
  },
  {
   "cell_type": "code",
   "execution_count": 10,
   "id": "56ce7111",
   "metadata": {},
   "outputs": [
    {
     "name": "stdout",
     "output_type": "stream",
     "text": [
      "0.08579881656804733\n",
      "[[20.]]\n",
      "[[10.04733728]]\n",
      "2.9000000000000163\n",
      "[[10.04733728]]\n",
      "[[10.00022408]]\n"
     ]
    }
   ],
   "source": [
    "x = np.zeros((2,1))\n",
    "x[0,0]=2\n",
    "x[1,0]=2\n",
    "f0=20\n",
    "########################\n",
    "d=-functionGradient(x,Q,q)\n",
    "print(determineStepSize(x,Q,q,d))\n",
    "print(functionValue(x,Q,q,f0))\n",
    "alpha=determineStepSize(x,Q,q,d)\n",
    "print(functionValue(x+alpha*d,Q,q,f0))\n",
    "x=x+alpha*d\n",
    "#######################\n",
    "d=-functionGradient(x,Q,q)\n",
    "print(determineStepSize(x,Q,q,d))\n",
    "print(functionValue(x,Q,q,f0))\n",
    "alpha=determineStepSize(x,Q,q,d)\n",
    "print(functionValue(x+alpha*d,Q,q,f0))\n",
    "x=x+alpha*d\n",
    "#######################"
   ]
  },
  {
   "cell_type": "code",
   "execution_count": 11,
   "id": "3c7745aa",
   "metadata": {},
   "outputs": [
    {
     "name": "stdout",
     "output_type": "stream",
     "text": [
      "0.08579881656804733\n",
      "[[20.]]\n",
      "[[10.04733728]]\n",
      "2.9000000000000163\n",
      "[[10.04733728]]\n",
      "[[10.00022408]]\n",
      "0.08579881656804594\n",
      "[[10.00022408]]\n",
      "[[10.00000106]]\n",
      "2.8999999999986015\n",
      "[[10.00000106]]\n",
      "[[10.00000001]]\n",
      "0.08579881656808273\n",
      "[[10.00000001]]\n",
      "[[10.]]\n",
      "2.900000000154647\n",
      "[[10.]]\n",
      "[[10.]]\n",
      "0.0857988165560287\n",
      "[[10.]]\n",
      "[[10.]]\n",
      "2.899999982672918\n",
      "[[10.]]\n",
      "[[10.]]\n",
      "0.08579883434584973\n",
      "[[10.]]\n",
      "[[10.]]\n",
      "2.899962905574441\n",
      "[[10.]]\n",
      "[[10.]]\n"
     ]
    }
   ],
   "source": [
    "x = np.zeros((2,1))\n",
    "x[0,0]=2\n",
    "x[1,0]=2\n",
    "f0=20\n",
    "l=1\n",
    "########################\n",
    "while l<=10:\n",
    "    d=-functionGradient(x,Q,q)\n",
    "    print(determineStepSize(x,Q,q,d))\n",
    "    print(functionValue(x,Q,q,f0))\n",
    "    alpha=determineStepSize(x,Q,q,d)\n",
    "    print(functionValue(x+alpha*d,Q,q,f0))\n",
    "    x=x+alpha*d\n",
    "    l=l+1\n",
    "#######################"
   ]
  },
  {
   "cell_type": "code",
   "execution_count": 12,
   "id": "152947d1",
   "metadata": {},
   "outputs": [
    {
     "name": "stdout",
     "output_type": "stream",
     "text": [
      "15.231546211727817\n",
      "0.08579881656804733\n",
      "[[20.]]\n",
      "[[10.04733728]]\n",
      "0.18025498475417512\n",
      "2.9000000000000163\n",
      "[[10.04733728]]\n",
      "[[10.00022408]]\n",
      "0.0721019939016559\n",
      "0.08579881656804594\n",
      "[[10.00022408]]\n",
      "[[10.00000106]]\n",
      "0.0008532780343383944\n",
      "2.8999999999986015\n",
      "[[10.00000106]]\n",
      "[[10.00000001]]\n",
      "0.0003413112137674292\n",
      "0.08579881656808273\n",
      "[[10.00000001]]\n",
      "[[10.]]\n",
      "4.0391859621014965e-06\n",
      "2.900000000154647\n",
      "[[10.]]\n",
      "[[10.]]\n",
      "1.6156744048765226e-06\n",
      "0.0857988165560287\n",
      "[[10.]]\n",
      "[[10.]]\n",
      "1.9120406180458515e-08\n",
      "2.899999982672918\n",
      "[[10.]]\n",
      "[[10.]]\n",
      "7.648157294098356e-09\n",
      "0.08579883434584973\n",
      "[[10.]]\n",
      "[[10.]]\n",
      "9.051082968651244e-11\n",
      "2.899962905574441\n",
      "[[10.]]\n",
      "[[10.]]\n"
     ]
    }
   ],
   "source": [
    "x = np.zeros((2,1))\n",
    "x[0,0]=2\n",
    "x[1,0]=2\n",
    "f0=20\n",
    "l=1\n",
    "########################\n",
    "while l<=10:\n",
    "    d=-functionGradient(x,Q,q)\n",
    "    #https://numpy.org/doc/stable/reference/generated/numpy.linalg.norm.html\n",
    "    print(np.linalg.norm(d))\n",
    "    print(determineStepSize(x,Q,q,d))\n",
    "    print(functionValue(x,Q,q,f0))\n",
    "    alpha=determineStepSize(x,Q,q,d)\n",
    "    print(functionValue(x+alpha*d,Q,q,f0))\n",
    "    x=x+alpha*d\n",
    "    l=l+1\n",
    "#######################"
   ]
  },
  {
   "cell_type": "code",
   "execution_count": 13,
   "id": "37613774",
   "metadata": {},
   "outputs": [
    {
     "name": "stdout",
     "output_type": "stream",
     "text": [
      "15.231546211727817\n",
      "0.08579881656804733\n",
      "[[20.]]\n",
      "[[10.04733728]]\n",
      "0.18025498475417512\n",
      "2.9000000000000163\n",
      "[[10.04733728]]\n",
      "[[10.00022408]]\n",
      "0.0721019939016559\n",
      "0.08579881656804594\n",
      "[[10.00022408]]\n",
      "[[10.00000106]]\n",
      "0.0008532780343383944\n",
      "2.8999999999986015\n",
      "[[10.00000106]]\n",
      "[[10.00000001]]\n",
      "0.0003413112137674292\n",
      "0.08579881656808273\n",
      "[[10.00000001]]\n",
      "[[10.]]\n",
      "4.0391859621014965e-06\n",
      "2.900000000154647\n",
      "[[10.]]\n",
      "[[10.]]\n",
      "1.6156744048765226e-06\n",
      "0.0857988165560287\n",
      "[[10.]]\n",
      "[[10.]]\n",
      "1.9120406180458515e-08\n",
      "2.899999982672918\n",
      "[[10.]]\n",
      "[[10.]]\n"
     ]
    }
   ],
   "source": [
    "x = np.zeros((2,1))\n",
    "x[0,0]=2\n",
    "x[1,0]=2\n",
    "f0=20\n",
    "l=1\n",
    "d=-functionGradient(x,Q,q)\n",
    "########################\n",
    "while l<=10 and np.linalg.norm(d)>1e-6:\n",
    "    d=-functionGradient(x,Q,q)\n",
    "    #https://numpy.org/doc/stable/reference/generated/numpy.linalg.norm.html\n",
    "    print(np.linalg.norm(d))\n",
    "    print(determineStepSize(x,Q,q,d))\n",
    "    print(functionValue(x,Q,q,f0))\n",
    "    alpha=determineStepSize(x,Q,q,d)\n",
    "    print(functionValue(x+alpha*d,Q,q,f0))\n",
    "    x=x+alpha*d\n",
    "    l=l+1\n",
    "#######################"
   ]
  },
  {
   "cell_type": "code",
   "execution_count": 14,
   "id": "a2eab43a",
   "metadata": {},
   "outputs": [
    {
     "name": "stdout",
     "output_type": "stream",
     "text": [
      "0\n",
      "15.231546211727817\n",
      "0.08579881656804733\n",
      "[[20.]]\n",
      "[[10.04733728]]\n",
      "1\n",
      "0.18025498475417512\n",
      "2.9000000000000163\n",
      "[[10.04733728]]\n",
      "[[10.00022408]]\n",
      "2\n",
      "0.0721019939016559\n",
      "0.08579881656804594\n",
      "[[10.00022408]]\n",
      "[[10.00000106]]\n",
      "3\n",
      "0.0008532780343383944\n",
      "2.8999999999986015\n",
      "[[10.00000106]]\n",
      "[[10.00000001]]\n",
      "4\n",
      "0.0003413112137674292\n",
      "0.08579881656808273\n",
      "[[10.00000001]]\n",
      "[[10.]]\n",
      "5\n",
      "4.0391859621014965e-06\n",
      "2.900000000154647\n",
      "[[10.]]\n",
      "[[10.]]\n",
      "6\n",
      "1.6156744048765226e-06\n",
      "0.0857988165560287\n",
      "[[10.]]\n",
      "[[10.]]\n",
      "7\n",
      "1.9120406180458515e-08\n",
      "2.899999982672918\n",
      "[[10.]]\n",
      "[[10.]]\n",
      "final step:\n",
      "[[10.]]\n"
     ]
    }
   ],
   "source": [
    "Q=np.zeros((2,2))\n",
    "Q[0,0]=10\n",
    "Q[0,1]=4\n",
    "Q[1,0]=4\n",
    "Q[1,1]=2\n",
    "######################\n",
    "q=np.zeros((2,1))\n",
    "q[0,0]=-14\n",
    "q[1,0]=-6\n",
    "#######################\n",
    "f0=20\n",
    "#############################\n",
    "x = np.zeros((2,1))\n",
    "x[0,0]=2\n",
    "x[1,0]=2\n",
    "k=0\n",
    "d=-functionGradient(x,Q,q)\n",
    "while np.linalg.norm(d)>1e-6 and k<=100:\n",
    "    print(k)\n",
    "    d=-functionGradient(x,Q,q)\n",
    "    #https://numpy.org/doc/stable/reference/generated/numpy.linalg.norm.html\n",
    "    print(np.linalg.norm(d))\n",
    "    print(determineStepSize(x,Q,q,d))\n",
    "    print(functionValue(x,Q,q,f0))\n",
    "    alpha=determineStepSize(x,Q,q,d)\n",
    "    print(functionValue(x+alpha*d,Q,q,f0))\n",
    "    x=x+alpha*d\n",
    "    k=k+1\n",
    "print(\"final step:\") \n",
    "print(functionValue(x,Q,q,f0))"
   ]
  },
  {
   "cell_type": "code",
   "execution_count": null,
   "id": "31eeb738",
   "metadata": {},
   "outputs": [],
   "source": []
  }
 ],
 "metadata": {
  "kernelspec": {
   "display_name": "Python 3 (ipykernel)",
   "language": "python",
   "name": "python3"
  },
  "language_info": {
   "codemirror_mode": {
    "name": "ipython",
    "version": 3
   },
   "file_extension": ".py",
   "mimetype": "text/x-python",
   "name": "python",
   "nbconvert_exporter": "python",
   "pygments_lexer": "ipython3",
   "version": "3.11.4"
  }
 },
 "nbformat": 4,
 "nbformat_minor": 5
}
