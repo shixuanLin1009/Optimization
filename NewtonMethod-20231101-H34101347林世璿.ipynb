{
 "cells": [
  {
   "cell_type": "code",
   "execution_count": 1,
   "id": "16e297a5",
   "metadata": {},
   "outputs": [],
   "source": [
    "import numpy as np"
   ]
  },
  {
   "cell_type": "markdown",
   "id": "42f67fcb",
   "metadata": {},
   "source": [
    "<h1>Pseudocode of Bisection Method</h1>\n",
    "<h4>Input</h4> <p>Input the endpoints $\\alpha_a,\\alpha_b$; tolerance $TOL$; maximum number of iterations $N_{0}$</p>\n",
    "<h4>Step 0:</h4> <p>Set $i=1$.</p>\n",
    "<h4>Step 1:</h4> <p>If $i\\leq N_{0}$, then set $\\alpha_p=\\alpha_a+(\\alpha_b-\\alpha_a)/2$ and $FP=f(\\alpha_p)$; go to <span style=\"font-weight:bold;font-size:1em;\">Step 2</span>. Otherwise, STOP</p>\n",
    "<h4>Step 2:</h4> <p>If $FP=0$ or $(\\alpha_b-\\alpha_a)/2<TOL$, then OUTPUT $(p)$ and STOP. Otherwise, set $i=i+1$ and go to <span style=\"font-weight:bold;font-size:1em;\">Step 3</span>.</p></p>\n",
    "<h4>Step 3:</h4> <p>If $FP<0$, then set $\\alpha_a=\\alpha_p$ and $FA=FP$. Otherwise, set $\\alpha_b=\\alpha_p$ and $FB=FP$. Go to <span style=\"font-weight:bold;font-size:1em;\">Step 1</span>.</p>\n",
    "<hr>"
   ]
  },
  {
   "cell_type": "code",
   "execution_count": 2,
   "id": "830f02b0",
   "metadata": {},
   "outputs": [
    {
     "name": "stdout",
     "output_type": "stream",
     "text": [
      "1 2\n",
      "-1 2\n",
      "1 1.5\n",
      "-1 0.25\n",
      "1.25 1.5\n",
      "-0.4375 0.25\n",
      "1.375 1.5\n",
      "-0.109375 0.25\n",
      "1.375 1.4375\n",
      "-0.109375 0.06640625\n",
      "1.40625 1.4375\n",
      "-0.0224609375 0.06640625\n"
     ]
    }
   ],
   "source": [
    "def feval(x):\n",
    "    return x**2-2\n",
    "sol=[]\n",
    "a=1\n",
    "b=2\n",
    "print(a,b)\n",
    "print(feval(a),feval(b))\n",
    "c=(a+b)/2\n",
    "if feval(c)<0:\n",
    "    a=c\n",
    "if feval(c)>0:\n",
    "    b=c\n",
    "if feval(c)==0:\n",
    "    sol=c\n",
    "print(a,b)\n",
    "print(feval(a),feval(b))\n",
    "c=(a+b)/2\n",
    "if feval(c)<0:\n",
    "    a=c\n",
    "if feval(c)>0:\n",
    "    b=c\n",
    "if feval(c)==0:\n",
    "    sol=c\n",
    "print(a,b)\n",
    "print(feval(a),feval(b))\n",
    "c=(a+b)/2\n",
    "if feval(c)<0:\n",
    "    a=c\n",
    "if feval(c)>0:\n",
    "    b=c\n",
    "if feval(c)==0:\n",
    "    sol=c\n",
    "print(a,b)\n",
    "print(feval(a),feval(b))\n",
    "c=(a+b)/2\n",
    "if feval(c)<0:\n",
    "    a=c\n",
    "if feval(c)>0:\n",
    "    b=c\n",
    "if feval(c)==0:\n",
    "    sol=c\n",
    "print(a,b)\n",
    "print(feval(a),feval(b))\n",
    "c=(a+b)/2\n",
    "if feval(c)<0:\n",
    "    a=c\n",
    "if feval(c)>0:\n",
    "    b=c\n",
    "if feval(c)==0:\n",
    "    sol=c\n",
    "print(a,b)\n",
    "print(feval(a),feval(b))"
   ]
  },
  {
   "cell_type": "code",
   "execution_count": 3,
   "id": "1557dcc5",
   "metadata": {},
   "outputs": [
    {
     "name": "stdout",
     "output_type": "stream",
     "text": [
      "The function value of f(x)=-x^2+2 at x=1.000000 and x =2.000000 are 1.000000 and -2.000000\n",
      "1th Step:\n",
      "The function value of f(x)=-x^2+2 at x=1.000000 and x =1.500000 are 1.000000 and -0.250000\n",
      "2th Step:\n",
      "The function value of f(x)=-x^2+2 at x=1.250000 and x =1.500000 are 0.437500 and -0.250000\n",
      "3th Step:\n",
      "The function value of f(x)=-x^2+2 at x=1.375000 and x =1.500000 are 0.109375 and -0.250000\n",
      "4th Step:\n",
      "The function value of f(x)=-x^2+2 at x=1.375000 and x =1.437500 are 0.109375 and -0.066406\n",
      "5th Step:\n",
      "The function value of f(x)=-x^2+2 at x=1.406250 and x =1.437500 are 0.022461 and -0.066406\n",
      "6th Step:\n",
      "The function value of f(x)=-x^2+2 at x=1.406250 and x =1.421875 are 0.022461 and -0.021729\n",
      "7th Step:\n",
      "The function value of f(x)=-x^2+2 at x=1.414062 and x =1.421875 are 0.000427 and -0.021729\n",
      "8th Step:\n",
      "The function value of f(x)=-x^2+2 at x=1.414062 and x =1.417969 are 0.000427 and -0.010635\n",
      "9th Step:\n",
      "The function value of f(x)=-x^2+2 at x=1.414062 and x =1.416016 are 0.000427 and -0.005100\n",
      "10th Step:\n",
      "The function value of f(x)=-x^2+2 at x=1.414062 and x =1.415039 are 0.000427 and -0.002336\n",
      "11th Step:\n",
      "The function value of f(x)=-x^2+2 at x=1.414062 and x =1.414551 are 0.000427 and -0.000954\n",
      "12th Step:\n",
      "The function value of f(x)=-x^2+2 at x=1.414062 and x =1.414307 are 0.000427 and -0.000263\n",
      "13th Step:\n",
      "The function value of f(x)=-x^2+2 at x=1.414185 and x =1.414307 are 0.000082 and -0.000263\n",
      "14th Step:\n",
      "The function value of f(x)=-x^2+2 at x=1.414185 and x =1.414246 are 0.000082 and -0.000091\n"
     ]
    }
   ],
   "source": [
    "Nzero=20\n",
    "def feval(x):\n",
    "    return -x**2+2\n",
    "sol=[]\n",
    "a=1\n",
    "b=2\n",
    "Fa = feval(a)\n",
    "Fb = feval(b)\n",
    "print(\"The function value of f(x)=-x^2+2 at x=%f and x =%f are %f and %f\"%(a,b,Fa,Fb))\n",
    "i=1\n",
    "while i <=Nzero and np.abs(b-a)>1e-4 :\n",
    "    print(\"%dth Step:\"%i)\n",
    "    c=(a+b)/2\n",
    "    Fc=feval(c)\n",
    "    if Fc*Fa>0:\n",
    "        a=c\n",
    "        Fa=Fc\n",
    "    else :\n",
    "        b=c\n",
    "        Fb=Fc\n",
    "    print(\"The function value of f(x)=-x^2+2 at x=%f and x =%f are %f and %f\"%(a,b,Fa,Fb))\n",
    "    i=i+1\n",
    "    \n"
   ]
  },
  {
   "cell_type": "code",
   "execution_count": 4,
   "id": "88c208e7",
   "metadata": {},
   "outputs": [
    {
     "name": "stdout",
     "output_type": "stream",
     "text": [
      "The function value of f(x)=-x^2+2 at x=1.000000 and x =2.000000 are 1.000000 and -2.000000\n",
      "1th Step:\n",
      "The function value of f(x)=-x^2+2 at x=1.000000 and x =1.500000 are 1.000000 and -0.250000\n",
      "2th Step:\n",
      "The function value of f(x)=-x^2+2 at x=1.250000 and x =1.500000 are 0.437500 and -0.250000\n",
      "3th Step:\n",
      "The function value of f(x)=-x^2+2 at x=1.375000 and x =1.500000 are 0.109375 and -0.250000\n",
      "4th Step:\n",
      "The function value of f(x)=-x^2+2 at x=1.375000 and x =1.437500 are 0.109375 and -0.066406\n",
      "5th Step:\n",
      "The function value of f(x)=-x^2+2 at x=1.406250 and x =1.437500 are 0.022461 and -0.066406\n",
      "6th Step:\n",
      "The function value of f(x)=-x^2+2 at x=1.406250 and x =1.421875 are 0.022461 and -0.021729\n",
      "7th Step:\n",
      "The function value of f(x)=-x^2+2 at x=1.414062 and x =1.421875 are 0.000427 and -0.021729\n",
      "8th Step:\n",
      "The function value of f(x)=-x^2+2 at x=1.414062 and x =1.417969 are 0.000427 and -0.010635\n",
      "9th Step:\n",
      "The function value of f(x)=-x^2+2 at x=1.414062 and x =1.416016 are 0.000427 and -0.005100\n",
      "10th Step:\n",
      "The function value of f(x)=-x^2+2 at x=1.414062 and x =1.415039 are 0.000427 and -0.002336\n",
      "11th Step:\n",
      "The function value of f(x)=-x^2+2 at x=1.414062 and x =1.414551 are 0.000427 and -0.000954\n",
      "12th Step:\n",
      "The function value of f(x)=-x^2+2 at x=1.414062 and x =1.414307 are 0.000427 and -0.000263\n",
      "13th Step:\n",
      "The function value of f(x)=-x^2+2 at x=1.414185 and x =1.414307 are 0.000082 and -0.000263\n"
     ]
    }
   ],
   "source": [
    "Nzero=20\n",
    "def feval(x):\n",
    "    return -x**2+2\n",
    "sol=[]\n",
    "a=1\n",
    "b=2\n",
    "Fa = feval(a)\n",
    "Fb = feval(b)\n",
    "\n",
    "\n",
    "print(\"The function value of f(x)=-x^2+2 at x=%f and x =%f are %f and %f\"%(a,b,Fa,Fb))\n",
    "Fc=feval((a+b)/2)\n",
    "i=1\n",
    "while i <=Nzero and np.abs(b-a)>1e-4 and np.abs(Fc)>1e-4:\n",
    "    print(\"%dth Step:\"%i)\n",
    "    c=(a+b)/2\n",
    "    Fc=feval(c)\n",
    "    if Fc*Fa>0:\n",
    "        a=c\n",
    "        Fa=Fc\n",
    "    else :\n",
    "        b=c\n",
    "        Fb=Fc\n",
    "    print(\"The function value of f(x)=-x^2+2 at x=%f and x =%f are %f and %f\"%(a,b,Fa,Fb))\n",
    "    i=i+1"
   ]
  },
  {
   "cell_type": "code",
   "execution_count": 5,
   "id": "8f71a84c",
   "metadata": {},
   "outputs": [
    {
     "name": "stdout",
     "output_type": "stream",
     "text": [
      "The function f(x)=-x^2+2 may does not have any zero on [1.900000,2.000000]\n"
     ]
    }
   ],
   "source": [
    "Nzero=20\n",
    "def feval(x):\n",
    "    return -x**2+2\n",
    "sol=[]\n",
    "a=1.9\n",
    "b=2\n",
    "Fa = feval(a)\n",
    "Fb = feval(b)\n",
    "\n",
    "if Fa*Fb<0:\n",
    "    print(\"The function value of f(x)=-x^2+2 at x=%f and x =%f are %f and %f\"%(a,b,Fa,Fb))\n",
    "    Fc=feval((a+b)/2)\n",
    "    i=1\n",
    "    while i <=Nzero and np.abs(b-a)>1e-4 and np.abs(Fc)>1e-4:\n",
    "        print(\"%dth Step:\"%i)\n",
    "        c=(a+b)/2\n",
    "        Fc=feval(c)\n",
    "        if Fc*Fa>0:\n",
    "            a=c\n",
    "            Fa=Fc\n",
    "        else :\n",
    "            b=c\n",
    "            Fb=Fc\n",
    "        print(\"The function value of f(x)=-x^2+2 at x=%f and x =%f are %f and %f\"%(a,b,Fa,Fb))\n",
    "        i=i+1\n",
    "else:\n",
    "    print(\"The function f(x)=-x^2+2 may does not have any zero on [%f,%f]\"%(a,b))\n"
   ]
  },
  {
   "cell_type": "markdown",
   "id": "cd52322f",
   "metadata": {},
   "source": [
    "# Solutions of Equations in One Variable: Newton Method"
   ]
  },
  {
   "cell_type": "markdown",
   "id": "65659530",
   "metadata": {},
   "source": [
    "\n",
    "\n",
    "Finding a root, or solution, of an equation\n",
    "of the form $f(x)=0$, for a given function $f$. A root of this equation is also called a <b>zero</b>\n",
    "of the function $f$.\n",
    "\n",
    "\n",
    "Suppose we want to solve:\n",
    "$$\n",
    "\\begin{array}{rl}\n",
    "\\hbox{(P:)} & \\displaystyle \\min_{{\\bf x} \\in {\\mathbb{R}}^{n}} \\, f({\\bf x}) \\\\\n",
    "\\end{array}\n",
    "$$\n",
    "At ${\\bf x} = \\bar{{\\bf x}}$, $f({\\bf x})$ can be approximated by:\n",
    "$$f({\\bf x}) \\thickapprox h({\\bf x}):= f(\\bar{{\\bf x}}) + \\nabla f(\\bar{{\\bf x}})^{T}({\\bf x}-\\bar{{\\bf x}}) + \\displaystyle \\frac{1}{2} ({\\bf x} - \\bar{{\\bf x}})^{t} H(\\bar{{\\bf x}}) ({\\bf x} - \\bar{{\\bf x}}),$$\n",
    "which is the quadratic Taylor expansion of $f({\\bf x})$ at ${\\bf x} = \\bar{{\\bf x}}$. Here $\\nabla f({\\bf x})$ is\n",
    "the gradient of $f({\\bf x})$ and $H({\\bf x})$ is the Hessian of $f({\\bf x})$.\n",
    "\n",
    "Newton Direction\n",
    "\n",
    "\n",
    "The function $h({\\bf x}):= f(\\bar{{\\bf x}}) + \\nabla f(\\bar{{\\bf x}})^{T}({\\bf x}-\\bar{{\\bf x}}) + \\displaystyle \\frac{1}{2} ({\\bf x} - \\bar{{\\bf x}})^{t} H(\\bar{{\\bf x}}) ({\\bf x} - \\bar{{\\bf x}})$ is a quadratic function, which is minimized by solving\n",
    "$\\nabla h({\\bf x}) = 0$.\n",
    "<ul>\n",
    "    <li>Since the gradient of $h({\\bf x})$ is:\n",
    "        $$\\nabla h({\\bf x}) = {\\nabla f(\\bar{{\\bf x}}) + H(\\bar{{\\bf x}}) ({\\bf x} - \\bar{{\\bf x}})},$$</li>\n",
    "    <li>We therefore are motivated to solve:\n",
    "$$ \\nabla f(\\bar{{\\bf x}}) + H(\\bar{{\\bf x}}) ({\\bf x} - \\bar{{\\bf x}}) = 0,$$\n",
    "which yields\n",
    "$${\\bf x} - \\bar{{\\bf x}} = {-H(\\bar{{\\bf x}})^{-1} \\nabla f(\\bar{{\\bf x}})}$$\n",
    "provided that \\alertred{the inverse of $H(\\bar{{\\bf x}})$ exists}. </li>\n",
    "    <li>The direction $-H(\\bar{{\\bf x}})^{-1} \\nabla f(\\bar{{\\bf x}})$ is called the {\\bf Newton direction}, or {\\bf the Newton step} at ${\\bf x} = \\bar{{\\bf x}}$. </li>\n",
    "</ul>"
   ]
  },
  {
   "cell_type": "markdown",
   "id": "9b304835",
   "metadata": {},
   "source": [
    "<h1>Newton Method</h1>\n",
    "<h4>Input</h4> <p>Input the initial approximation ${\\bf x}^{1}$</p>\n",
    "<h4>Step 0:</h4> <p>Given ${\\bf x}^{1}$, set $k = 1$.</p>\n",
    "<h4>Step 1:</h4> <p> Set ${\\bf d}^{k} = -H({\\bf x}^{k})^{-1} \\nabla f({\\bf x}^{k})$.</p>\n",
    "<h4>Step 2:</h4> <p>If ${\\bf d}^{k} = 0$, then stop. Otherwise, Choose step-size $\\alpha^{k} = 1$.</p>\n",
    "<h4>Step 3:</h4> <p>Set ${\\bf x}^{k+1} = {\\bf x}^{k} + \\alpha^{k} {\\bf d}^{k}$, and $k = k + 1$. Go to <span style=\"font-weight:bold;font-size:1em;\">Step 1</span>.</p>\n",
    "<hr>"
   ]
  },
  {
   "cell_type": "code",
   "execution_count": 6,
   "id": "8bb9bfff",
   "metadata": {},
   "outputs": [
    {
     "name": "stdout",
     "output_type": "stream",
     "text": [
      "1\n",
      "1\n",
      "-2\n",
      "1.5\n",
      "-0.25\n",
      "-3.0\n",
      "1.4166666666666667\n",
      "-0.006944444444444642\n",
      "-2.8333333333333335\n",
      "1.4142156862745099\n",
      "-6.007304882871267e-06\n",
      "-2.8284313725490198\n",
      "1.4142135623746899\n",
      "-4.510614104447086e-12\n",
      "-2.8284271247493797\n",
      "The function f(x)=-x^2+2 may does not have any zero on [1.900000,2.000000]\n"
     ]
    }
   ],
   "source": [
    "Nzero=20\n",
    "def feval(x):\n",
    "    return -x**2+2\n",
    "def geval(x):\n",
    "    return -2*x\n",
    "xk=1\n",
    "print(xk)\n",
    "print(feval(xk))\n",
    "print(geval(xk))\n",
    "xk=xk-feval(xk)/geval(xk)\n",
    "print(xk)\n",
    "print(feval(xk))\n",
    "print(geval(xk))\n",
    "xk=xk-feval(xk)/geval(xk)\n",
    "print(xk)\n",
    "print(feval(xk))\n",
    "print(geval(xk))\n",
    "xk=xk-feval(xk)/geval(xk)\n",
    "print(xk)\n",
    "print(feval(xk))\n",
    "print(geval(xk))\n",
    "xk=xk-feval(xk)/geval(xk)\n",
    "print(xk)\n",
    "print(feval(xk))\n",
    "print(geval(xk))\n",
    "\n",
    "\n",
    "\n",
    "\n",
    "\n",
    "\n",
    "sol=[]\n",
    "a=1.9\n",
    "b=2\n",
    "Fa = feval(a)\n",
    "Fb = feval(b)\n",
    "\n",
    "if Fa*Fb<0:\n",
    "    print(\"The function value of f(x)=-x^2+2 at x=%f and x =%f are %f and %f\"%(a,b,Fa,Fb))\n",
    "    Fc=feval((a+b)/2)\n",
    "    i=1\n",
    "    while i <=Nzero and np.abs(b-a)>1e-4 and np.abs(Fc)>1e-4:\n",
    "        print(\"%dth Step:\"%i)\n",
    "        c=(a+b)/2\n",
    "        Fc=feval(c)\n",
    "        if Fc*Fa>0:\n",
    "            a=c\n",
    "            Fa=Fc\n",
    "        else :\n",
    "            b=c\n",
    "            Fb=Fc\n",
    "        print(\"The function value of f(x)=-x^2+2 at x=%f and x =%f are %f and %f\"%(a,b,Fa,Fb))\n",
    "        i=i+1\n",
    "else:\n",
    "    print(\"The function f(x)=-x^2+2 may does not have any zero on [%f,%f]\"%(a,b))\n"
   ]
  },
  {
   "cell_type": "code",
   "execution_count": 7,
   "id": "a376a4de",
   "metadata": {},
   "outputs": [
    {
     "name": "stdout",
     "output_type": "stream",
     "text": [
      "The function value of f(x)=-x^2+2 at x=1.000000 is 1.000000 \n",
      "1\n",
      "1\n",
      "-2\n",
      "The function value of f(x)=-x^2+2 at x=1.500000 is -0.250000 \n",
      "1.5\n",
      "-0.25\n",
      "-3.0\n",
      "The function value of f(x)=-x^2+2 at x=1.416667 is -0.006944 \n",
      "1.4166666666666667\n",
      "-0.006944444444444642\n",
      "-2.8333333333333335\n",
      "The function value of f(x)=-x^2+2 at x=1.414216 is -0.000006 \n",
      "1.4142156862745099\n",
      "-6.007304882871267e-06\n",
      "-2.8284313725490198\n",
      "The function value of f(x)=-x^2+2 at x=1.41421356 is -0.00000000 \n"
     ]
    }
   ],
   "source": [
    "Nzero=20\n",
    "def feval(x):\n",
    "    return -x**2+2\n",
    "def geval(x):\n",
    "    return -2*x\n",
    "xk=1\n",
    "\n",
    "i=1\n",
    "while i <=Nzero and np.abs(feval(xk))>1e-8:\n",
    "    print(\"The function value of f(x)=-x^2+2 at x=%f is %f \"%(xk,feval(xk)))\n",
    "    print(xk)\n",
    "    print(feval(xk))\n",
    "    print(geval(xk))\n",
    "    xk=xk-feval(xk)/geval(xk)\n",
    "    i=i+1\n",
    "print(\"The function value of f(x)=-x^2+2 at x=%.8f is %.8f \"%(xk,feval(xk)))"
   ]
  },
  {
   "cell_type": "code",
   "execution_count": 8,
   "id": "a8120887",
   "metadata": {},
   "outputs": [
    {
     "data": {
      "text/plain": [
       "array([[14.        ],\n",
       "       [ 0.        ],\n",
       "       [-0.14550003]])"
      ]
     },
     "execution_count": 8,
     "metadata": {},
     "output_type": "execute_result"
    }
   ],
   "source": [
    "def feval(x):\n",
    "    y=np.zeros((3,1))\n",
    "    y[0,0]=x[0,0]+x[1,0]+x[2,0]\n",
    "    y[1,0]=-x[0,0]**2+x[1,0]\n",
    "    y[2,0]=np.cos(x[2,0])\n",
    "    return y\n",
    "x=np.zeros((3,1))\n",
    "x[0,0]=2\n",
    "x[1,0]=4\n",
    "x[2,0]=8\n",
    "feval(x)"
   ]
  },
  {
   "cell_type": "code",
   "execution_count": 9,
   "id": "73902806",
   "metadata": {},
   "outputs": [
    {
     "data": {
      "text/plain": [
       "array([[ 1.        ,  8.        ,  4.        ],\n",
       "       [-4.        ,  1.        ,  0.        ],\n",
       "       [ 0.        ,  0.        , -0.98935825]])"
      ]
     },
     "execution_count": 9,
     "metadata": {},
     "output_type": "execute_result"
    }
   ],
   "source": [
    "def gfeval(x):\n",
    "    y=np.zeros((3,3))\n",
    "    y[0,0]=1\n",
    "    y[0,1]=x[2,0]\n",
    "    y[0,2]=x[1,0]\n",
    "    y[1,0]=-2*x[0,0]\n",
    "    y[1,1]=1\n",
    "    y[1,2]=0\n",
    "    y[2,0]=0\n",
    "    y[2,1]=0\n",
    "    y[2,2]=-np.sin(x[2,0])\n",
    "    return y\n",
    "gfeval(x)"
   ]
  },
  {
   "cell_type": "code",
   "execution_count": 10,
   "id": "be0dcf95",
   "metadata": {},
   "outputs": [
    {
     "data": {
      "text/plain": [
       "array([[ 0.03030303, -0.24242424,  0.12251591],\n",
       "       [ 0.12121212,  0.03030303,  0.49006362],\n",
       "       [-0.        , -0.        , -1.01075622]])"
      ]
     },
     "execution_count": 10,
     "metadata": {},
     "output_type": "execute_result"
    }
   ],
   "source": [
    "np.linalg.inv(gfeval(x))"
   ]
  },
  {
   "cell_type": "code",
   "execution_count": 11,
   "id": "2118904b",
   "metadata": {},
   "outputs": [
    {
     "name": "stdout",
     "output_type": "stream",
     "text": [
      "[[1.59358364]\n",
      " [2.37433458]\n",
      " [7.85293494]]\n"
     ]
    }
   ],
   "source": [
    "xk=np.zeros((3,1))\n",
    "xk[0,0]=2\n",
    "xk[1,0]=4\n",
    "xk[2,0]=8\n",
    "feval(x)\n",
    "xk=xk-np.linalg.inv(gfeval(x)).dot(feval(xk))\n",
    "print(xk)"
   ]
  },
  {
   "cell_type": "code",
   "execution_count": 12,
   "id": "d0a42975",
   "metadata": {},
   "outputs": [
    {
     "data": {
      "text/plain": [
       "array([[1.18208532e+01],\n",
       "       [1.65174254e-01],\n",
       "       [1.04669773e-03]])"
      ]
     },
     "execution_count": 12,
     "metadata": {},
     "output_type": "execute_result"
    }
   ],
   "source": [
    "np.abs(feval(xk))"
   ]
  },
  {
   "cell_type": "code",
   "execution_count": 13,
   "id": "eee685c8",
   "metadata": {},
   "outputs": [
    {
     "name": "stdout",
     "output_type": "stream",
     "text": [
      "11.822007146858938\n"
     ]
    },
    {
     "data": {
      "text/plain": [
       "11.822007146858938"
      ]
     },
     "execution_count": 13,
     "metadata": {},
     "output_type": "execute_result"
    }
   ],
   "source": [
    "print(np.sqrt(feval(xk)[0,0]**2+feval(xk)[1,0]**2+feval(xk)[2,0]**2))\n",
    "np.linalg.norm(feval(xk))"
   ]
  },
  {
   "cell_type": "code",
   "execution_count": null,
   "id": "93b73378",
   "metadata": {},
   "outputs": [],
   "source": []
  }
 ],
 "metadata": {
  "kernelspec": {
   "display_name": "Python 3 (ipykernel)",
   "language": "python",
   "name": "python3"
  },
  "language_info": {
   "codemirror_mode": {
    "name": "ipython",
    "version": 3
   },
   "file_extension": ".py",
   "mimetype": "text/x-python",
   "name": "python",
   "nbconvert_exporter": "python",
   "pygments_lexer": "ipython3",
   "version": "3.11.4"
  }
 },
 "nbformat": 4,
 "nbformat_minor": 5
}
