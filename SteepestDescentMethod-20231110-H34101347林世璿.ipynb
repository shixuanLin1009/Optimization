{
 "cells": [
  {
   "cell_type": "markdown",
   "id": "c7fb2e33",
   "metadata": {},
   "source": [
    "A natural consequence of this is the following algorithm, called the steepest\n",
    "descent algorithm.\n",
    "    \n",
    "Step 0: Given ${\\bf x}^{0}$, set $k:=0$\n",
    "\n",
    "Step 1: ${\\bf d}^{k}:= -\\nabla f({\\bf x}^{k})$. If ${\\bf d}^{k}=0$, then stop.\n",
    "\n",
    "Step 2: Solve $\\displaystyle \\min_{\\alpha >0} f({\\bf x}^{k} + \\alpha {\\bf d}^{k})$ for the step size $\\alpha^{k}$, perhaps chosen by an exact or inexact line search.\n",
    "\n",
    "Step 3: Set ${\\bf x}^{k+1} \\leftarrow {\\bf x}^{k} + \\alpha^{k} {\\bf d}^{k}$, $k \\leftarrow k+1$.Go to Step 1.\n",
    "\n",
    "Note from Step 2 and the fact that ${\\bf d}^{k} = - \\nabla f({\\bf x}^{k})$\n",
    "is a descent direction, it follows that $f({\\bf x}^{k+1}) < f({\\bf x}^{k}).$"
   ]
  },
  {
   "cell_type": "code",
   "execution_count": 1,
   "id": "88f2f57f",
   "metadata": {},
   "outputs": [],
   "source": [
    "import numpy as np\n",
    "import random\n",
    "import matplotlib.pyplot as plt \n",
    "import pandas as pd"
   ]
  },
  {
   "cell_type": "markdown",
   "id": "e5e314ba",
   "metadata": {},
   "source": [
    "<hr style=\"height:2px;border-width:0;color:gray;background-color:black\">"
   ]
  },
  {
   "cell_type": "markdown",
   "id": "eff3f0ca",
   "metadata": {},
   "source": [
    "<ol start=\"2\" style=\"color:red\">\n",
    "<li>Consider the function\n",
    "$$f(x) = x_{1} - 0.6x_{2} +4x_{3} + 0.25x_{4} - \\sum_{i=1}^{4}\\log(x_{i}) - \\log(5-\\sum_{i=1}^{4} x_{i}).$$\n",
    "<ol style=\"list-style-type: lower-alpha;\" start=\"1\">\n",
    "    <li>Write a py-file to use the steepest descent method to solve the above problem.</li>\n",
    "    </ol></li>\n",
    "</ol>"
   ]
  },
  {
   "cell_type": "code",
   "execution_count": 2,
   "id": "f01cc971",
   "metadata": {},
   "outputs": [],
   "source": [
    "x=np.array([[2],[4],[6],[8]])\n",
    "def functionValue(x):\n",
    "    z= x[0,0]-0.6*x[1,0]+4*x[2,0]+0.25*x[3,0]\n",
    "    for i in range(4):\n",
    "        z=z-np.log(x[i,0])\n",
    "    z=z-np.log(5-sum(x))\n",
    "    return y,z"
   ]
  },
  {
   "cell_type": "markdown",
   "id": "90acd6a9",
   "metadata": {},
   "source": [
    "<img src=\"http://140.116.53.170/classes/numericalOptimization/steepestDescentAlgorithm/C1-gradientComputation.png\"/>"
   ]
  },
  {
   "cell_type": "code",
   "execution_count": 3,
   "id": "4c8ff349",
   "metadata": {},
   "outputs": [],
   "source": [
    "def functionGradient(x):\n",
    "    g=np.zeros((4,1))\n",
    "    g[0,0]=1-1/x[0,0]+1/(5-sum(x))\n",
    "    g[1,0]=-0.6-1/x[1,0]+1/(5-sum(x))\n",
    "    g[2,0]=4-1/x[2,0]+1/(5-sum(x))\n",
    "    g[3,0]=0.25-1/x[3,0]+1/(5-sum(x))\n",
    "    return g"
   ]
  },
  {
   "cell_type": "markdown",
   "id": "effe920b",
   "metadata": {},
   "source": [
    "<img src=\"http://140.116.53.170/classes/numericalOptimization/steepestDescentAlgorithm/hessionComputation001.png\"/>\n",
    "<img src=\"http://140.116.53.170/classes/numericalOptimization/steepestDescentAlgorithm/hessionComputation002.png\"/>\n",
    "<img src=\"http://140.116.53.170/classes/numericalOptimization/steepestDescentAlgorithm/hessionComputation003.png\"/>\n",
    "<img src=\"http://140.116.53.170/classes/numericalOptimization/steepestDescentAlgorithm/hessionComputation004.png\"/>"
   ]
  },
  {
   "cell_type": "markdown",
   "id": "f84f6da2",
   "metadata": {},
   "source": [
    "<img src=\"http://140.116.53.170/classes/numericalOptimization/steepestDescentAlgorithm/stepSize001.png\"/>\n",
    "<img src=\"http://140.116.53.170/classes/numericalOptimization/steepestDescentAlgorithm/stepSize002.png\"/>"
   ]
  },
  {
   "cell_type": "code",
   "execution_count": 4,
   "id": "9c98b7c6",
   "metadata": {},
   "outputs": [
    {
     "name": "stdout",
     "output_type": "stream",
     "text": [
      "1.499999995\n"
     ]
    }
   ],
   "source": [
    "d=np.array([[1],[-1],[2],[-2]])\n",
    "x=np.array([[1],[2],[3],[3]])\n",
    "epsilon=1e-8\n",
    "alphaUB=float(\"inf\")\n",
    "if d[0,0]<0:\n",
    "    if alphaUB>(epsilon-x[0,0])/d[0,0]:\n",
    "        alphaUB=(epsilon-x[0,0])/d[0,0]\n",
    "if d[1,0]<0:\n",
    "    if alphaUB>(epsilon-x[1,0])/d[1,0]:\n",
    "        alphaUB=(epsilon-x[1,0])/d[1,0]\n",
    "i=2\n",
    "if d[i,0]<0:\n",
    "    if alphaUB>(epsilon-x[i,0])/d[i,0]:\n",
    "        alphaUB=(epsilon-x[i,0])/d[i,0]\n",
    "i=3\n",
    "if d[i,0]<0:\n",
    "    if alphaUB>(epsilon-x[i,0])/d[i,0]:\n",
    "        alphaUB=(epsilon-x[i,0])/d[i,0]\n",
    "print(alphaUB)"
   ]
  },
  {
   "cell_type": "code",
   "execution_count": 5,
   "id": "23ae0318",
   "metadata": {},
   "outputs": [
    {
     "name": "stdout",
     "output_type": "stream",
     "text": [
      "0.124999995\n"
     ]
    }
   ],
   "source": [
    "d=np.array([[1],[-1],[2],[-2]])\n",
    "x=np.array([[1],[1/2],[1/3],[1/4]])\n",
    "epsilon=1e-8\n",
    "alphaUB=float(\"inf\")\n",
    "if d[0,0]<0:\n",
    "    if alphaUB>(epsilon-x[0,0])/d[0,0]:\n",
    "        alphaUB=(epsilon-x[0,0])/d[0,0]\n",
    "if d[1,0]<0:\n",
    "    if alphaUB>(epsilon-x[1,0])/d[1,0]:\n",
    "        alphaUB=(epsilon-x[1,0])/d[1,0]\n",
    "i=2\n",
    "if d[i,0]<0:\n",
    "    if alphaUB>(epsilon-x[i,0])/d[i,0]:\n",
    "        alphaUB=(epsilon-x[i,0])/d[i,0]\n",
    "i=3\n",
    "if d[i,0]<0:\n",
    "    if alphaUB>(epsilon-x[i,0])/d[i,0]:\n",
    "        alphaUB=(epsilon-x[i,0])/d[i,0]\n",
    "sum_d=d[0,0]+d[1,0]++d[2,0]+d[3,0]\n",
    "if sum_d<0:\n",
    "    if alphaUB> (5-(sum_d)-epsilon)/sum_d:\n",
    "        alphaUb=(5-(sum_d)-epsilon)/sum_d\n",
    "print(alphaUB)"
   ]
  },
  {
   "cell_type": "code",
   "execution_count": 6,
   "id": "2fb95c0e",
   "metadata": {},
   "outputs": [
    {
     "name": "stdout",
     "output_type": "stream",
     "text": [
      "0.124999995\n"
     ]
    }
   ],
   "source": [
    "d=np.array([[1],[-1],[2],[-2]])\n",
    "x=np.array([[1],[1/2],[1/3],[1/4]])\n",
    "epsilon=1e-8\n",
    "def detrmineStepSizeUB(d,x,epsilon):\n",
    "    alphaUB=float(\"inf\")\n",
    "    for i in range(4):\n",
    "        if d[i,0]<0:\n",
    "            if alphaUB>(epsilon-x[i,0])/d[i,0]:\n",
    "                alphaUB=(epsilon-x[i,0])/d[i,0]\n",
    "    sum_x=x[0,0]+d[1,0]++d[2,0]+d[3,0]\n",
    "    sum_d=d[0,0]+d[1,0]++d[2,0]+d[3,0]\n",
    "    if sum_d<0:\n",
    "        if alphaUB> (5-(sum_x)-epsilon)/sum_d:\n",
    "            alphaUb=(5-(sum_x)-epsilon)/sum_d\n",
    "    return (alphaUB)\n",
    "\n",
    "#if d[0,0]<0:\n",
    "#    if alphaUB>(epsilon-x[0,0])/d[0,0]:\n",
    "#        alphaUB=(epsilon-x[0,0])/d[0,0]\n",
    "#if d[1,0]<0:\n",
    "#   if alphaUB>(epsilon-x[1,0])/d[1,0]:\n",
    "#        alphaUB=(epsilon-x[1,0])/d[1,0]\n",
    "#i=2\n",
    "#if d[i,0]<0:\n",
    "#    if alphaUB>(epsilon-x[i,0])/d[i,0]:\n",
    "#        alphaUB=(epsilon-x[i,0])/d[i,0]\n",
    "#i=3\n",
    "#if d[i,0]<0:\n",
    "#    if alphaUB>(epsilon-x[i,0])/d[i,0]:\n",
    "#        alphaUB=(epsilon-x[i,0])/d[i,0]\n",
    "#sum_d=d[0,0]+d[1,0]++d[2,0]+d[3,0]\n",
    "#if sum_d<0:\n",
    "#    if alphaUB> (S-(sum_d)-epsilon)/sum_d:\n",
    "#        alphaUb=(S-(sum_d)-epsilon)/sum_d\n",
    "alphaUB = detrmineStepSizeUB(d,x,epsilon)\n",
    "print(alphaUB)"
   ]
  },
  {
   "cell_type": "code",
   "execution_count": null,
   "id": "a5160d36",
   "metadata": {},
   "outputs": [],
   "source": []
  }
 ],
 "metadata": {
  "kernelspec": {
   "display_name": "Python 3 (ipykernel)",
   "language": "python",
   "name": "python3"
  },
  "language_info": {
   "codemirror_mode": {
    "name": "ipython",
    "version": 3
   },
   "file_extension": ".py",
   "mimetype": "text/x-python",
   "name": "python",
   "nbconvert_exporter": "python",
   "pygments_lexer": "ipython3",
   "version": "3.11.4"
  }
 },
 "nbformat": 4,
 "nbformat_minor": 5
}
