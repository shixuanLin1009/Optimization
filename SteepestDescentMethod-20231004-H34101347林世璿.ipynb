{
 "cells": [
  {
   "cell_type": "code",
   "execution_count": 7,
   "id": "750a619d",
   "metadata": {},
   "outputs": [],
   "source": [
    "import numpy as np"
   ]
  },
  {
   "cell_type": "markdown",
   "id": "c57434ca",
   "metadata": {},
   "source": [
    "Consider the function $f({\\bf x}) = 5x_{0}^{2} + x_{1}^{2} + 4x_{0}x_{1} - 14x_{0} - 6x_{1} +20$.\n",
    "\n",
    "Define\n",
    "$$\n",
    "{\\bf x}=\n",
    "\\left[\\begin{array}{cc}\n",
    "x_{0}\\\\\n",
    "x_{1}\n",
    "\\end{array}\\right],\n",
    "Q=\n",
    "\\left[\\begin{array}{cc}\n",
    "10&4\\\\\n",
    "4&2\n",
    "\\end{array}\\right]\n",
    "\\hbox{ and }\n",
    "{\\bf q}=\n",
    "\\left[\\begin{array}{cc}\n",
    "-14\\\\\n",
    "-6\n",
    "\\end{array}\\right].\n",
    "$$\n",
    "\n",
    "Then $f({\\bf x})=\\displaystyle \\frac{1}{2}{\\bf x}^tQ{\\bf x}+{\\bf q}^t {\\bf x}+20$. \n",
    "<hr>"
   ]
  },
  {
   "cell_type": "code",
   "execution_count": 8,
   "id": "c370310e",
   "metadata": {},
   "outputs": [],
   "source": [
    "def functionValue(x):\n",
    "    y=5*x[0,0]**2+x[1,0]**2+4*x[0,0]*x[1,0]-14*x[0,0]-6*x[1,0]+20\n",
    "    return y\n",
    "\n",
    "def functionGradient(x):\n",
    "    d=[[10*x[0,0]+4*x[1,0]-14],[2*x[1,0]+4*x[0,0]-6]]\n",
    "    d=np.array(d)\n",
    "    return d"
   ]
  },
  {
   "cell_type": "code",
   "execution_count": 9,
   "id": "1c707685",
   "metadata": {},
   "outputs": [
    {
     "data": {
      "text/plain": [
       "array([[0.],\n",
       "       [0.]])"
      ]
     },
     "execution_count": 9,
     "metadata": {},
     "output_type": "execute_result"
    }
   ],
   "source": [
    "x = np.zeros((2,1))\n",
    "x[0,0]=1\n",
    "x[1,0]=1\n",
    "functionValue(x)\n",
    "functionGradient(x)"
   ]
  },
  {
   "cell_type": "markdown",
   "id": "78f577dd",
   "metadata": {},
   "source": [
    "Since\n",
    "$$\n",
    "\\frac{\\partial f}{\\partial x_0}=10x_0+4x_1-14\n",
    "$$\n",
    "and \n",
    "$$\n",
    "\\frac{\\partial f}{\\partial x_1}=2x_1+4x_0-6,\n",
    "$$\n",
    "we obtain the graident $\\nabla f(x)$ of $f(x)$ is \n",
    "$$\n",
    "\\nabla f(x)=\\left[\\begin{array}{c} 10x_0+4x_1-14 \\\\ 2x_1+4x_0-6 \\end{array}\\right].\n",
    "$$\n",
    "<hr>"
   ]
  },
  {
   "cell_type": "markdown",
   "id": "417867cd",
   "metadata": {},
   "source": [
    "From the definition of gradients, we consider\n",
    "$$f({\\bf x}) = f({\\bf\\bar{x}}) + \\nabla f({\\bf\\bar{x}})^{t}({\\bf x}-{\\bf\\bar{x}}) + \\| {\\bf x}-{\\bf\\bar{x}} \\| \\alpha ({\\bf\\bar{x}},{\\bf x}-{\\bf\\bar{x}}),$$\n",
    "The computation is given as follows:\n",
    "$$f({\\bf x}) - f({\\bf\\bar{x}}) = \\frac{1}{2}{\\bf x}^tQ{\\bf x}+{\\bf q}^t{\\bf x} - \\left(\\frac{1}{2}{\\bf\\bar{x}}^tQ{\\bf\\bar{x}}+{\\bf q}^t{\\bf\\bar{x}}\\right)$$\n",
    "$$\n",
    "= \\frac{1}{2}{\\bf x}^tQ{\\bf x}+{\\bf q}^t({\\bf x}-{\\bf\\bar{x}}) -{\\bf\\bar{x}}^tQ{\\bf\\bar{x}} +\\frac{1}{2}{\\bf\\bar{x}}^tQ{\\bf\\bar{x}}+ {\\bf\\bar{x}}^tQ{\\bf x}-{\\bf\\bar{x}}^tQ{\\bf x}\n",
    "$$\n",
    "$$\n",
    "= {\\bf\\bar{x}}^t Q({\\bf x}-{\\bf\\bar{x}}) +{\\bf q}^t({\\bf x}-{\\bf\\bar{x}})+\\frac{1}{2}{\\bf x}^tQ{\\bf x}  +\\frac{1}{2}{\\bf\\bar{x}}^tQ{\\bf\\bar{x}}-{\\bf\\bar{x}}^tQ{\\bf x}\n",
    "$$\n",
    "$$\n",
    "= (Q{\\bf\\bar{x}})^t({\\bf x}-{\\bf\\bar{x}}) +{\\bf q}^t({\\bf x}-{\\bf\\bar{x}})+\\frac{1}{2}{\\bf x}^tQ({\\bf x}-{\\bf\\bar{x}})  -\\frac{1}{2}{\\bf\\bar{x}}^tQ({\\bf x} -{\\bf\\bar{x}})\n",
    "$$\n",
    "$$\n",
    "= (Q{\\bf\\bar{x}}+{\\bf q})^t({\\bf x}-{\\bf\\bar{x}}) +\\frac{1}{2}({\\bf x}-{\\bf\\bar{x}})^tQ({\\bf x}-{\\bf\\bar{x}})\n",
    "$$"
   ]
  },
  {
   "cell_type": "markdown",
   "id": "6e11a2d7",
   "metadata": {},
   "source": [
    "Since\n",
    "$$\n",
    "\\frac{\\partial f}{\\partial x_0}=10x_0+4x_1-14\n",
    "$$\n",
    "and \n",
    "$$\n",
    "\\frac{\\partial f}{\\partial x_1}=2x_1+4x_0-6,\n",
    "$$\n",
    "we obtain the graident $\\nabla f(x)$ of $f(x)$ is \n",
    "$$\n",
    "\\nabla f(x_0,x_1)=\\left[\\begin{array}{c} 10x_0+4x_1-14 \\\\ 2x_1+4x_0-6 \\end{array}\\right].\n",
    "$$\n",
    "Moreover, \n",
    "$$\n",
    "\\nabla f(x_0,x_1)=Q\\left[\\begin{array}{c}x_0 \\\\ x_1 \\end{array}\\right]+q\n",
    "$$\n",
    "where \n",
    "$$\n",
    "Q=\\left[\\begin{array}{cc}10 &４\\\\4 & 2\\end{array}\\right], \n",
    "q=\\left[\\begin{array}{cc}-14\\\\-6\\end{array}\\right].\n",
    "$$\n",
    "At the same time, the function $f(x_0,x_1) = 5x_{0}^{2} + x_{1}^{2} + 4x_{0}x_{1} - 14x_{0} - 6x_{1} +20$ can be rewritten as \n",
    "$$\n",
    "f(x_0,x_1)=\\frac{1}{2}\\left[\\begin{array}{cc}x_0 & x_1 \\end{array}\\right]\n",
    "Q\\left[\\begin{array}{c}x_0 \\\\ x_1 \\end{array}\\right]+q^t\\left[\\begin{array}{c}x_0 \\\\ x_1 \\end{array}\\right]\n",
    "$$\n",
    "i.e.\n",
    "$$\n",
    "f({\\bf x})=\\frac{1}{2}{\\bf x}^t Q{\\bf x}+q^t{\\bf x}\\quad and\\quad \\nabla f({\\bf x})=Q{\\bf x}+q \n",
    "$$\n",
    "where ${\\bf x}=\\left[\\begin{array}{c}x_0 \\\\ x_1 \\end{array}\\right]$.\n",
    "<hr>"
   ]
  },
  {
   "cell_type": "code",
   "execution_count": 12,
   "id": "89e04539",
   "metadata": {},
   "outputs": [
    {
     "name": "stdout",
     "output_type": "stream",
     "text": [
      "[[10.  4.]\n",
      " [ 4.  2.]]\n"
     ]
    }
   ],
   "source": [
    "Q=np.zeros((2,2))\n",
    "Q[0,0]=10\n",
    "Q[0,1]=4\n",
    "Q[1,0]=4\n",
    "Q[1,1]=2\n",
    "print(Q)"
   ]
  },
  {
   "cell_type": "code",
   "execution_count": 13,
   "id": "3d956ebb",
   "metadata": {},
   "outputs": [
    {
     "name": "stdout",
     "output_type": "stream",
     "text": [
      "[[-14.]\n",
      " [ -6.]]\n"
     ]
    }
   ],
   "source": [
    "q=np.zeros((2,1))\n",
    "q[0,0]=-14\n",
    "q[1,0]=-6\n",
    "print(q)"
   ]
  },
  {
   "cell_type": "code",
   "execution_count": 15,
   "id": "bd121aa6",
   "metadata": {},
   "outputs": [
    {
     "name": "stdout",
     "output_type": "stream",
     "text": [
      "[[10.]]\n",
      "10.0\n"
     ]
    }
   ],
   "source": [
    "def functionValue(x,Q,q,f0):\n",
    "    y=(1/2)*x.transpose().dot(Q).dot(x)+q.transpose().dot(x)+f0\n",
    "    #y=x[0,0]**2+x[1,0]**2+x[0,0]*x[1,0]+x[0,0]+x[1,0]+1\n",
    "    return y\n",
    "x = np.zeros((2,1))\n",
    "x[0,0]=1\n",
    "x[1,0]=1\n",
    "f0=20\n",
    "\n",
    "print(functionValue(x,Q,q,f0))\n",
    "print(functionValue(x,Q,q,f0)[0,0])\n"
   ]
  },
  {
   "cell_type": "code",
   "execution_count": 17,
   "id": "6434c675",
   "metadata": {},
   "outputs": [],
   "source": [
    "#Q.dot(x)+q\n",
    "def functionGradient(x,Q,q):\n",
    "    d=Q.dot(x)+q\n",
    "    #d=[[x[0,0]+1],[x[1,0]+1]]\n",
    "    #d=np.array(d)\n",
    "    return d"
   ]
  },
  {
   "cell_type": "code",
   "execution_count": 19,
   "id": "ca223f08",
   "metadata": {},
   "outputs": [
    {
     "name": "stdout",
     "output_type": "stream",
     "text": [
      "[[20.]]\n",
      "20.0\n",
      "[[14.]\n",
      " [ 6.]]\n",
      "14.0\n",
      "6.0\n"
     ]
    }
   ],
   "source": [
    "x = np.zeros((2,1))\n",
    "x[0,0]=2\n",
    "x[1,0]=2\n",
    "f0=20\n",
    "print(functionValue(x,Q,q,f0))\n",
    "print(functionValue(x,Q,q,f0)[0,0])\n",
    "print(functionGradient(x,Q,q))\n",
    "print(functionGradient(x,Q,q)[0,0])\n",
    "print(functionGradient(x,Q,q)[1,0])\n"
   ]
  },
  {
   "cell_type": "markdown",
   "id": "ccade086",
   "metadata": {},
   "source": [
    "Unconstrained Problem:\n",
    "\\begin{align*}\n",
    "    (\\text{P}) \\quad \\min \\quad & f({\\bf x})  \\\\\n",
    "    \\text{s.t. } \\quad  & \\bar{\\bf x} \\in X,\n",
    "\\end{align*}\n",
    "where $\\bar{\\bf x}=(x_{1},\\cdots,x_{n}) \\in \\mathbb{R}^{n}, f(\\bar{\\bf x}):\\mathbb{R}^{n} \\rightarrow \\mathbb{R},$ and $X$ is an open set (usually $X = \\mathbb{R}^{n}$).\n",
    "<hr>\n",
    "Definition:\n",
    "\n",
    "The direction ${\\bf d}$ is called a descent direction of $f({\\bf x})$ at ${\\bf x} = \\bar{\\bf x}$ if there is a $\\varepsilon>0$ such that for all $\\lambda\\in(0,\\varepsilon)$\n",
    "$$\n",
    "f(\\bar{\\bf x}+\\lambda {\\bf d}) < f(\\bar{\\bf x}).\n",
    "$$\n",
    "<hr>"
   ]
  },
  {
   "cell_type": "markdown",
   "id": "2872850b",
   "metadata": {},
   "source": [
    "A $necessary \\, condition$ for local optimality is a statement of the form: \"if $\\bar{\\bf x}$ is a local minimum of (P), then $\\bar{\\bf x}$ must satisfy$\\ldots$\". Such a condition helps us identify all candidates for local optima.\n",
    "<hr>\n",
    "Theorem:\n",
    "\n",
    "Suppose that $f({\\bf x})$ is differentiable at $\\bar{\\bf x}$. If there is a vector $d$ such that $\\nabla f(\\bar{\\bf x})^{t}d < 0$,\n",
    "then there is a $\\varepsilon>0$ such that for all $\\lambda\\in(0,\\varepsilon)$, $f(\\bar{\\bf x}+ \\lambda {\\bf d}) < f(\\bar{\\bf x})$, and hence $d$ is a descent direction of $f({\\bf x})$ at $\\bar{\\bf x}$.\n",
    "<hr>"
   ]
  },
  {
   "cell_type": "markdown",
   "id": "9066db00",
   "metadata": {},
   "source": [
    "\n",
    "Theorem:\n",
    "\n",
    "Suppose that $f({\\bf x})$ is twice differentiable at $\\bar{\\bf x}$. If $\\nabla f(\\bar{\\bf x}) = 0$ and $H(\\bar{\\bf x})$ is positive definite, then $\\bar{\\bf x}$ is a (strict) local minimum.\n",
    "<hr>"
   ]
  },
  {
   "cell_type": "code",
   "execution_count": 7,
   "id": "31f5b691",
   "metadata": {},
   "outputs": [
    {
     "name": "stdout",
     "output_type": "stream",
     "text": [
      "(2, 1)\n",
      "[[ 0]\n",
      " [10]]\n"
     ]
    }
   ],
   "source": [
    "barx=[np.array([[0],[10]])]\n",
    "print(barx[0].shape)\n",
    "print(barx[0])"
   ]
  },
  {
   "cell_type": "code",
   "execution_count": 4,
   "id": "7d013017",
   "metadata": {},
   "outputs": [
    {
     "data": {
      "text/plain": [
       "60"
      ]
     },
     "execution_count": 4,
     "metadata": {},
     "output_type": "execute_result"
    }
   ],
   "source": [
    "functionValue()"
   ]
  },
  {
   "cell_type": "code",
   "execution_count": 7,
   "id": "c291e8cd",
   "metadata": {},
   "outputs": [
    {
     "name": "stdout",
     "output_type": "stream",
     "text": [
      "[array([[-26],\n",
      "       [-14]])]\n"
     ]
    }
   ],
   "source": [
    "dk=[-functionGradient()]\n",
    "print(dk)"
   ]
  },
  {
   "cell_type": "markdown",
   "id": "f61eb49e",
   "metadata": {},
   "source": [
    "A natural consequence of this is the following algorithm, called the steepest\n",
    "descent algorithm.\n",
    "    \n",
    "Step 0: Given ${\\bf x}^{0}$, set $k:=0$\n",
    "\n",
    "Step 1: ${\\bf d}^{k}:= -\\nabla f({\\bf x}^{k})$. If ${\\bf d}^{k}=0$, then stop.\n",
    "\n",
    "Step 2: Solve $\\displaystyle \\min_{\\alpha >0} f({\\bf x}^{k} + \\alpha {\\bf d}^{k})$ for the step size $\\alpha^{k}$, perhaps chosen by an exact or inexact line search.\n",
    "\n",
    "Step 3: Set ${\\bf x}^{k+1} \\leftarrow {\\bf x}^{k} + \\alpha^{k} {\\bf d}^{k}$, $k \\leftarrow k+1$.Go to Step 1.\n",
    "\n",
    "Note from Step 2 and the fact that ${\\bf d}^{k} = - \\nabla f({\\bf x}^{k})$\n",
    "is a descent direction, it follows that $f({\\bf x}^{k+1}) < f({\\bf x}^{k}).$\n",
    "<hr>"
   ]
  },
  {
   "cell_type": "markdown",
   "id": "2315ca8f",
   "metadata": {},
   "source": [
    "<hr>\n",
    "Step 0: Given ${\\bf x}^{0}$, set $k:=0$"
   ]
  },
  {
   "cell_type": "markdown",
   "id": "3db4d384",
   "metadata": {},
   "source": [
    "<hr>\n",
    "Step 1: $d^{k}:= -\\nabla f(x^{k})$."
   ]
  },
  {
   "cell_type": "markdown",
   "id": "512cdbe2",
   "metadata": {},
   "source": [
    "<hr>\n",
    "Step 2: Solve $\\displaystyle \\min_{\\alpha >0} f({\\bf x}^{k} + \\alpha {\\bf d}^{k})$ for the step size $\\alpha^{k}$, perhaps chosen by an exact or inexact line search.\n",
    "\n",
    "$$\n",
    "\\begin{array}{rcl}\n",
    "f({\\bf x}+\\alpha {\\bf d}) &= &5(x_{0}+\\alpha d_{0})^{2} + (x_{1}+\\alpha d_{1})^{2} + 4(x_{0}+\\alpha d_{0})(x_{1}+\\alpha d_{1}) - 14(x_{0}+\\alpha d_{0}) - 6(x_{1}+\\alpha d_{1}) +20\\\\\n",
    "& = & (5d_{0}^{2}+d_{1}^{2}+4d_{0}d_{1}) \\alpha^2 +(10x_{0}d_{0}+2x_{1}d_{1}+4x_{1}d_{0}+4x_{0}d_{1}-14d_{0}-6d_{1})\\alpha +5x_{0}^{2} + x_{1}^{2} + 4x_{0}x_{1} - 14x_{0} - 6x_{1} +20\\\\\n",
    "\\end{array}\n",
    "$$\n",
    "Hence \n",
    "$$\n",
    "\\frac{d}{d \\alpha} f({\\bf x}+\\alpha {\\bf d})=2(5d_{0}^{2}+d_{1}^{2}+4d_{0}d_{1}) \\alpha +10x_{0}d_{0}+2x_{1}d_{1}+4x_{1}d_{0}+4x_{0}d_{1}-14d_{0}-6d_{1}\n",
    "$$\n",
    "and the minimum solution of $\\displaystyle \\min_{\\alpha >0} f({\\bf x}^{k} + \\alpha {\\bf d}^{k})$ is given by\n",
    "$$\n",
    "\\alpha^{*}=-\\frac{10x_{0}d_{0}+2x_{1}d_{1}+4x_{1}d_{0}+4x_{0}d_{1}-14d_{0}-6d_{1}}{2(5d_{0}^{2}+d_{1}^{2}+4d_{0}d_{1})}\n",
    "$$"
   ]
  }
 ],
 "metadata": {
  "kernelspec": {
   "display_name": "Python 3 (ipykernel)",
   "language": "python",
   "name": "python3"
  },
  "language_info": {
   "codemirror_mode": {
    "name": "ipython",
    "version": 3
   },
   "file_extension": ".py",
   "mimetype": "text/x-python",
   "name": "python",
   "nbconvert_exporter": "python",
   "pygments_lexer": "ipython3",
   "version": "3.11.4"
  }
 },
 "nbformat": 4,
 "nbformat_minor": 5
}
