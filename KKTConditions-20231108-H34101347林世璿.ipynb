{
 "cells": [
  {
   "cell_type": "code",
   "execution_count": 9,
   "id": "3c3334c4",
   "metadata": {},
   "outputs": [],
   "source": [
    "import numpy as np\n",
    "import pandas as pd\n",
    "import matplotlib.pyplot as plt"
   ]
  },
  {
   "cell_type": "markdown",
   "id": "05361928",
   "metadata": {},
   "source": [
    "$$\n",
    "\\begin{array}{rl}\n",
    "\\min & 4x_1+x_2\\\\\n",
    "s.t. & x_1-x_2 \\geq 3\\\\\n",
    "     & 2x_1+x_2\\geq -1\\\\\n",
    "     &x_1,x_2\\geq 0\n",
    "\\end{array}\n",
    "$$"
   ]
  },
  {
   "cell_type": "markdown",
   "id": "092ab024",
   "metadata": {},
   "source": [
    "The KKT condition of\n",
    "$$\n",
    "\\begin{array}{rl}\n",
    "\\min & -x_1-3x_2\\\\\n",
    "s.t. & x_1-2x_2 \\geq -4\\\\\n",
    "     & -x_1-x_2\\geq -4\\\\\n",
    "     &x_1,x_2\\geq 0\n",
    "\\end{array}\n",
    "$$\n",
    "is given by $$\n",
    "\\begin{array}{l}\n",
    "(P)\\left\\{\n",
    "\\begin{array}{l}\n",
    "\\color{red}{x_1-2x_2-x_3=-4}\\\\\n",
    "\\color{red}{-x_1-x_2-x_4= -4}\\\\\n",
    "x_1,x_2,x_3,x_4\\geq 0\\\\\n",
    "\\end{array}\n",
    "\\right.\\\\\n",
    "(D)\\left\\{\n",
    "\\begin{array}{l}\n",
    "\\color{red}{y_1-y_2+y_3 =-1}\\\\\n",
    "\\color{red}{-2y_1-y_2+y_4 =-3}\\\\\n",
    "y_1,y_2,y_3,y_4\\geq 0\\\\\n",
    "\\end{array}\n",
    "\\right.\\\\\n",
    "(CS)\\left\\{\n",
    "\\begin{array}{l}\n",
    "{x_1=0\\hbox{ or }y_3=0}\\\\\n",
    "{x_2=0\\hbox{ or }y_4=0}\\\\\n",
    "{x_3=0\\hbox{ or }y_1=0}\\\\\n",
    "{x_4=0\\hbox{ or }y_2=0}\\\\\n",
    "\\end{array}\n",
    "\\right.\n",
    "\\end{array}\n",
    "$$\n",
    "Then we obtain\n",
    "$$\n",
    "\\begin{array}{|c|c||c|c|c|c||c|c|c|c|}\n",
    "\\hline\n",
    "\\hbox{P} & \\hbox{D} &x_1 & x_2 & x_3 & x_4 & y_1 & y_2 & y_3 & y_4 \\\\ \\hline\n",
    "      &      & 0  &  0  &  0  &  0  &     &     &     &     \\\\ \\hline\n",
    "      &      & 0  &  0  &  0  &     &     &  0  &     &     \\\\\n",
    "      &      & 0  &  0  &     &  0  &  0  &     &     &     \\\\\n",
    "      &      & 0  &     &  0  &  0  &     &     &     &  0  \\\\\n",
    "      &      &    &  0  &  0  &  0  &     &     &  0  &     \\\\ \\hline\n",
    "      &      & 0  &     &     &     &  0  &  0  &     &  0  \\\\\n",
    "      &      &    &  0  &     &     &  0  &  0  &  0  &     \\\\\n",
    "      &      &    &     &  0  &     &     &  0  &  0  &  0  \\\\\n",
    "      &      &    &     &     &  0  &  0  &     &  0  &  0  \\\\\\hline\n",
    "      &      &    &     &     &     &  0  &  0  &  0  &  0  \\\\\\hline\n",
    "\\end{array}\n",
    "$$\n",
    "Hence we consider the case \n",
    "$$\n",
    "\\begin{array}{|c|c||c|c|c|c||c|c|c|c|}\n",
    "\\hline\n",
    "\\hbox{P} & \\hbox{D} &x_1 & x_2 & x_3 & x_4 & y_1 & y_2 & y_3 & y_4 \\\\ \\hline\n",
    "         &          & 0  &  0  &     &     &  0  &  0  &     &     \\\\\n",
    "         &          & 0  &     &  0  &     &     &  0  &     &  0  \\\\\n",
    "         &          & 0  &     &     &  0  &  0  &     &     &  0  \\\\\n",
    "         &          &    &  0  &  0  &     &     &  0  &  0  &     \\\\\n",
    "         &          &    &  0  &     &  0  &  0  &     &  0  &     \\\\\n",
    "         &          &    &     &  0  &  0  &     &     &  0  &  0  \\\\ \\hline\n",
    "\\end{array}\n",
    "$$"
   ]
  },
  {
   "cell_type": "markdown",
   "id": "f8ad3bd3",
   "metadata": {},
   "source": [
    "$$\n",
    "(CS)\\left\\{\n",
    "\\begin{array}{l}\n",
    "x_1y_3=0\\\\\n",
    "x_2y_4=0\\\\\n",
    "x_3y_1=0\\\\\n",
    "x_4y_2=0\\\\\n",
    "\\end{array}\n",
    "\\right.\n",
    "\\Rightarrow\n",
    "\\left\\{\n",
    "\\begin{array}{l}\n",
    "{x_1=0\\hbox{ or }y_3=0}\\\\\n",
    "{x_2=0\\hbox{ or }y_4=0}\\\\\n",
    "{x_3=0\\hbox{ or }y_1=0}\\\\\n",
    "{x_4=0\\hbox{ or }y_2=0}\\\\\n",
    "\\end{array}\n",
    "\\right.\n",
    "$$"
   ]
  },
  {
   "cell_type": "markdown",
   "id": "b2290638",
   "metadata": {},
   "source": [
    "$$\n",
    "\\begin{array}{|c|c||c|c|c|c||c|c|c|c|c|}\n",
    "\\hline\n",
    "\\hbox{P} & \\hbox{D} &x_1 & x_2 & x_3 & x_4 & y_1 & y_2 & y_3 & y_4 & reason \\\\ \\hline\n",
    "\\times&      & 0  &  0  &  0  &  0  &     &     &     &     & x_1-2x_2-x_3=-4\\\\ \\hline\n",
    "&      & 0  &  0  &  0  &     &     &  0  &     &     &\\\\\n",
    "&      & 0  &  0  &     &  0  &  0  &     &     &     &\\\\\n",
    "&      & 0  &     &  0  &  0  &     &     &     &  0  &\\\\\n",
    "&      &    &  0  &  0  &  0  &     &     &  0  &     &\\\\ \\hline\n",
    "&      & 0  &     &     &     &  0  &  0  &     &  0  &\\\\\n",
    "&      &    &  0  &     &     &  0  &  0  &  0  &     &\\\\\n",
    "&      &    &     &  0  &     &     &  0  &  0  &  0  &\\\\\n",
    "&      &    &     &     &  0  &  0  &     &  0  &  0  &\\\\\\hline\n",
    "&      &    &     &     &     &  0  &  0  &  0  &  0  &\\\\\\hline\n",
    "\\end{array}\n",
    "$$"
   ]
  },
  {
   "cell_type": "markdown",
   "id": "58ef98bd",
   "metadata": {},
   "source": [
    "$$\n",
    "\\begin{array}{|c|c||c|c|c|c||c|c|c|c|c|}\n",
    "\\hline\n",
    "\\hbox{P} & \\hbox{D} &x_1 & x_2 & x_3 & x_4 & y_1 & y_2 & y_3 & y_4 & reason \\\\ \\hline\n",
    "\\times&      & 0  &  0  &  0  &  0  &     &     &     &     & x_1-2x_2-x_3=-4\\\\ \\hline\n",
    "\\times&      & 0  &  0  &  0  &     &     &  0  &     &     & x_1-2x_2-x_3=-4\\\\\n",
    "\\times&      & 0  &  0  &     &  0  &  0  &     &     &     & -x_1-x_2-x_4= -4\\\\\n",
    "      &      & 0  &     &  0  &  0  &     &     &     &  0  &\\\\\n",
    "      &      &    &  0  &  0  &  0  &     &     &  0  &     &\\\\ \\hline\n",
    "\\times&      & 0  &     &     &     &  0  &  0  &     &  0  & -2y_1-y_2+y_4 =-3\\\\\n",
    "\\times&      &    &  0  &     &     &  0  &  0  &  0  &     & y_1-y_2+y_3 =-1\\\\\n",
    "      &      &    &     &  0  &     &     &  0  &  0  &  0  &\\\\\n",
    "      &      &    &     &     &  0  &  0  &     &  0  &  0  &\\\\\\hline\n",
    "\\times&      &    &     &     &     &  0  &  0  &  0  &  0  & y_1-y_2+y_3 =-1\\\\\\hline\n",
    "\\end{array}\n",
    "$$"
   ]
  },
  {
   "cell_type": "markdown",
   "id": "25cfdc8b",
   "metadata": {},
   "source": [
    "$$\n",
    "\\begin{array}{|c|c||c|c|c|c||c|c|c|c|c|}\n",
    "\\hline\n",
    "\\hbox{P} & \\hbox{D} &x_1 & x_2 & x_3 & x_4 & y_1 & y_2 & y_3 & y_4 & reason \\\\ \\hline\n",
    "\\times&      & 0  &  0  &  0  &  0  &     &     &     &     & x_1-2x_2-x_3=-4\\\\ \\hline\n",
    "\\times&      & 0  &  0  &  0  &     &     &  0  &     &     & x_1-2x_2-x_3=-4\\\\\n",
    "\\times&      & 0  &  0  &     &  0  &  0  &     &     &     & -x_1-x_2-x_4= -4\\\\\n",
    "\\times&      & 0  &     &  0  &  0  &     &     &     &  0  & x_2=2\\quad and\\quad x_2=4\\\\\n",
    "\\times&      &    &  0  &  0  &  0  &     &     &  0  &     & x_1=4\\quad and\\quad x_1=-4\\\\ \\hline\n",
    "\\times&      & 0  &     &     &     &  0  &  0  &     &  0  & -2y_1-y_2+y_4 =-3\\\\\n",
    "\\times&      &    &  0  &     &     &  0  &  0  &  0  &     & y_1-y_2+y_3 =-1\\\\\n",
    "\\times&      &    &     &  0  &     &     &  0  &  0  &  0  & y_1=3/2\\quad and\\quad y_1=-1\\\\\n",
    "\\times&      &    &     &     &  0  &  0  &     &  0  &  0  & y_2=3\\quad and\\quad y_2=-1\\\\\\hline\n",
    "\\times&      &    &     &     &     &  0  &  0  &  0  &  0  & y_1-y_2+y_3 =-1\\\\\\hline\n",
    "\\end{array}\n",
    "$$"
   ]
  },
  {
   "cell_type": "markdown",
   "id": "09b64a04",
   "metadata": {},
   "source": [
    "$$\n",
    "\\begin{array}{|c|c||c|c|c|c||c|c|c|c|c|}\n",
    "\\hline\n",
    "\\hbox{P} & \\hbox{D} \n",
    "      &x_1   & x_2& x_3 & x_4 & y_1 & y_2 & y_3 & y_4 & reason\\\\ \\hline\n",
    "      &      & 0  &  0  &  4  &  4  &     &     &     &     & x_1-2x_2-x_3=-4, -x_1-x_2-x_4= -4\\\\\n",
    "      &      & 0  &  2  &  0  &  2  &     &     &     &     &\\\\\n",
    "\\times&      & 0  &  4  &  -4 &  0  &     &     &     &     &\\\\\n",
    "\\times&      & -4 &  0  &  0  &  8  &     &     &     &     &\\\\ \n",
    "      &      & 4  &  0  &  8  &  0  &     &     &     &     &\\\\\n",
    "      &      & 4/3& 8/3 &  0  &  0  &     &     &     &     &\\\\\\hline\n",
    "      &      &    &     &     &     &     &     &     &     &\\\\\n",
    "      &      &    &     &     &     &     &     &     &     &\\\\\\hline\n",
    "\\end{array}\n",
    "$$"
   ]
  },
  {
   "cell_type": "markdown",
   "id": "7c07b9a2",
   "metadata": {},
   "source": [
    "$$\n",
    "\\begin{array}{|c|c||c|c|c|c||c|c|c|c|c|}\n",
    "\\hline\n",
    "\\hbox{P} & \\hbox{D} \n",
    "      &x_1 & x_2 & x_3 & x_4 & y_1 & y_2 & y_3 & y_4 & reason\\\\ \\hline\n",
    "      & \\times  &    &     &     &     &  0  &  0  &  -1 &  -3 & -2y_1-y_2+y_4 =-3, y_1-y_2+y_3 =-1\\\\\n",
    "      & \\times  &    &     &     &     &  0  &  1  &  0  &  2  &\\\\\n",
    "      &         &    &     &     &     &  0  &  3  &  2  &  0  &\\\\\n",
    "      & \\times  &    &     &     &     &  -1 &  0  &  0  & -5  &\\\\ \n",
    "      & \\times  &    &     &     &     & 3/2 &  0  & -5/3&  0  &\\\\\n",
    "      &         &    &     &     &     & 4/3 & 1/3 &  0  &  0  &\\\\\\hline\n",
    "      &         &    &     &     &     &     &     &     &     &\\\\\n",
    "      &         &    &     &     &     &     &     &     &     &\\\\\\hline\n",
    "\\end{array}\n",
    "$$"
   ]
  },
  {
   "cell_type": "markdown",
   "id": "074e9625",
   "metadata": {},
   "source": [
    "$$\n",
    "\\begin{array}{|c|c||c|c|c|c||c|c|c|c|c|}\n",
    "\\hline\n",
    "\\hbox{P} & \\hbox{D} \n",
    "      &x_1   & x_2& x_3 & x_4 & y_1 & y_2 & y_3 & y_4 & reason\\\\ \\hline\n",
    "      &      & 0  &  0  &  4  &  4  &     &     &     &     & x_1-2x_2-x_3=-4, -x_1-x_2-x_4= -4\\\\\n",
    "      &      & 0  &  2  &  0  &  2  &     &     &     &     &\\\\\n",
    "      &      & 4  &  0  &  8  &  0  &     &     &     &     &\\\\\n",
    "      &      & 4/3& 8/3 &  0  &  0  &     &     &     &     &\\\\\\hline    \n",
    "      &         &    &     &     &     &  0  &  3  &  2  &  0  & x_1-2x_2-x_3=-4, -x_1-x_2-x_4= -4\\\\      \n",
    "      &         &    &     &     &     & 4/3 & 1/3 &  0  &  0  & -2y_1-y_2+y_4 =-3, y_1-y_2+y_3 =-1\\\\\\hline\n",
    "\\end{array}\n",
    "$$"
   ]
  },
  {
   "cell_type": "markdown",
   "id": "45530c39",
   "metadata": {},
   "source": [
    "$$\n",
    "\\begin{array}{|c|c||c|c|c|c||c|c|c|c|c|}\n",
    "\\hline\n",
    "&\n",
    "&x_1 & x_2 &x_3 &x_4 &y_1 & y_2 & y_3 & y_4 & reason\\\\ \\hline\n",
    "\\hbox{A}&\\hbox{E} & 0 & 0 & 4 & 4 & 0 & 3 & 2 & 0 & x_1y_3=0, x_2y_4=0, x_3y_1=0, x_4y_2=0\\\\\n",
    "\\hbox{A}&\\hbox{F} & 0 & 0 & 4 & 4 & 2/3 & 5/3 & 0 & 0 &\\\\\n",
    "\\hbox{B}&\\hbox{E} & 0 & 2 & 0 & 2 & 0 & 3 & 2 & 0 &\\\\\n",
    "\\hbox{B}&\\hbox{F} & 0 & 2 & 0 & 2 & 2/3 & 5/3 & 0 & 0 &\\\\\n",
    "\\hbox{C}&\\hbox{E} & 4 & 0 & 8 & 0 & 0 & 3 & 2 & 0 &\\\\\n",
    "\\hbox{C}&\\hbox{F} & 4 & 0 & 8 & 0 & 2/3 & 5/3 & 0 & 0 &\\\\\n",
    "\\hbox{D}&\\hbox{E} & 4/3& 8/3 & 0 & 0 & 0 & 3 & 2 & 0 &\\\\\n",
    "\\hbox{D}&\\hbox{F} & 4/3& 8/3 & 0 & 0 & 2/3 & 5/3 & 0 & 0 &\\\\\\hline\n",
    "\\end{array}\n",
    "$$"
   ]
  },
  {
   "cell_type": "markdown",
   "id": "953be4d9",
   "metadata": {},
   "source": [
    "$$\n",
    "\\begin{array}{|c|c||c|c|c|c||c|c|c|c|c|}\n",
    "\\hline\n",
    "&\n",
    "&x_1 & x_2 &x_3 &x_4 &y_1 & y_2 & y_3 & y_4 & reason\\\\ \\hline\n",
    "\\hbox{A}&\\hbox{E} & 0 & 0 & 4 & 4 & 0 & 3 & 2 & 0 & x_4y_2\\neq0\\\\\n",
    "\\hbox{A}&\\hbox{F} & 0 & 0 & 4 & 4 & 2/3 & 5/3 & 0 & 0 &x_3y_1\\neq0\\\\\n",
    "\\hbox{B}&\\hbox{E} & 0 & 2 & 0 & 2 & 0 & 3 & 2 & 0 &x_4y_2\\neq0\\\\\n",
    "\\hbox{B}&\\hbox{F} & 0 & 2 & 0 & 2 & 2/3 & 5/3 & 0 & 0 &x_4y_2\\neq0\\\\\n",
    "\\hbox{C}&\\hbox{E} & 4 & 0 & 8 & 0 & 0 & 3 & 2 & 0 &x_4y_3\\neq0\\\\\n",
    "\\hbox{C}&\\hbox{F} & 4 & 0 & 8 & 0 & 2/3 & 5/3 & 0 & 0 &x_3y_1\\neq0\\\\\n",
    "\\hbox{D}&\\hbox{E} & 4/3& 8/3 & 0 & 0 & 0 & 3 & 2 & 0 &x_1y_3\\neq0\\\\\n",
    "\\hbox{D}&\\hbox{F} & 4/3& 8/3 & 0 & 0 & 2/3 & 5/3 & 0 & 0 &\\\\\\hline\n",
    "\\end{array}\n",
    "$$"
   ]
  },
  {
   "cell_type": "code",
   "execution_count": 17,
   "id": "8867c58b",
   "metadata": {},
   "outputs": [
    {
     "data": {
      "image/png": "[encoded data removed]",
      "text/plain": [
       "<Figure size 288x288 with 1 Axes>"
      ]
     },
     "metadata": {
      "needs_background": "light"
     },
     "output_type": "display_data"
    }
   ],
   "source": [
    "ig, ax = plt.subplots(figsize=(4, 4))\n",
    "x = np.linspace(-1/2,4,100)\n",
    "y = (x+4)/2\n",
    "z= -x+4\n",
    "min_y_z=[]\n",
    "for i in range(len(y)):\n",
    "    min_y_z.append(min([y[i],z[i]]))\n",
    "min_y_z=np.array(min_y_z)\n",
    "ax.plot(x, y, '-r', label='$x_1-2x_2 = -4$')\n",
    "ax.plot(x, z, '-y', label='$-x_1-x_2 = -4$')\n",
    "ax.plot([0,0,4/3,4],[0,2,8/3,0],'o')\n",
    "ax.axhline(y=0, xmin=-4, xmax=4)\n",
    "ax.axvline(x=0, ymin=0, ymax=8)\n",
    "\n",
    "ax.set_xlabel('$x_1$',fontsize=12)\n",
    "ax.set_ylabel('$x_2$',fontsize=12)\n",
    "ax.set_title('Graph',fontsize=12)\n",
    "ax.text(0,0.1,'(0,0)',fontsize=12)\n",
    "ax.text(0,1.8,'(0,2)',fontsize=12)\n",
    "ax.text(4/3+0.1,8/3-0.1,'(4/3,8/3)',fontsize=12)\n",
    "ax.text(4-0.2,0+0.2,'(4,0)',fontsize=12)\n",
    "ax.fill_between(x,0,min_y_z,where=(x >= 0),facecolor=\"green\", alpha=0.2,label=\"Feasible Region\")\n",
    "ax.legend(loc='upper right',fontsize=12)\n",
    "ax.grid()"
   ]
  },
  {
   "cell_type": "code",
   "execution_count": 15,
   "id": "cb38b408",
   "metadata": {
    "scrolled": true
   },
   "outputs": [
    {
     "data": {
      "image/png": "[encoded data removed]",
      "text/plain": [
       "<Figure size 288x288 with 1 Axes>"
      ]
     },
     "metadata": {
      "needs_background": "light"
     },
     "output_type": "display_data"
    }
   ],
   "source": [
    "fig, ax = plt.subplots(figsize=(4, 4))\n",
    "x = np.linspace(-1,3/2,100)\n",
    "y =x+1\n",
    "z= -2*x+3\n",
    "min_y_z=[]\n",
    "for i in range(len(y)):\n",
    "    min_y_z.append(min([y[i],z[i]]))\n",
    "min_y_z=np.array(min_y_z)\n",
    "ax.plot(x, y, '-r', label='$x_1-2x_2 = -1$')\n",
    "ax.plot(x, z, '-y', label='$-2x_1-x_2 = -3$')\n",
    "ax.plot([0,3/2,2/3,0,0,-1],[0,0,5/3,3,1,0],'o')\n",
    "ax.axhline(y=0, xmin=-4, xmax=4)\n",
    "ax.axvline(x=0, ymin=0, ymax=8)\n",
    "\n",
    "ax.set_xlabel('$x_1$',fontsize=12)\n",
    "ax.set_ylabel('$x_2$',fontsize=12)\n",
    "ax.set_title('Graph',fontsize=12)\n",
    "ax.text(0,0,'(0,0)',fontsize=12)\n",
    "ax.text(3/2,0,'(3/2,0)',fontsize=12)\n",
    "ax.text(2/3+0.1,5/3-0.1,'(2/3,5/3)',fontsize=12)\n",
    "ax.text(0-0.2,3+0.2,'(0,3)',fontsize=12)\n",
    "ax.text(0-0.2,1+0.2,'(0,1)',fontsize=12)\n",
    "ax.text(-1-0.2,0+0.2,'(-1,0)',fontsize=12)\n",
    "ax.fill_between(x,0,min_y_z,where=(x >= 0),facecolor=\"green\", alpha=0.2,label=\"Feasible Region\")\n",
    "ax.legend(loc='upper right',fontsize=12)\n",
    "ax.grid()"
   ]
  },
  {
   "cell_type": "markdown",
   "id": "cc069914",
   "metadata": {},
   "source": [
    "<hr>"
   ]
  },
  {
   "cell_type": "markdown",
   "id": "1b7b8536",
   "metadata": {},
   "source": [
    "# Exercise："
   ]
  },
  {
   "cell_type": "markdown",
   "id": "515b10da",
   "metadata": {},
   "source": [
    "We consider the following LP:\n",
    "\n",
    "$$\n",
    "(P)\\begin{array}{rl}\n",
    "\\max & 3x_1+5x_2\\\\\n",
    "s.t.   & x_1+x_3=4\\\\\n",
    "       & 2x_2+x_4=12\\\\\n",
    "       & 3x_1+2x_2+x_5=18\\\\\n",
    "       & x_1,x_2,x_3,x_4,x_5 \\geq 0\\\\\n",
    "\\end{array}\n",
    "$$\n",
    "\n",
    "$$\n",
    "\\begin{array}{rl}\n",
    "\\min & 4y_1+12y_2+18y_3\\\\\n",
    "s.t. & y_1+3y_3 \\geq 3\\\\\n",
    "& 2y_2+2y_3\\geq 5\\\\\n",
    "&y_1,y_2,y_3\\geq 0\n",
    "\\end{array}\n",
    "$$"
   ]
  },
  {
   "cell_type": "markdown",
   "id": "fc3e2be9",
   "metadata": {},
   "source": [
    "The feasible domain can be plotted as \n",
    "\n",
    "<img src=\"http://140.116.53.170/classes/numericalOptimization/KKTConditions/figure001.png\" width=\"600\" alt=\"Given Information\">\n",
    "\n",
    "<center>\n",
    "The feasible domain in $\\mathbb{R}^2$\n",
    "</center>"
   ]
  },
  {
   "cell_type": "code",
   "execution_count": null,
   "id": "92a80acf",
   "metadata": {},
   "outputs": [],
   "source": []
  }
 ],
 "metadata": {
  "kernelspec": {
   "display_name": "Python 3 (ipykernel)",
   "language": "python",
   "name": "python3"
  },
  "language_info": {
   "codemirror_mode": {
    "name": "ipython",
    "version": 3
   },
   "file_extension": ".py",
   "mimetype": "text/x-python",
   "name": "python",
   "nbconvert_exporter": "python",
   "pygments_lexer": "ipython3",
   "version": "3.11.4"
  }
 },
 "nbformat": 4,
 "nbformat_minor": 5
}
