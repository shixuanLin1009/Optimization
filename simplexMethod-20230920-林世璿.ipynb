{
 "cells": [
  {
   "cell_type": "code",
   "execution_count": 1,
   "id": "c445a1fc",
   "metadata": {},
   "outputs": [],
   "source": [
    "import numpy as np"
   ]
  },
  {
   "cell_type": "markdown",
   "id": "a37f010a",
   "metadata": {},
   "source": [
    "<ol>\n",
    "    <li>Ace Novelty Company has determined that the profit for each Type A, Type B, and Type C souvenir that it plans to produce is 6 dollars, 5 dollars, and 4 dollars, respectively.</li>\n",
    "\n",
    "<li>To manufacture a Type A souvenir requires 2 minutes on Machine I, 1 minute on Machine II, and 2 minutes on Machine III. A Type B souvenir requires 1 minute on Machine I, 3 minutes on Machine II, and 1 minute on Machine III.</li>\n",
    "\n",
    "<li>A Type C souvenir requires 1 minute on Machine I and 2 minutes on each of Machines II and III.</li>\n",
    "\n",
    "<li>Each day, there are 3 hours available on Machine I, 5 hours available on Machine II, and 4 hours available on Machine III for manufacturing these souvenirs.</li>\n",
    "\n",
    "<li>How many souvenirs of each type should Ace Novelty make per day to maximize its profit?</li>\n",
    "</ol>"
   ]
  },
  {
   "cell_type": "markdown",
   "id": "51f91c07",
   "metadata": {},
   "source": [
    "The given information is tabulated as follows:\n",
    "\n",
    "<img src=\"http://140.116.53.170/classes/numericalOptimization/simplexMethods/ch4-p64.png\" width=\"600\" alt=\"Given Information\">\n"
   ]
  },
  {
   "cell_type": "markdown",
   "id": "c53a9a19",
   "metadata": {},
   "source": [
    "Solution:\n",
    "\n",
    "<ol>\n",
    "    <li>Let $x$, $y$, and $z$ denote the respective numbers of Type A, Type B, and Type C souvenirs to be made.</li>\n",
    "    <li>The total amount of time that Machine I is used is given by $2x + y + z$ minutes and must not exceed 180 minutes.</li>\n",
    "    <li>Thus, we have the inequality\n",
    "    $$\n",
    "    2x+y+z \\leq 180\n",
    "    $$</li>\n",
    "    <li>Similar considerations on the use of Machines II and III lead to the inequalities\n",
    "    $$\n",
    "    x+3y+2z \\leq 300\n",
    "    $$\n",
    "    $$\n",
    "    2x+y+2z \\leq 240\n",
    "    $$</li>\n",
    "\n",
    "<li>The profit resulting from the sale of the souvenirs produced is given by\n",
    "    $$\n",
    "    P = 6x + 5y + 4z\n",
    "    $$</li>\n",
    "<li>The mathematical formulation of this problem leads to the following standard linear programming problem: Maximize the objective (profit) function $P = 6x + 5y + 4z$  subject to\n",
    "    $$\n",
    "    2x + y + z \\leq 180\n",
    "    $$\n",
    "    $$\n",
    "    x + 3y + 2z \\leq 300\n",
    "    $$\n",
    "    $$\n",
    "    2x + y + 2z \\leq 240\n",
    "    $$\n",
    "    $$\n",
    "    x \\geq 0 ,y \\geq 0 ,z \\geq 0\n",
    "    $$</li>\n",
    "\n",
    "<li>Introducing the slack variables u, v, and w gives the system of linear equations\n",
    "    $$\n",
    "    P-6x-5y-4z= 0\n",
    "    $$\n",
    "    $$\n",
    "    2x + y + z + u = 180\n",
    "    $$\n",
    "    $$\n",
    "    x + 3y + 2z + v = 300\n",
    "    $$\n",
    "    $$\n",
    "    2x + y + 2z + w = 240\n",
    "    $$\n",
    "    </li>\n",
    "</ol>"
   ]
  },
  {
   "cell_type": "markdown",
   "id": "8b69e74e",
   "metadata": {},
   "source": [
    "# Simplex Tableau\n",
    "# Step 0:"
   ]
  },
  {
   "cell_type": "markdown",
   "id": "18e874e6",
   "metadata": {},
   "source": [
    "$$\n",
    "\\begin{array}{rrrrrrr|c}\n",
    "    P  & x   & y   & z   & u & v & w & RHS\\\\\n",
    "    \\hline\n",
    "    1  & -6 & -5 & -4 & 0 & 0 & 0 &  0 \\\\\n",
    "    \\hline\n",
    "    0  & 2   & 1   & 1   & 1 & 0 & 0 &  180 \\\\\n",
    "    0  & 1   & 3   & 2   & 0 & 1 & 0 &  300 \\\\\n",
    "    0  & 2   & 0   & 2   & 0 & 0 & 1 &  240 \\\\\n",
    "\\end{array}\n",
    "$$"
   ]
  },
  {
   "cell_type": "markdown",
   "id": "89371910",
   "metadata": {},
   "source": [
    "# Step 1:"
   ]
  },
  {
   "cell_type": "markdown",
   "id": "961324ad",
   "metadata": {},
   "source": [
    "$$\n",
    "{\\frac{1}{2}R_{1}\\atop \\longrightarrow}\n",
    "\\begin{array}{rrrrrrr|c}\n",
    "    P  & x   & y   & z   & u & v & w & RHS\\\\\n",
    "    \\hline\n",
    "    1  & -6 & -5 & -4 & 0 & 0 & 0 &  0 \\\\\n",
    "    \\hline\n",
    "    0  & 1   & 1/2   & 1/2   & 1/2 & 0 & 0 &  90 \\\\\n",
    "    0  & 1   & 3   & 2   & 0 & 1 & 0 &  300 \\\\\n",
    "    0  & 2   & 0   & 2   & 0 & 0 & 1 &  240 \\\\\n",
    "\\end{array}\n",
    "$$"
   ]
  },
  {
   "cell_type": "markdown",
   "id": "33794788",
   "metadata": {},
   "source": [
    "# Step 2:"
   ]
  },
  {
   "cell_type": "markdown",
   "id": "c2e951dd",
   "metadata": {},
   "source": [
    "$$\n",
    "{R_{0}+6R_{1}\\atop \\longrightarrow}\n",
    "\\begin{array}{rrrrrrr|c}\n",
    "    P  & x   & y   & z   & u & v & w & RHS\\\\\n",
    "    \\hline\n",
    "    1  & 0 & -2 & -1 & 3 & 0 & 0 &  540 \\\\\n",
    "    \\hline\n",
    "    0  & 1   & 1/2   & 1/2   & 1/2 & 0 & 0 &  90 \\\\\n",
    "    0  & 1   & 3   & 2   & 0 & 1 & 0 &  300 \\\\\n",
    "    0  & 2   & 0   & 2   & 0 & 0 & 1 &  240 \\\\\n",
    "\\end{array}\n",
    "$$"
   ]
  },
  {
   "cell_type": "markdown",
   "id": "9291ff01",
   "metadata": {},
   "source": [
    "# Step 3:"
   ]
  },
  {
   "cell_type": "markdown",
   "id": "6eb897e1",
   "metadata": {},
   "source": [
    "$$\n",
    "{R_{2}-R_{1}\\atop \\longrightarrow}\n",
    "\\begin{array}{rrrrrrr|c}\n",
    "    P  & x   & y   & z   & u & v & w & RHS\\\\\n",
    "    \\hline\n",
    "    1  & 0 & -2 & -1 & 3 & 0 & 0 &  540 \\\\\n",
    "    \\hline\n",
    "    0  & 1   & 1/2   & 1/2   & 1/2 & 0 & 0 &  90 \\\\\n",
    "    0  & 0   & 5/2   & 3/2   & -1/2 & 1 & 0 &  210 \\\\\n",
    "    0  & 2   & 0   & 2   & 0 & 0 & 1 &  240 \\\\\n",
    "\\end{array}\n",
    "$$"
   ]
  },
  {
   "cell_type": "markdown",
   "id": "9839f1c2",
   "metadata": {},
   "source": [
    "# Step 4:"
   ]
  },
  {
   "cell_type": "markdown",
   "id": "13a76b68",
   "metadata": {},
   "source": [
    "$$\n",
    "{R_{3}-2R_{1}\\atop \\longrightarrow}\n",
    "\\begin{array}{rrrrrrr|c}\n",
    "    P  & x   & y   & z   & u & v & w & RHS\\\\\n",
    "    \\hline\n",
    "    1  & 0 & -2 & -1 & 3 & 0 & 0 &  540 \\\\\n",
    "    \\hline\n",
    "    0  & 1   & 1/2   & 1/2   & 1/2 & 0 & 0 &  90 \\\\\n",
    "    0  & 0   & 5/2   & 3/2   & -1/2 & 1 & 0 &  210 \\\\\n",
    "    0  & 0   & -1   & 1   & -1 & 0 & 1 &  60 \\\\\n",
    "\\end{array}\n",
    "$$"
   ]
  },
  {
   "cell_type": "markdown",
   "id": "fe406e6b",
   "metadata": {},
   "source": [
    "# Step 5:"
   ]
  },
  {
   "cell_type": "markdown",
   "id": "808acdd4",
   "metadata": {},
   "source": [
    "$$\n",
    "{\\frac{2}{5}R_{3}\\atop \\longrightarrow}\n",
    "\\begin{array}{rrrrrrr|c}\n",
    "    P  & x   & y   & z   & u & v & w & RHS\\\\\n",
    "    \\hline\n",
    "    1  & 0 & -2 & -1 & 3 & 0 & 0 &  540 \\\\\n",
    "    \\hline\n",
    "    0  & 1   & 1/2   & 1/2   & 1/2 & 0 & 0 &  90 \\\\\n",
    "    0  & 0   & 1   & 3/5   & -1/5 & 2/5 & 0 &  84 \\\\\n",
    "    0  & 0   & 0   & 1   & -1 & 0 & 1 &  60 \\\\\n",
    "\\end{array}\n",
    "$$"
   ]
  },
  {
   "cell_type": "markdown",
   "id": "677aa1bc",
   "metadata": {},
   "source": [
    "# Step 6:"
   ]
  },
  {
   "cell_type": "markdown",
   "id": "7018204c",
   "metadata": {},
   "source": [
    "$$\n",
    "{R_{1}-\\frac{1}{2}R_{2}\\atop \\longrightarrow}\n",
    "\\begin{array}{rrrrrrr|c}\n",
    "    P  & x   & y   & z   & u & v & w & RHS\\\\\n",
    "    \\hline\n",
    "    1  & 0 & 0 & 1/5 & 13/5 & 4/5 & 0 &  708 \\\\\n",
    "    \\hline\n",
    "    0  & 1   & 0   & 1/5   & 3/5 & -1/5 & 0 &  48 \\\\\n",
    "    0  & 0   & 1   & 3/5   & -1/5 & 2/5 & 0 &  84 \\\\\n",
    "    0  & 0   & 0   & 1   & -1 & 0 & 1 &  60 \\\\\n",
    "\\end{array}\n",
    "$$"
   ]
  },
  {
   "cell_type": "markdown",
   "id": "629be1ef",
   "metadata": {},
   "source": [
    "Let us go back to the initial step.\n",
    "$$\n",
    "\\begin{array}{rrrrrrr|c}\n",
    "    P  & x   & y   & z   & u & v & w & RHS\\\\\n",
    "    \\hline\n",
    "    1  & -6 & -5 & -4 & 0 & 0 & 0 &  0 \\\\\n",
    "    \\hline\n",
    "    0  & 2   & 1   & 1   & 1 & 0 & 0 &  180 \\\\\n",
    "    0  & 1   & 3   & 2   & 0 & 1 & 0 &  300 \\\\\n",
    "    0  & 2   & 0   & 2   & 0 & 0 & 1 &  240 \\\\\n",
    "\\end{array}\n",
    "$$\n",
    "We store the initial tableau in a matrix $A$. Only values are stored in $A$."
   ]
  },
  {
   "cell_type": "code",
   "execution_count": 2,
   "id": "0ce85a30",
   "metadata": {},
   "outputs": [],
   "source": [
    "#Please input A\n",
    "A=np.zeros((4,8))\n",
    "A[0,0]=1\n",
    "A[0,1]=-6\n",
    "A[0,2]=-5\n",
    "A[0,3]=-4\n",
    "A[1,1]=2\n",
    "A[1,2]=1\n",
    "A[1,3]=1\n",
    "A[1,4]=1\n",
    "A[1,7]=180\n",
    "A[2,1]=1\n",
    "A[2,2]=3\n",
    "A[2,3]=2\n",
    "A[2,4]=0\n",
    "A[2,5]=1\n",
    "A[2,7]=300\n",
    "A[3,1]=2\n",
    "A[3,2]=1\n",
    "A[3,3]=2\n",
    "A[3,6]=1\n",
    "A[3,7]=240"
   ]
  },
  {
   "cell_type": "code",
   "execution_count": 3,
   "id": "baf6937d",
   "metadata": {},
   "outputs": [
    {
     "name": "stdout",
     "output_type": "stream",
     "text": [
      "[[  1.  -6.  -5.  -4.   0.   0.   0.   0.]\n",
      " [  0.   2.   1.   1.   1.   0.   0. 180.]\n",
      " [  0.   1.   3.   2.   0.   1.   0. 300.]\n",
      " [  0.   2.   1.   2.   0.   0.   1. 240.]]\n"
     ]
    }
   ],
   "source": [
    "print(A)"
   ]
  },
  {
   "cell_type": "markdown",
   "id": "79d86468",
   "metadata": {},
   "source": [
    "To perform any of the three row operations on a matrix $A$, it suffices to take the product  $E_1A$, \n",
    "where $E_1$ is the elementary matrix obtained by using the desired row operation on the identity matrix.\n",
    "\n",
    "# Multiplication by a Scalar and Elementary Matrices\n",
    "\n",
    "Let $E^1_{i,k}$ denote the elementary matrix corresponding to the row operation in which the $i^{th}$ \n",
    "row is multiplied by the nonzero scalar, $k$. Then\n",
    "$$E^1_{i,k}A=B$$ \n",
    "where $B$ is obtained from $A$ by multiplying the $i^{th}$ row of $A$ by $k$.\n",
    "\n",
    "We define this elementary matrix as follows:"
   ]
  },
  {
   "cell_type": "code",
   "execution_count": 4,
   "id": "56e67357",
   "metadata": {},
   "outputs": [],
   "source": [
    "import numpy as np\n",
    "np.set_printoptions(precision=3,suppress=True)\n",
    "def E1(A,i,k):\n",
    "    m=len(A)\n",
    "    n=len(A[0,:])\n",
    "    I=np.identity(m)\n",
    "    I[i,i]=k\n",
    "    return I.dot(A)"
   ]
  },
  {
   "cell_type": "markdown",
   "id": "1ca46e3d",
   "metadata": {},
   "source": [
    "# Adding Multiples of Rows and Elementary Matrices\n",
    "Let  $E^2_{i,j,k}$ denote the elementary matrix obtained from $I$ by adding $k$\n",
    "times the $i^{th}$ row to the $j^{th}$. Then\n",
    "$$\n",
    "E^{2}_{i,j,k} A=B\n",
    "$$ \n",
    "where $B$ is obtained from $A$ by adding $k$ times the $i^{th}$ row to the $j^{th}$ row of $A$."
   ]
  },
  {
   "cell_type": "code",
   "execution_count": 5,
   "id": "e1a08368",
   "metadata": {},
   "outputs": [],
   "source": [
    "def E2(A,i,j,k):\n",
    "    m=len(A)\n",
    "    n=len(A[0,:])\n",
    "    I=np.identity(m)\n",
    "    I[j,i]=k\n",
    "    return I.dot(A)"
   ]
  },
  {
   "cell_type": "code",
   "execution_count": 6,
   "id": "0ac4f567",
   "metadata": {},
   "outputs": [],
   "source": [
    "np.set_printoptions(precision=3,suppress=True)"
   ]
  },
  {
   "cell_type": "markdown",
   "id": "b44eb80e",
   "metadata": {},
   "source": [
    "Then we obtain the matrix in Step 4:"
   ]
  },
  {
   "cell_type": "code",
   "execution_count": 7,
   "id": "bb94defd",
   "metadata": {},
   "outputs": [],
   "source": [
    "#Use E1 and E2 to obtain the matrix in Step 4:\n"
   ]
  },
  {
   "cell_type": "markdown",
   "id": "171c5a59",
   "metadata": {},
   "source": [
    "$$\n",
    "\\begin{array}{rrrrrrr|c}\n",
    "    P  & x   & y   & z   & u & v & w & RHS\\\\\n",
    "    \\hline\n",
    "    1  & -6 & -5 & -4 & 0 & 0 & 0 &  0 \\\\\n",
    "    \\hline\n",
    "    0  & 2   & 1   & 1   & 1 & 0 & 0 &  180 \\\\\n",
    "    0  & 1   & 3   & 2   & 0 & 1 & 0 &  300 \\\\\n",
    "    0  & 2   & 0   & 2   & 0 & 0 & 1 &  240 \\\\\n",
    "\\end{array}\n",
    "\\Rightarrow\n",
    "\\begin{array}{rrrrrrr|c}\n",
    "    P  & x   & y   & z   & u & v & w & RHS\\\\\n",
    "    \\hline\n",
    "    1  & -13/3 & 0 & -2/3 & 0 & 5/3 & 0 &  500 \\\\\n",
    "    \\hline\n",
    "    0  & 5/3   & 0   & 1/3   & 1 & -1/3 & 0 &  80 \\\\\n",
    "    0  & 1/3   & 1   & 2/3   & 0 & 1/3 & 0 &  100 \\\\\n",
    "    0  & 2   & 0   & 2   & 0 & 0 & 1 &  240 \\\\\n",
    "\\end{array}\n",
    "$$"
   ]
  },
  {
   "cell_type": "code",
   "execution_count": 8,
   "id": "5d293eeb",
   "metadata": {},
   "outputs": [],
   "source": [
    "#Use E1 and E2 to obtain the above matrix:\n"
   ]
  },
  {
   "cell_type": "markdown",
   "id": "9261379e",
   "metadata": {},
   "source": [
    "<table class=\"table table-bordered table-hover \"><tbody><tr>\n",
    "<th></th><th style=\"text-align:center\">Z </th><th style=\"text-align:center\">$x_1$ </th><th style=\"text-align:center\">$x_2$ </th><th style=\"text-align:center\">$x_3$ </th><th style=\"text-align:center\">$x_4$ </th><th style=\"text-align:center\">$x_5$ </th><th style=\"text-align:center\">$x_6$ </th><th style=\"text-align:center\">RHS </th></tr> \n",
    "<tr><td style=\"text-align:center\">Z </td><td style=\"text-align:center\">1 </td><td style=\"text-align:center\">-6 </td><td style=\"text-align:center\">-5 </td><td style=\"text-align:center\">-4 </td><td style=\"text-align:center\">0 </td><td style=\"text-align:center\">0 </td><td style=\"text-align:center\">0 </td><td style=\"text-align:center\">0 </td></tr> \n",
    "<tr><td style=\"text-align:center\">$x_4$ </td><td style=\"text-align:center\">0 </td><td style=\"text-align:center\">2 </td><td style=\"text-align:center\">1 </td><td style=\"text-align:center\">1 </td><td style=\"text-align:center\">1 </td><td style=\"text-align:center\">0 </td><td style=\"text-align:center\">0 </td><td style=\"text-align:center\">180 </td></tr> \n",
    "<tr><td style=\"text-align:center\">$x_5$ </td><td style=\"text-align:center\">0 </td><td style=\"text-align:center\">1 </td><td style=\"text-align:center\">3 </td><td style=\"text-align:center\">2 </td><td style=\"text-align:center\">0 </td><td style=\"text-align:center\">1 </td><td style=\"text-align:center\">0 </td><td style=\"text-align:center\">300 </td></tr> \n",
    "<tr><td style=\"text-align:center\">$x_6$ </td><td style=\"text-align:center\">0 </td><td style=\"text-align:center\">2 </td><td style=\"text-align:center\">0 </td><td style=\"text-align:center\">2 </td><td style=\"text-align:center\">0 </td><td style=\"text-align:center\">0 </td><td style=\"text-align:center\">1 </td><td style=\"text-align:center\">240 </td></tr> \n",
    "</tbody></table>\n",
    "The value of reduced cost of the variable x_1  is  84\n",
    "The value of minimum ratio test is the minimum of {  90  300  120  } =  90 .\n",
    "Hence the variable x_4 should leave the basis.\n",
    " \n",
    " \n",
    " \n",
    "<table class=\"table table-bordered table-hover \"><tbody><tr>\n",
    "<th></th><th style=\"text-align:center\">Z </th><th style=\"text-align:center\">$x_1$ </th><th style=\"text-align:center\">$x_2$ </th><th style=\"text-align:center\">$x_3$ </th><th style=\"text-align:center\">$x_4$ </th><th style=\"text-align:center\">$x_5$ </th><th style=\"text-align:center\">$x_6$ </th><th style=\"text-align:center\">RHS </th></tr> \n",
    "<tr><td style=\"text-align:center\">Z </td><td style=\"text-align:center\">1 </td><td style=\"text-align:center\">0 </td><td style=\"text-align:center\">-2 </td><td style=\"text-align:center\">-1 </td><td style=\"text-align:center\">3 </td><td style=\"text-align:center\">0 </td><td style=\"text-align:center\">0 </td><td style=\"text-align:center\">540 </td></tr> \n",
    "<tr><td style=\"text-align:center\">$x_1$ </td><td style=\"text-align:center\">0 </td><td style=\"text-align:center\">1 </td><td style=\"text-align:center\">1/2 </td><td style=\"text-align:center\">1/2 </td><td style=\"text-align:center\">1/2 </td><td style=\"text-align:center\">0 </td><td style=\"text-align:center\">0 </td><td style=\"text-align:center\">90 </td></tr> \n",
    "<tr><td style=\"text-align:center\">$x_5$ </td><td style=\"text-align:center\">0 </td><td style=\"text-align:center\">0 </td><td style=\"text-align:center\">5/2 </td><td style=\"text-align:center\">3/2 </td><td style=\"text-align:center\">0 </td><td style=\"text-align:center\">1 </td><td style=\"text-align:center\">0 </td><td style=\"text-align:center\">210 </td></tr> \n",
    "<tr><td style=\"text-align:center\">$x_6$ </td><td style=\"text-align:center\">0 </td><td style=\"text-align:center\">0 </td><td style=\"text-align:center\">0 </td><td style=\"text-align:center\">1 </td><td style=\"text-align:center\">0 </td><td style=\"text-align:center\">0 </td><td style=\"text-align:center\">1 </td><td style=\"text-align:center\">60 </td></tr> \n",
    "</tbody></table>\n",
    "The value of reduced cost of the variable x_2  is  90\n",
    "The value of minimum ratio test is the minimum of {  180  84  --  } =  84 .\n",
    "Hence the variable x_5 should leave the basis.\n",
    " \n",
    " \n",
    " \n",
    "<table class=\"table table-bordered table-hover \"><tbody><tr>\n",
    "<th></th><th style=\"text-align:center\">Z </th><th style=\"text-align:center\">$x_1$ </th><th style=\"text-align:center\">$x_2$ </th><th style=\"text-align:center\">$x_3$ </th><th style=\"text-align:center\">$x_4$ </th><th style=\"text-align:center\">$x_5$ </th><th style=\"text-align:center\">$x_6$ </th><th style=\"text-align:center\">RHS </th></tr> \n",
    "<tr><td style=\"text-align:center\">Z </td><td style=\"text-align:center\">1 </td><td style=\"text-align:center\">0 </td><td style=\"text-align:center\">0 </td><td style=\"text-align:center\">1/5 </td><td style=\"text-align:center\">13/5 </td><td style=\"text-align:center\">4/5 </td><td style=\"text-align:center\">0 </td><td style=\"text-align:center\">708 </td></tr> \n",
    "<tr><td style=\"text-align:center\">$x_1$ </td><td style=\"text-align:center\">0 </td><td style=\"text-align:center\">1 </td><td style=\"text-align:center\">0 </td><td style=\"text-align:center\">1/5 </td><td style=\"text-align:center\">3/5 </td><td style=\"text-align:center\">0 </td><td style=\"text-align:center\">0 </td><td style=\"text-align:center\">48 </td></tr> \n",
    "<tr><td style=\"text-align:center\">$x_2$ </td><td style=\"text-align:center\">0 </td><td style=\"text-align:center\">0 </td><td style=\"text-align:center\">1 </td><td style=\"text-align:center\">3/5 </td><td style=\"text-align:center\">0 </td><td style=\"text-align:center\">2/5 </td><td style=\"text-align:center\">0 </td><td style=\"text-align:center\">84 </td></tr> \n",
    "<tr><td style=\"text-align:center\">$x_6$ </td><td style=\"text-align:center\">0 </td><td style=\"text-align:center\">0 </td><td style=\"text-align:center\">0 </td><td style=\"text-align:center\">8/5 </td><td style=\"text-align:center\">0 </td><td style=\"text-align:center\">2/5 </td><td style=\"text-align:center\">1 </td><td style=\"text-align:center\">144 </td></tr> \n",
    "</tbody></table>\n",
    "The reduced cost vector is nonnegative.\n",
    "The optimal solution is (  x_1   x_2   x_3   x_4   x_5   x_6  ) = ( 48.00   84.00   0   0   0   144.00  )"
   ]
  },
  {
   "cell_type": "markdown",
   "id": "0d8118a6",
   "metadata": {},
   "source": [
    "<img src=\"http://140.116.53.170/classes/numericalOptimization/simplexMethods/figure001.png\" width=\"600\" alt=\"Given Information\">\n"
   ]
  },
  {
   "cell_type": "markdown",
   "id": "1871c762",
   "metadata": {},
   "source": [
    "$$\n",
    "\\begin{array}{rl}\n",
    "\\max & 3x_1+5x_2\\\\\n",
    "s.t. & x_1 \\leq  4\\\\\n",
    "~& 2 x_2 \\leq 12\\\\\n",
    "~& 3x_1+2 x_2 \\leq 18\\\\\n",
    "~& x_1\\geq 0,~x_2\\geq 0\\\\\n",
    "\\end{array}\n",
    "$$"
   ]
  },
  {
   "cell_type": "markdown",
   "id": "7cadce05",
   "metadata": {},
   "source": [
    "<h2>Simplex Tableau</h2>\n",
    "<p>Setp 0:</p>\n",
    "<table class=\"table table-bordered table-hover \"><tbody><tr>\n",
    "<th></th><th style=\"text-align:center\">Z </th><th style=\"text-align:center\">$x_1$ </th><th style=\"text-align:center\">$x_2$ </th><th style=\"text-align:center\">$x_3$ </th><th style=\"text-align:center\">$x_4$ </th><th style=\"text-align:center\">$x_5$ </th><th style=\"text-align:center\">RHS </th></tr> \n",
    "<tr><td style=\"text-align:center\">Z </td><td style=\"text-align:center\">1 </td><td style=\"text-align:center\">-3 </td><td style=\"text-align:center\">-5 </td><td style=\"text-align:center\">0 </td><td style=\"text-align:center\">0 </td><td style=\"text-align:center\">0 </td><td style=\"text-align:center\">0 </td></tr> \n",
    "<tr><td style=\"text-align:center\">$x_3$ </td><td style=\"text-align:center\">0 </td><td style=\"text-align:center\">1 </td><td style=\"text-align:center\">0 </td><td style=\"text-align:center\">1 </td><td style=\"text-align:center\">0 </td><td style=\"text-align:center\">0 </td><td style=\"text-align:center\">4 </td></tr> \n",
    "<tr><td style=\"text-align:center\">$x_4$ </td><td style=\"text-align:center\">0 </td><td style=\"text-align:center\">0 </td><td style=\"text-align:center\">2 </td><td style=\"text-align:center\">0 </td><td style=\"text-align:center\">1 </td><td style=\"text-align:center\">0 </td><td style=\"text-align:center\">12 </td></tr> \n",
    "<tr><td style=\"text-align:center\">$x_5$ </td><td style=\"text-align:center\">0 </td><td style=\"text-align:center\">3 </td><td style=\"text-align:center\">2 </td><td style=\"text-align:center\">0 </td><td style=\"text-align:center\">0 </td><td style=\"text-align:center\">1 </td><td style=\"text-align:center\">18 </td></tr> \n",
    "</tbody></table>\n",
    "<ul>\n",
    "<li>\n",
    "The value of reduced cost of the variable $x_2$ is -5.\n",
    "</li>\n",
    "<li>\n",
    "The value of minimum ratio test is the minimum of {--, 6, 9} = 6.\n",
    "</li>\n",
    "<li>\n",
    "Hence the variable $x_4$ should leave the basis.\n",
    "</li>\n",
    " \n",
    " \n",
    " \n",
    "</ul>\n",
    "<p>Setp 1:</p>\n",
    "<table class=\"table table-bordered table-hover \"><tbody><tr>\n",
    "<th></th><th style=\"text-align:center\">Z </th><th style=\"text-align:center\">$x_1$ </th><th style=\"text-align:center\">$x_2$ </th><th style=\"text-align:center\">$x_3$ </th><th style=\"text-align:center\">$x_4$ </th><th style=\"text-align:center\">$x_5$ </th><th style=\"text-align:center\">RHS </th></tr> \n",
    "<tr><td style=\"text-align:center\">Z </td><td style=\"text-align:center\">1 </td><td style=\"text-align:center\">-3 </td><td style=\"text-align:center\">0 </td><td style=\"text-align:center\">0 </td><td style=\"text-align:center\">5/2 </td><td style=\"text-align:center\">0 </td><td style=\"text-align:center\">30 </td></tr> \n",
    "<tr><td style=\"text-align:center\">$x_3$ </td><td style=\"text-align:center\">0 </td><td style=\"text-align:center\">1 </td><td style=\"text-align:center\">0 </td><td style=\"text-align:center\">1 </td><td style=\"text-align:center\">0 </td><td style=\"text-align:center\">0 </td><td style=\"text-align:center\">4 </td></tr> \n",
    "<tr><td style=\"text-align:center\">$x_2$ </td><td style=\"text-align:center\">0 </td><td style=\"text-align:center\">0 </td><td style=\"text-align:center\">1 </td><td style=\"text-align:center\">0 </td><td style=\"text-align:center\">1/2 </td><td style=\"text-align:center\">0 </td><td style=\"text-align:center\">6 </td></tr> \n",
    "<tr><td style=\"text-align:center\">$x_5$ </td><td style=\"text-align:center\">0 </td><td style=\"text-align:center\">3 </td><td style=\"text-align:center\">0 </td><td style=\"text-align:center\">0 </td><td style=\"text-align:center\">0 </td><td style=\"text-align:center\">1 </td><td style=\"text-align:center\">6 </td></tr> \n",
    "</tbody></table>\n",
    "<ul>\n",
    "<li>\n",
    "The value of reduced cost of the variable $x_1$ is -3.\n",
    "</li>\n",
    "<li>\n",
    "The value of minimum ratio test is the minimum of {4, --, 2} = 2.\n",
    "</li>\n",
    "<li>\n",
    "Hence the variable $x_5$ should leave the basis.\n",
    "</li>\n",
    " \n",
    " \n",
    " \n",
    "</ul>\n",
    "<p>Setp 2:</p>\n",
    "<table class=\"table table-bordered table-hover \"><tbody><tr>\n",
    "<th></th><th style=\"text-align:center\">Z </th><th style=\"text-align:center\">$x_1$ </th><th style=\"text-align:center\">$x_2$ </th><th style=\"text-align:center\">$x_3$ </th><th style=\"text-align:center\">$x_4$ </th><th style=\"text-align:center\">$x_5$ </th><th style=\"text-align:center\">RHS </th></tr> \n",
    "<tr><td style=\"text-align:center\">Z </td><td style=\"text-align:center\">1 </td><td style=\"text-align:center\">0 </td><td style=\"text-align:center\">0 </td><td style=\"text-align:center\">0 </td><td style=\"text-align:center\">3/2 </td><td style=\"text-align:center\">1 </td><td style=\"text-align:center\">36 </td></tr> \n",
    "<tr><td style=\"text-align:center\">$x_3$ </td><td style=\"text-align:center\">0 </td><td style=\"text-align:center\">0 </td><td style=\"text-align:center\">0 </td><td style=\"text-align:center\">1 </td><td style=\"text-align:center\">1/3 </td><td style=\"text-align:center\">0 </td><td style=\"text-align:center\">2 </td></tr> \n",
    "<tr><td style=\"text-align:center\">$x_2$ </td><td style=\"text-align:center\">0 </td><td style=\"text-align:center\">0 </td><td style=\"text-align:center\">1 </td><td style=\"text-align:center\">0 </td><td style=\"text-align:center\">1/2 </td><td style=\"text-align:center\">0 </td><td style=\"text-align:center\">6 </td></tr> \n",
    "<tr><td style=\"text-align:center\">$x_1$ </td><td style=\"text-align:center\">0 </td><td style=\"text-align:center\">1 </td><td style=\"text-align:center\">0 </td><td style=\"text-align:center\">0 </td><td style=\"text-align:center\">0 </td><td style=\"text-align:center\">1/3 </td><td style=\"text-align:center\">2 </td></tr> \n",
    "</tbody></table>\n",
    "<ul>\n",
    "<li>\n",
    "The reduced cost vector is nonnegative.</li>\n",
    "<li>\n",
    "The optimal solution is ($x_1$, $x_2$, $x_3$, $x_4$, $x_5$) = (2.00, 6.00, 2.00, 0, 0)\n",
    "</li>\n",
    "</ul>"
   ]
  },
  {
   "cell_type": "markdown",
   "id": "6a14199b",
   "metadata": {},
   "source": [
    "# Exercise:"
   ]
  },
  {
   "cell_type": "markdown",
   "id": "d6ccd226",
   "metadata": {},
   "source": [
    "Economical Diet Proposal:\n",
    "<ol>\n",
    "<li> There are available 4 different foods at the market.</li>\n",
    "<li> There are 3 basic nutritional ingredients.</li>\n",
    "<li> In order to achieve a balanced diet, each individual must receive at least 800g, 90g, 50g of the first, second, third nutrient per day.</li>\n",
    "<li> The first, second, third, forth food are sold at prices 200NTD, 300NTD, 400NTD, 250NTD per unit.</li>\n",
    "<li> The relation between food and nutrient is describes as follows.</li>\n",
    "<li> Determine the most economical diet that satisfies the minimum nutritional requirements.</li>\n",
    "</ol>\n",
    "\n",
    "<table class=\"table table-bordered table-hover \"><tbody>\n",
    "    <tr>\n",
    "        <td style=\"text-align:center\"> </td>\n",
    "        <td style=\"text-align:center\">1 </td>\n",
    "        <td style=\"text-align:center\">2 </td>\n",
    "        <td style=\"text-align:center\">3 </td>\n",
    "        <td style=\"text-align:center\">4 </td>\n",
    "        <td style=\"text-align:center\">minimum requirements </td>    \n",
    "    </tr>\n",
    "    <tr>\n",
    "        <td style=\"text-align:center\">1</td>\n",
    "        <td style=\"text-align:center\">0.95 </td>\n",
    "        <td style=\"text-align:center\">0.85 </td>\n",
    "        <td style=\"text-align:center\">0.75 </td>\n",
    "        <td style=\"text-align:center\">0.99 </td>\n",
    "        <td style=\"text-align:center\">800 </td>    \n",
    "    </tr>\n",
    "    <tr>\n",
    "        <td style=\"text-align:center\">2</td>\n",
    "        <td style=\"text-align:center\">0.025 </td>\n",
    "        <td style=\"text-align:center\">0.1 </td>\n",
    "        <td style=\"text-align:center\">0.2 </td>\n",
    "        <td style=\"text-align:center\">0.01 </td>\n",
    "        <td style=\"text-align:center\">90</td>    \n",
    "    </tr>\n",
    "    <tr>\n",
    "        <td style=\"text-align:center\">3</td>\n",
    "        <td style=\"text-align:center\">0.025 </td>\n",
    "        <td style=\"text-align:center\">0.05 </td>\n",
    "        <td style=\"text-align:center\">0.05 </td>\n",
    "        <td style=\"text-align:center\">0 </td>\n",
    "        <td style=\"text-align:center\">50 </td>    \n",
    "    </tr>\n",
    "    <tr>\n",
    "        <td style=\"text-align:center\">Price of food </td>\n",
    "        <td style=\"text-align:center\">200</td>\n",
    "        <td style=\"text-align:center\">300</td>\n",
    "        <td style=\"text-align:center\">400</td>\n",
    "        <td style=\"text-align:center\">250</td>\n",
    "        <td style=\"text-align:center\"> </td>    \n",
    "    </tr>\n",
    "</tbody></table>"
   ]
  },
  {
   "cell_type": "markdown",
   "id": "de23555a",
   "metadata": {},
   "source": [
    "$$\n",
    "\\begin{array}{rl}\n",
    "\\min & 200x_1+300x_2+400x_3+250x_4\\\\\n",
    "s.t. & 0.95x_1+0.85x_2+0.75x_3+0.99x_4\\geq 800\\\\\n",
    "~& 0.025x_1+0.1x_2+0.2x_3+0.01x_4\\geq 90\\\\\n",
    "~& 0.025x_1+0.15x_2+0.05x_3\\geq 50\\\\\n",
    "~& x_1\\geq 0,~x_2\\geq 0,~x_3\\geq 0,~x_4\\geq 0\\\\\n",
    "\\end{array}\n",
    "$$\n",
    "\n",
    "$$\n",
    "\\begin{array}{rl}\n",
    "\\max & -200x_1-300x_2-400x_3-250x_4\\\\\n",
    "s.t. & 0.95x_1+0.85x_2+0.75x_3+0.99x_4\\geq 800\\\\\n",
    "~& 0.025x_1+0.1x_2+0.2x_3+0.01x_4\\geq 90\\\\\n",
    "~& 0.025x_1+0.15x_2+0.05x_3\\geq 50\\\\\n",
    "~& x_1\\geq 0,~x_2\\geq 0,~x_3\\geq 0,~x_4\\geq 0\\\\\n",
    "\\end{array}\n",
    "$$\n",
    "\n",
    "$$\n",
    "\\begin{array}{rl}\n",
    "\\max & -200x_1-300x_2-400x_3-250x_4\\\\\n",
    "s.t. & 0.95x_1+0.85x_2+0.75x_3+0.99x_4-s_1= 800\\\\\n",
    "~& 0.025x_1+0.1x_2+0.2x_3+0.01x_4-s_2= 90\\\\\n",
    "~& 0.025x_1+0.15x_2+0.05x_3-s_3= 50\\\\\n",
    "~& x_1\\geq 0,~x_2\\geq 0,~x_3\\geq 0,~x_4\\geq 0\\\\\n",
    "\\end{array}\n",
    "$$"
   ]
  },
  {
   "cell_type": "code",
   "execution_count": null,
   "id": "1bb797d1",
   "metadata": {},
   "outputs": [],
   "source": []
  }
 ],
 "metadata": {
  "kernelspec": {
   "display_name": "Python 3 (ipykernel)",
   "language": "python",
   "name": "python3"
  },
  "language_info": {
   "codemirror_mode": {
    "name": "ipython",
    "version": 3
   },
   "file_extension": ".py",
   "mimetype": "text/x-python",
   "name": "python",
   "nbconvert_exporter": "python",
   "pygments_lexer": "ipython3",
   "version": "3.11.4"
  }
 },
 "nbformat": 4,
 "nbformat_minor": 5
}
