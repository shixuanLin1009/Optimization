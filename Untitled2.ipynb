{
 "cells": [
  {
   "cell_type": "code",
   "execution_count": 5,
   "id": "e6ecb633",
   "metadata": {},
   "outputs": [],
   "source": [
    "from pulp import LpProblem as LP,LpVariable as LV,LpMaximize"
   ]
  },
  {
   "cell_type": "code",
   "execution_count": 9,
   "id": "415ac01e",
   "metadata": {},
   "outputs": [
    {
     "name": "stdout",
     "output_type": "stream",
     "text": [
      "Welcome to the CBC MILP Solver \n",
      "Version: 2.10.3 \n",
      "Build Date: Dec 15 2019 \n",
      "\n",
      "command line - /Users/jameslin/anaconda3/lib/python3.11/site-packages/pulp/solverdir/cbc/osx/64/cbc /var/folders/xf/rcmp69l176l3p_q7hs329k9w0000gn/T/e0a6bde931ed4219a3372e2df0f5c675-pulp.mps max timeMode elapsed branch printingOptions all solution /var/folders/xf/rcmp69l176l3p_q7hs329k9w0000gn/T/e0a6bde931ed4219a3372e2df0f5c675-pulp.sol (default strategy 1)\n",
      "At line 2 NAME          MODEL\n",
      "At line 3 ROWS\n",
      "At line 7 COLUMNS\n",
      "At line 13 RHS\n",
      "At line 16 BOUNDS\n",
      "At line 17 ENDATA\n",
      "Problem MODEL has 2 rows, 2 columns and 3 elements\n",
      "Coin0008I MODEL read with 0 errors\n",
      "Option for timeMode changed from cpu to elapsed\n",
      "Presolve 0 (-2) rows, 0 (-2) columns and 0 (-3) elements\n",
      "Empty problem - 0 rows, 0 columns and 0 elements\n",
      "Optimal - objective value 170\n",
      "After Postsolve, objective 170, infeasibilities - dual 0 (0), primal 0 (0)\n",
      "Optimal objective 170 - 0 iterations time 0.002, Presolve 0.00\n",
      "Option for printingOptions changed from normal to all\n",
      "Total time (CPU seconds):       0.00   (Wallclock seconds):       0.00\n",
      "\n"
     ]
    },
    {
     "data": {
      "text/plain": [
       "1"
      ]
     },
     "execution_count": 9,
     "metadata": {},
     "output_type": "execute_result"
    }
   ],
   "source": [
    "model = LP(name=\"homeworl\",sense=LpMaximize)\n",
    "#define decision variable\n",
    "a = LV(name=\"a\",lowBound=0)\n",
    "b = LV(name=\"b\",lowBound=0)\n",
    "#add constraints to model\n",
    "model.addConstraint(a<=50,\"C1\")\n",
    "model.addConstraint(a+b<=120,\"C2\")\n",
    "#set Objective\n",
    "model.setObjective(a*2+b)\n",
    "\n",
    "model.solve()\n"
   ]
  },
  {
   "cell_type": "code",
   "execution_count": 10,
   "id": "fe847ca4",
   "metadata": {},
   "outputs": [
    {
     "data": {
      "text/plain": [
       "170.0"
      ]
     },
     "execution_count": 10,
     "metadata": {},
     "output_type": "execute_result"
    }
   ],
   "source": [
    "model.objective.value()"
   ]
  },
  {
   "cell_type": "code",
   "execution_count": null,
   "id": "af524be2",
   "metadata": {},
   "outputs": [],
   "source": []
  }
 ],
 "metadata": {
  "kernelspec": {
   "display_name": "Python 3 (ipykernel)",
   "language": "python",
   "name": "python3"
  },
  "language_info": {
   "codemirror_mode": {
    "name": "ipython",
    "version": 3
   },
   "file_extension": ".py",
   "mimetype": "text/x-python",
   "name": "python",
   "nbconvert_exporter": "python",
   "pygments_lexer": "ipython3",
   "version": "3.11.4"
  }
 },
 "nbformat": 4,
 "nbformat_minor": 5
}
