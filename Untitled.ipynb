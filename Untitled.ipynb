{
 "cells": [
  {
   "cell_type": "code",
   "execution_count": 4,
   "id": "264a07c4",
   "metadata": {},
   "outputs": [],
   "source": [
    "A=[0,1,2,3,4,5,6]"
   ]
  },
  {
   "cell_type": "code",
   "execution_count": 11,
   "id": "aa1f33c4",
   "metadata": {},
   "outputs": [],
   "source": [
    "f = open(\"SimplexTabuleau.html\", \"w\")\n",
    "f.write('<html lang=\"en\">')\n",
    "f.write(\"<head>\")\n",
    "f.write(\"<title>Simplex Tableau</title>\")\n",
    "f.write('<meta charset=\"utf-8\">')\n",
    "f.write('<meta name=\"viewport\" content=\"width=device-width, initial-scale=1\">')\n",
    "f.write('<link href=\"https://cdn.jsdelivr.net/npm/bootstrap@5.3.1/dist/css/bootstrap.min.css\" rel=\"stylesheet\">')\n",
    "f.write('<script src=\"https://cdn.jsdelivr.net/npm/bootstrap@5.3.1/dist/js/bootstrap.bundle.min.js\"></script>')\n",
    "f.write('<script type=\"text/x-mathjax-config\">')\n",
    "f.write(\"MathJax.Hub.Config({tex2jax: {inlineMath: [['$','$'], ['\\\\(','\\\\)']]}});\")\n",
    "f.write(\"</script>\")\n",
    "f.write('<script type=\"text/javascript\"')\n",
    "f.write('src=\"http://cdn.mathjax.org/mathjax/latest/MathJax.js?config=TeX-AMS-MML_HTMLorMML\">')\n",
    "f.write(\"</script>\")\n",
    "f.write(\"</head>\")\n",
    "f.write(\"<body>\")\n",
    "\n",
    "f.write('<div class=\"container mt-3\">')\n",
    "f.write(\"<h2>Simplex Tableau</h2>\")\n",
    "f.write(\"<p>Setp 0:</p>\")\n",
    "f.write('<table class=\"table table-bordered table-hover \"><tbody><tr>')\n",
    "f.write('<th></th><th style=\"text-align:center\">Z </th><th style=\"text-align:center\">$x_1$ </th><th style=\"text-align:center\">$x_2$ </th><th style=\"text-align:center\">$x_3$ </th><th style=\"text-align:center\">$x_4$ </th><th style=\"text-align:center\">$x_5$ </th><th style=\"text-align:center\">RHS </th><th style=\"text-align:center\"> </th></tr> ')\n",
    "f.write('<tr><td style=\"text-align:center\">A[0]</td><td style=\"text-align:center\"> 1.00  </td><td style=\"text-align:center\"> -3.00  </td><td style=\"text-align:center\"> -5.00  </td><td style=\"text-align:center\"> 0.00  </td><td style=\"text-align:center\"> 0.00  </td><td style=\"text-align:center\"> 0.00  </td><td style=\"text-align:center\"> 0.00  </td><td style=\"text-align:center\"> </td></tr> ')\n",
    "f.write('<tr><td style=\"text-align:center\">$x_3$ </td><td style=\"text-align:center\"> 0.00  </td><td style=\"text-align:center\"> 1.00  </td><td style=\"text-align:center\"> 0.00  </td><td style=\"text-align:center\"> 1.00  </td><td style=\"text-align:center\"> 0.00  </td><td style=\"text-align:center\"> 0.00  </td><td style=\"text-align:center\"> 4.00  </td><td style=\"text-align:center\">-- </td></tr> ')\n",
    "f.write('<tr><td style=\"text-align:center\">$x_4$ </td><td style=\"text-align:center\"> 0.00  </td><td style=\"text-align:center\"> 0.00  </td><td style=\"text-align:center\"> 2.00  </td><td style=\"text-align:center\"> 0.00  </td><td style=\"text-align:center\"> 1.00  </td><td style=\"text-align:center\"> 0.00  </td><td style=\"text-align:center\"> 12.00  </td><td style=\"text-align:center\"> 6.00  </td></tr>') \n",
    "f.write('<tr><td style=\"text-align:center\">$x_5$ </td><td style=\"text-align:center\"> 0.00  </td><td style=\"text-align:center\"> 3.00  </td><td style=\"text-align:center\"> 2.00  </td><td style=\"text-align:center\"> 0.00  </td><td style=\"text-align:center\"> 0.00  </td><td style=\"text-align:center\"> 1.00  </td><td style=\"text-align:center\"> 18.00  </td><td style=\"text-align:center\"> 9.00  </td></tr> ')\n",
    "f.write(\"</tbody></table>\")\n",
    "f.write(\"<ul>\")\n",
    "f.write(\"<li>\")\n",
    "f.write(\"The value of reduced cost of the variable $x_2$ is -5.\")\n",
    "f.write(\"</li>\")\n",
    "f.write(\"<li>\")\n",
    "f.write(\"The value of minimum ratio test is the minimum of {--, 6, 9} = 6.\")\n",
    "f.write(\"</li>\")\n",
    "f.write(\"<li>\")\n",
    "f.write(\"Hence the variable $x_2$ should leave the basis.\")\n",
    "f.write(\"</li>\") \n",
    "f.write(\"</ul>\")\n",
    "f.close()"
   ]
  },
  {
   "cell_type": "code",
   "execution_count": 9,
   "id": "b477ce08",
   "metadata": {},
   "outputs": [],
   "source": [
    "f = open(\"SimplexTabuleau.html\", \"w\")\n",
    "f.write('<html lang=\"en\">')\n",
    "f.write(\"<head>\")\n",
    "f.write(\"<title>Simplex Tableau</title>\")\n",
    "f.write('<meta charset=\"utf-8\">')\n",
    "f.write('<meta name=\"viewport\" content=\"width=device-width, initial-scale=1\">')\n",
    "f.write('<link href=\"https://cdn.jsdelivr.net/npm/bootstrap@5.3.1/dist/css/bootstrap.min.css\" rel=\"stylesheet\">')\n",
    "f.write('<script src=\"https://cdn.jsdelivr.net/npm/bootstrap@5.3.1/dist/js/bootstrap.bundle.min.js\"></script>')\n",
    "f.write('<script type=\"text/x-mathjax-config\">')\n",
    "f.write(\"MathJax.Hub.Config({tex2jax: {inlineMath: [['$','$'], ['\\\\(','\\\\)']]}});\")\n",
    "f.write(\"</script>\")\n",
    "f.write('<script type=\"text/javascript\"')\n",
    "f.write('src=\"http://cdn.mathjax.org/mathjax/latest/MathJax.js?config=TeX-AMS-MML_HTMLorMML\">')\n",
    "f.write(\"</script>\")\n",
    "f.write(\"</head>\")\n",
    "f.write(\"<body>\")\n",
    "\n",
    "f.write('<div class=\"container mt-3\">')\n",
    "f.write(\"<h2>Simplex Tableau</h2>\")\n",
    "f.write(\"<p>Setp 0:</p>\")\n",
    "f.write('<table class=\"table table-bordered table-hover \"><tbody><tr>')\n",
    "f.write('<th></th><th style=\"text-align:center\">Z </th><th style=\"text-align:center\">$x_1$ </th><th style=\"text-align:center\">$x_2$ </th><th style=\"text-align:center\">$x_3$ </th><th style=\"text-align:center\">$x_4$ </th><th style=\"text-align:center\">$x_5$ </th><th style=\"text-align:center\">RHS </th><th style=\"text-align:center\"> </th></tr> ')\n",
    "f.write('<tr><td style=\"text-align:center\">A[0]</td><td style=\"text-align:center\"> 1.00  </td><td style=\"text-align:center\"> -3.00  </td><td style=\"text-align:center\"> -5.00  </td><td style=\"text-align:center\"> 0.00  </td><td style=\"text-align:center\"> 0.00  </td><td style=\"text-align:center\"> 0.00  </td><td style=\"text-align:center\"> 0.00  </td><td style=\"text-align:center\"> </td></tr> ')\n",
    "f.write('<tr><td style=\"text-align:center\">$x_3$ </td><td style=\"text-align:center\"> 0.00  </td><td style=\"text-align:center\"> 1.00  </td><td style=\"text-align:center\"> 0.00  </td><td style=\"text-align:center\"> 1.00  </td><td style=\"text-align:center\"> 0.00  </td><td style=\"text-align:center\"> 0.00  </td><td style=\"text-align:center\"> 4.00  </td><td style=\"text-align:center\">-- </td></tr> ')\n",
    "f.write('<tr><td style=\"text-align:center\">$x_4$ </td><td style=\"text-align:center\"> 0.00  </td><td style=\"text-align:center\"> 0.00  </td><td style=\"text-align:center\"> 2.00  </td><td style=\"text-align:center\"> 0.00  </td><td style=\"text-align:center\"> 1.00  </td><td style=\"text-align:center\"> 0.00  </td><td style=\"text-align:center\"> 12.00  </td><td style=\"text-align:center\"> 6.00  </td></tr>') \n",
    "f.write('<tr><td style=\"text-align:center\">$x_5$ </td><td style=\"text-align:center\"> 0.00  </td><td style=\"text-align:center\"> 3.00  </td><td style=\"text-align:center\"> 2.00  </td><td style=\"text-align:center\"> 0.00  </td><td style=\"text-align:center\"> 0.00  </td><td style=\"text-align:center\"> 1.00  </td><td style=\"text-align:center\"> 18.00  </td><td style=\"text-align:center\"> 9.00  </td></tr> ')\n",
    "f.write(\"</tbody></table>\")\n",
    "f.write(\"<ul>\")\n",
    "f.write(\"<li>\")\n",
    "f.write(\"The value of reduced cost of the variable $x_2$ is -5.\")\n",
    "f.write(\"</li>\")\n",
    "f.write(\"<li>\")\n",
    "f.write(\"The value of minimum ratio test is the minimum of {--, 6, 9} = 6.\")\n",
    "f.write(\"</li>\")\n",
    "f.write(\"<li>\")\n",
    "f.write(\"Hence the variable $x_2$ should leave the basis.\")\n",
    "f.write(\"</li>\") \n",
    "f.write(\"</ul>\")\n",
    "f.close()\n"
   ]
  },
  {
   "cell_type": "code",
   "execution_count": null,
   "id": "d953c8dd",
   "metadata": {},
   "outputs": [],
   "source": []
  },
  {
   "cell_type": "code",
   "execution_count": null,
   "id": "e6b9e5b1",
   "metadata": {},
   "outputs": [],
   "source": []
  }
 ],
 "metadata": {
  "kernelspec": {
   "display_name": "Python 3 (ipykernel)",
   "language": "python",
   "name": "python3"
  },
  "language_info": {
   "codemirror_mode": {
    "name": "ipython",
    "version": 3
   },
   "file_extension": ".py",
   "mimetype": "text/x-python",
   "name": "python",
   "nbconvert_exporter": "python",
   "pygments_lexer": "ipython3",
   "version": "3.11.4"
  }
 },
 "nbformat": 4,
 "nbformat_minor": 5
}
