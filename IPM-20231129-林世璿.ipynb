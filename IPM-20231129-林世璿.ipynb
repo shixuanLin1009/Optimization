{
 "cells": [
  {
   "cell_type": "code",
   "execution_count": 1,
   "id": "3c3334c4",
   "metadata": {},
   "outputs": [],
   "source": [
    "import numpy as np\n",
    "import pandas as pd\n",
    "import matplotlib.pyplot as plt"
   ]
  },
  {
   "cell_type": "markdown",
   "id": "159bde76",
   "metadata": {},
   "source": [
    "<img src=\"http://140.116.53.170/classes/numericalOptimization/InteriorPointMethods/figure000.png\" with=\"600\" heigh=\"400\">"
   ]
  },
  {
   "cell_type": "markdown",
   "id": "d56c5e57",
   "metadata": {},
   "source": [
    "<img src=\"http://140.116.53.170/classes/numericalOptimization/InteriorPointMethods/figure001.png\" with=\"600\" heigh=\"400\">"
   ]
  },
  {
   "cell_type": "markdown",
   "id": "8f237199",
   "metadata": {},
   "source": [
    "<img src=\"http://140.116.53.170/classes/numericalOptimization/InteriorPointMethods/figure002.png\" with=\"600\" heigh=\"400\">"
   ]
  },
  {
   "cell_type": "code",
   "execution_count": null,
   "id": "5bf314b1",
   "metadata": {},
   "outputs": [],
   "source": []
  }
 ],
 "metadata": {
  "kernelspec": {
   "display_name": "Python 3 (ipykernel)",
   "language": "python",
   "name": "python3"
  },
  "language_info": {
   "codemirror_mode": {
    "name": "ipython",
    "version": 3
   },
   "file_extension": ".py",
   "mimetype": "text/x-python",
   "name": "python",
   "nbconvert_exporter": "python",
   "pygments_lexer": "ipython3",
   "version": "3.11.4"
  }
 },
 "nbformat": 4,
 "nbformat_minor": 5
}
