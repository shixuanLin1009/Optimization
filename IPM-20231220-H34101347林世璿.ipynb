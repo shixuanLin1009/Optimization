{
 "cells": [
  {
   "cell_type": "code",
   "execution_count": 1,
   "id": "3c3334c4",
   "metadata": {},
   "outputs": [],
   "source": [
    "import numpy as np\n",
    "import pandas as pd\n",
    "import matplotlib.pyplot as plt"
   ]
  },
  {
   "cell_type": "code",
   "execution_count": 9,
   "id": "044e848a",
   "metadata": {},
   "outputs": [
    {
     "ename": "NameError",
     "evalue": "name 'm' is not defined",
     "output_type": "error",
     "traceback": [
      "\u001b[0;31m---------------------------------------------------------------------------\u001b[0m",
      "\u001b[0;31mNameError\u001b[0m                                 Traceback (most recent call last)",
      "Cell \u001b[0;32mIn[9], line 30\u001b[0m\n\u001b[1;32m     27\u001b[0m         tn\u001b[38;5;241m=\u001b[39mtn\u001b[38;5;241m*\u001b[39mt\n\u001b[1;32m     28\u001b[0m     \u001b[38;5;28;01mreturn\u001b[39;00m y\n\u001b[0;32m---> 30\u001b[0m A\u001b[38;5;241m=\u001b[39mnp\u001b[38;5;241m.\u001b[39mzeros((m\u001b[38;5;241m+\u001b[39mn,m\u001b[38;5;241m*\u001b[39mn))\n\u001b[1;32m     31\u001b[0m A[\u001b[38;5;241m0\u001b[39m,\u001b[38;5;241m0\u001b[39m]\u001b[38;5;241m=\u001b[39m\u001b[38;5;241m1\u001b[39m\n\u001b[1;32m     32\u001b[0m A[\u001b[38;5;241m0\u001b[39m,\u001b[38;5;241m1\u001b[39m]\u001b[38;5;241m=\u001b[39m\u001b[38;5;241m1\u001b[39m\n",
      "\u001b[0;31mNameError\u001b[0m: name 'm' is not defined"
     ]
    }
   ],
   "source": [
    "import numpy as np\n",
    "import pandas as pd\n",
    "import matplotlib.pyplot as plt\n",
    "\n",
    "def determineStepSizeUB(d,x,gamma,UB=1):\n",
    "    alphaUB=float(\"inf\")\n",
    "    n=len(x)\n",
    "    for i in range(n):\n",
    "        if d[i,0]<0:\n",
    "            if alphaUB>-(gamma *x[i,0])/d[i,0]:\n",
    "                alphaUB=-(gamma *x[i,0])/d[i,0]\n",
    "    if alphaUB >UB:\n",
    "        alphaUB=UB\n",
    "    return alphaUB\n",
    "\n",
    "def vector2Matrix(barx,n):\n",
    "    barX=np.zeros((n,n))\n",
    "    for i in range(n):\n",
    "        barX[i,i]=barx[i,0]\n",
    "    return barX\t\n",
    "\n",
    "def functionValue(alpha,t):\n",
    "    n=len(alpha)\n",
    "    i,y,tn=0,0,1\n",
    "    for coef in alpha:\n",
    "        y=y+coef*tn\n",
    "        tn=tn*t\n",
    "    return y\n",
    "\n",
    "A=np.zeros((m+n,m*n))\n",
    "A[0,0]=1\n",
    "A[0,1]=1\n",
    "A[0,2]=1\n",
    "A[0,3]=1\n",
    "A[1,4]=1\n",
    "A[1,5]=1\n",
    "A[1,6]=1\n",
    "A[1,7]=1\n",
    "A[2,8]=1\n",
    "A[2,9]=1\n",
    "A[2,10]=1\n",
    "A[2,11]=1\n",
    "A[3,0]=1\n",
    "A[3,0+4]=1\n",
    "A[3,0+8]=1\n",
    "i=1\n",
    "A[3+i,i]=1\n",
    "A[3+i,i+4]=1\n",
    "A[3+i,i+8]=1\n",
    "i=2\n",
    "A[3+i,i]=1\n",
    "A[3+i,i+4]=1\n",
    "A[3+i,i+8]=1\n",
    "i=3\n",
    "A[3+i,i]=1\n",
    "A[3+i,i+4]=1\n",
    "A[3+i,i+8]=1\n",
    "print(A)\n",
    "np.zeros((1,n))\n",
    "np.ones((1,n))\n",
    "A=np.vstack((np.ones((1,n)),np.zeros((2,n)),np.identity(n)))\n",
    "A=np.hstack((A,np.vstack((np.zeros((1,n)),np.ones((1,n)),np.zeros((1,n)),np.identity(n)))))\n",
    "A=np.hstack((A,np.vstack((np.zeros((2,n)),np.ones((1,n)),np.identity(n)))))\n",
    "print(A)\n",
    "\n",
    "\n",
    "b=np.zeros((m+n,1))\n",
    "b[0,0]=500\n",
    "b[1,0]=700\n",
    "b[2,0]=800\n",
    "b[3,0]=400\n",
    "b[4,0]=900\n",
    "b[5,0]=200\n",
    "b[6,0]=500\n",
    "print(b)\n",
    "\n",
    "\n",
    "m,n=3,4\n",
    "c=np.zeros((m*n,1))\n",
    "c[0,0]=12\n",
    "c[1,0]=13\n",
    "c[2,0]=4\n",
    "c[3,0]=6\n",
    "c[4,0]=6\n",
    "c[5,0]=4\n",
    "c[6,0]=10\n",
    "c[7,0]=11\n",
    "c[8,0]=10\n",
    "c[9,0]=9\n",
    "c[10,0]=12\n",
    "c[11,0]=4\n",
    "print(c)\n",
    "\n",
    "m,n=4+3,4*3\n",
    "#A=A[0:6,:]\n",
    "#b=b[0:6,:]\n",
    "\n",
    "#m,n=4+3-1,4*3\n",
    "\n",
    "barx=np.ones((n,1))\n",
    "bary=np.ones((m,1))\n",
    "bars=np.ones((n,1))\n",
    "#bars[0,0]=1\n",
    "#bars[1,0]=1\n",
    "#bars[2,0]=1\n",
    "#bars[3,0]=1\n",
    "\n",
    "\n",
    "#print(r2)\n",
    "e=np.ones((n,1))\n",
    "mu=100\n",
    "r1=b-A.dot(barx)\n",
    "r2=c-A.transpose().dot(bary)-bars\n",
    "barX=vector2Matrix(barx,n)\n",
    "barS=vector2Matrix(bars,n)\n",
    "#barX=np.zeros((n,n))\n",
    "#barX[0,0]=barx[0,0]\n",
    "#barX[1,1]=barx[1,0]\n",
    "#barX[2,2]=barx[2,0]\n",
    "#barX[3,3]=barx[3,0]\n",
    "#for i in range(n):\n",
    "#    barX[i,i]=barx[i,0]\n",
    "#    #print(barX)\n",
    "#barS=np.zeros((n,n))\n",
    "#for i in range(n):\n",
    "#    barS[i,i]=bars[i,0]\n",
    "r3=mu*e-barX.dot(barS).dot(e)\n",
    "r=np.vstack((r1,r2,r3))\n",
    "\n",
    "iteration=0\n",
    "while iteration<=100 and np.linalg.norm(r)>1e-6:\n",
    "    print(iteration)\n",
    "    barA=np.hstack((A,np.zeros((m,m)),np.zeros((m,n))))\n",
    "    barA=np.vstack((barA,np.hstack((np.zeros((n,n)),A.transpose(),np.identity(n)))))\n",
    "    barA=np.vstack((barA,np.hstack((barS,np.zeros((n,m)),barX))))\n",
    "    DeltaX=np.linalg.pinv(barA).dot(r)\n",
    "    #print(DeltaX)\n",
    "    Deltax=DeltaX[0:n,:]\n",
    "    #print(Deltax)\n",
    "    Deltay=DeltaX[n:n+m,:]\n",
    "    Deltas=DeltaX[n+m:2*n+m,:]\n",
    "    #print(Deltay)\n",
    "    #print(Deltas)\n",
    "    alphax=0.01\n",
    "\n",
    "    gamma=0.9\n",
    "    alphax=determineStepSizeUB(Deltax,barx,gamma)\n",
    "    #print(alphax)\n",
    "    alphay=0.01\n",
    "    alphay=determineStepSizeUB(Deltas,bars,gamma)\n",
    "    #print(alphay)\n",
    "\n",
    "    newx=barx+alphax*Deltax\n",
    "    newy=bary+alphay*Deltay\n",
    "    news=bars+alphay*Deltas#note alphay\n",
    "    ###############################################\n",
    "    barx=newx\n",
    "    bary=newy\n",
    "    bars=news\n",
    "    print(np.linalg.norm(r))\n",
    "    mu=barx.transpose().dot(bars)/(10*n)\n",
    "    \n",
    "    iteration=iteration+1\n",
    "    \n",
    "    r1=b-A.dot(barx)\n",
    "    r2=c-A.transpose().dot(bary)-bars\n",
    "    barX=vector2Matrix(barx,n)\n",
    "    barS=vector2Matrix(bars,n)\n",
    "    r3=mu*e-barX.dot(barS).dot(e)\n",
    "    r=np.vstack((r1,r2,r3))"
   ]
  },
  {
   "cell_type": "code",
   "execution_count": 8,
   "id": "1a5016b1",
   "metadata": {},
   "outputs": [
    {
     "name": "stdout",
     "output_type": "stream",
     "text": [
      "[[1.34718641e+02]\n",
      " [8.99704056e-08]\n",
      " [2.00000000e+02]\n",
      " [1.65281359e+02]\n",
      " [1.79940770e-07]\n",
      " [7.00000000e+02]\n",
      " [1.38415950e-08]\n",
      " [1.49950610e-08]\n",
      " [2.65281359e+02]\n",
      " [2.00000000e+02]\n",
      " [1.79940727e-08]\n",
      " [3.34718641e+02]]\n"
     ]
    }
   ],
   "source": [
    "print(barx)"
   ]
  },
  {
   "cell_type": "code",
   "execution_count": 9,
   "id": "000c5c79",
   "metadata": {},
   "outputs": [
    {
     "name": "stdout",
     "output_type": "stream",
     "text": [
      "[[1.25386494e-09]\n",
      " [2.00000000e+00]\n",
      " [8.77037368e-10]\n",
      " [1.09556705e-09]\n",
      " [1.00000000e+00]\n",
      " [2.50582111e-10]\n",
      " [1.30000000e+01]\n",
      " [1.20000000e+01]\n",
      " [6.74367773e-10]\n",
      " [8.77037455e-10]\n",
      " [1.00000000e+01]\n",
      " [5.16065987e-10]]\n"
     ]
    }
   ],
   "source": [
    "print(bars)"
   ]
  },
  {
   "cell_type": "code",
   "execution_count": 14,
   "id": "aa56e959",
   "metadata": {},
   "outputs": [
    {
     "name": "stdout",
     "output_type": "stream",
     "text": [
      "12000.000000899701\n",
      "12000.0\n"
     ]
    }
   ],
   "source": [
    "print(c.transpose().dot(barx)[0,0])\n",
    "opt=np.zeros((12,1))\n",
    "opt[0,0]=0\n",
    "opt[1,0]=0\n",
    "opt[2,0]=200\n",
    "opt[3,0]=300\n",
    "opt[4,0]=0\n",
    "opt[5,0]=700\n",
    "opt[6,0]=0\n",
    "opt[7,0]=0\n",
    "opt[8,0]=400\n",
    "opt[9,0]=200\n",
    "opt[10,0]=0\n",
    "opt[11,0]=200\n",
    "print(c.transpose().dot(opt)[0,0])"
   ]
  },
  {
   "cell_type": "code",
   "execution_count": 6,
   "id": "f38cc657",
   "metadata": {},
   "outputs": [
    {
     "name": "stdout",
     "output_type": "stream",
     "text": [
      "0.5714025946899135\n",
      "3.507977535406442 -6.492022464593558\n",
      "-1.072230192178183 -11.072230192178182\n",
      "6.701163386322698 -3.2988366136773024\n",
      "1.3956019687889505 -8.60439803121105\n",
      "5.777761349356927 -4.222238650643073\n",
      "[[4.288890546751146, 5.780913011344704], [2.0609823213950174, 8.1332125135732], [8.235888725334455, 6.534725339011757], [1.6022955651881965, 5.206693596399246], [3.2777281162209313, 2.4999667668640035]]\n",
      "[0, 1, 0, 0, 0]\n"
     ]
    }
   ],
   "source": [
    "import random\n",
    "random.seed(10)\n",
    "print(random.random())\n",
    "x=[]\n",
    "label=[]\n",
    "for i in range(5):\n",
    "    x.append([10*random.random(),10*random.random()])\n",
    "    print(x[i][0]-x[i][1]+5,x[i][0]-x[i][1]-5)\n",
    "    if x[i][0]-x[i][1]+5<=0:\n",
    "        label.append(1)\n",
    "    else:\n",
    "        if x[i][0]-x[i][1]-5>=0:\n",
    "            label.append(-1)\n",
    "        else:\n",
    "            label.append(0)\n",
    "print(x)\n",
    "print(label)"
   ]
  },
  {
   "cell_type": "code",
   "execution_count": 7,
   "id": "52887bef",
   "metadata": {},
   "outputs": [
    {
     "name": "stdout",
     "output_type": "stream",
     "text": [
      "0.5714025946899135\n",
      "[[2.0609823213950174, 8.1332125135732]]\n",
      "[1]\n"
     ]
    }
   ],
   "source": [
    "import random\n",
    "\n",
    "\n",
    "random.seed(10)\n",
    "print(random.random())\n",
    "x=[]\n",
    "label=[]\n",
    "for i in range(5):\n",
    "    x0=10*random.random()\n",
    "    x1=10*random.random()\n",
    "    if x0-x1+5<=0:\n",
    "        label.append(1)\n",
    "        x.append([x0,x1])\n",
    "    else:\n",
    "        if x0-x1-5>=0:\n",
    "            label.append(-1)\n",
    "            x.append([x0,x1])\n",
    "print(x)\n",
    "print(label)"
   ]
  },
  {
   "cell_type": "code",
   "execution_count": 8,
   "id": "95f65c0c",
   "metadata": {},
   "outputs": [
    {
     "name": "stdout",
     "output_type": "stream",
     "text": [
      "0.5714025946899135\n",
      "[[2.0609823213950174, 8.1332125135732], [0.4455638245043303, 8.60161037286291], [6.618463200523511, 1.329781447122128], [1.3397252704913387, 9.410022713958341], [8.981962445391883, 3.1436380495645064], [0.6499417612685054, 5.845462257019301], [8.440678976619022, 1.564189183874064], [1.1291570189443623, 7.755127010728279], [9.686781985609425, 4.151736932178327]]\n",
      "[1, 1, -1, 1, -1, 1, -1, 1, -1]\n"
     ]
    }
   ],
   "source": [
    "import random\n",
    "random.seed(10)\n",
    "print(random.random())\n",
    "x=[]\n",
    "label=[]\n",
    "i=0\n",
    "while i<50:\n",
    "    x0=10*random.random()\n",
    "    x1=10*random.random()\n",
    "    if x0-x1+5<=0:\n",
    "        label.append(1)\n",
    "        x.append([x0,x1])\n",
    "    else:\n",
    "        if x0-x1-5>=0:\n",
    "            label.append(-1)\n",
    "            x.append([x0,x1])\n",
    "    i=i+1\n",
    "print(x)\n",
    "print(label)"
   ]
  },
  {
   "cell_type": "code",
   "execution_count": null,
   "id": "b5c47a54",
   "metadata": {},
   "outputs": [],
   "source": []
  }
 ],
 "metadata": {
  "kernelspec": {
   "display_name": "Python 3 (ipykernel)",
   "language": "python",
   "name": "python3"
  },
  "language_info": {
   "codemirror_mode": {
    "name": "ipython",
    "version": 3
   },
   "file_extension": ".py",
   "mimetype": "text/x-python",
   "name": "python",
   "nbconvert_exporter": "python",
   "pygments_lexer": "ipython3",
   "version": "3.11.4"
  }
 },
 "nbformat": 4,
 "nbformat_minor": 5
}
