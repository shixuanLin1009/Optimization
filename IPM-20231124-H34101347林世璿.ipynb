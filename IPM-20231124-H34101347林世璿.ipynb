{
 "cells": [
  {
   "cell_type": "code",
   "execution_count": 1,
   "id": "3c3334c4",
   "metadata": {},
   "outputs": [],
   "source": [
    "import numpy as np\n",
    "import pandas as pd\n",
    "import matplotlib.pyplot as plt"
   ]
  },
  {
   "cell_type": "markdown",
   "id": "05361928",
   "metadata": {},
   "source": [
    "$$\n",
    "\\begin{array}{rl}\n",
    "\\max & 6(x_1-10)^2+4(x_2-12.5)^2\\\\\n",
    "s.t. & (x_1)^2+(x_2-5)^2-50 \\leq 0\\\\\n",
    "     & (x_1)^2+3(x_2)^2-200\\leq 0\\\\\n",
    "     & (x_1-6)^2+(x_2)^2-37\\leq0\\\\\n",
    "     &x_1,x_2\\geq 0\n",
    "\\end{array}\n",
    "$$"
   ]
  },
  {
   "cell_type": "markdown",
   "id": "4ba22329",
   "metadata": {},
   "source": [
    "Theorem  1:\n",
    "\n",
    "Let $\\bar{x}$ be a feasible solution of $(P)$ and let $I=\\{i:g{i}(\\bar{x})=0\\}$. Further, suppose that\n",
    "$\\nabla h_i(\\bar{x})$ for $i=1,2,\\cdots,l$ and $\\nabla g_i(\\bar{x})$ for $i\\in I$ are linaearly independent.\n",
    "If $\\bar{x}$ is a local minimum,there exists $(u,v)$ such that\n",
    "$$\n",
    "\\nabla f(\\bar{x})+u_1\\nabla g_1(\\bar{x})+u_2\\nabla g_2(\\bar{x})+\\cdots+u_m\\nabla g_m(\\bar{x})+v_1\\nabla g_1(\\bar{x})+v_2\\nabla h_1(\\bar{x})+\\cdots+v_1\\nabla h_1(\\bar{x})=0\n",
    "$$\n",
    "\n",
    "$$\n",
    "u_1\\geq 0, u_2\\geq 0,\\cdots, u_m\\geq 0,\n",
    "$$\n",
    "$$\n",
    "u_1g_1(\\bar{x})=0, u_2g_2(\\bar{x})=0,\\cdots, u_mg_m(\\bar{x})= 0,\n",
    "$$"
   ]
  },
  {
   "cell_type": "markdown",
   "id": "ff0ce33e",
   "metadata": {},
   "source": [
    "<img src=\"http://140.116.53.170/classes/numericalOptimization/KKTConditions/figure002.png\" with=\"600\" heigh=\"400\">\n",
    "<img src=\"http://140.116.53.170/classes/numericalOptimization/KKTConditions/figure003.png\" with=\"600\" heigh=\"400\">\n",
    "<img src=\"http://140.116.53.170/classes/numericalOptimization/KKTConditions/figure004.png\" with=\"600\" heigh=\"400\">"
   ]
  },
  {
   "cell_type": "markdown",
   "id": "ec549b23",
   "metadata": {},
   "source": [
    "$$\n",
    "H_f(x)=\n",
    "\\left[\n",
    "\\begin{array}{ll}\n",
    "12 & 0\\\\\n",
    "0 & 8\n",
    "\\end{array}\n",
    "\\right],\n",
    "H_{g_1}(x)=\n",
    "\\left[\n",
    "\\begin{array}{ll}\n",
    "2 & 0\\\\\n",
    "0 & 2\n",
    "\\end{array}\n",
    "\\right],\n",
    "H_{g_2}(x)=\n",
    "\\left[\n",
    "\\begin{array}{ll}\n",
    "2 & 0\\\\\n",
    "0 & 6\n",
    "\\end{array}\n",
    "\\right],\n",
    "H_{g_3}(x)=\n",
    "\\left[\n",
    "\\begin{array}{ll}\n",
    "2 & 0\\\\\n",
    "0 & 2\n",
    "\\end{array}\n",
    "\\right]\n",
    "$$\n",
    "since\n",
    "$$\n",
    "\\left[\n",
    "\\begin{array}{cc}\n",
    "x_1 & x_2\\\\\n",
    "\\end{array}\n",
    "\\right]\n",
    "\\left[\n",
    "\\begin{array}{ll}\n",
    "a & 0\\\\\n",
    "0 & b\n",
    "\\end{array}\n",
    "\\right]\n",
    "\\left[\n",
    "\\begin{array}{cc}\n",
    "x_1\\\\\n",
    "x_2\n",
    "\\end{array}\n",
    "\\right]=a(x_1)^2+b(x_2)^2\\geq0\n",
    "$$\n",
    "for all $(x_1,x_2)\\neq (0,0)$,$\\left[\n",
    "\\begin{array}{cc}\n",
    "a & 0\\\\\n",
    "0 & b\n",
    "\\end{array}\n",
    "\\right]$ is symmetric positive definite"
   ]
  },
  {
   "cell_type": "code",
   "execution_count": null,
   "id": "ced83491",
   "metadata": {},
   "outputs": [],
   "source": []
  }
 ],
 "metadata": {
  "kernelspec": {
   "display_name": "Python 3 (ipykernel)",
   "language": "python",
   "name": "python3"
  },
  "language_info": {
   "codemirror_mode": {
    "name": "ipython",
    "version": 3
   },
   "file_extension": ".py",
   "mimetype": "text/x-python",
   "name": "python",
   "nbconvert_exporter": "python",
   "pygments_lexer": "ipython3",
   "version": "3.11.4"
  }
 },
 "nbformat": 4,
 "nbformat_minor": 5
}
