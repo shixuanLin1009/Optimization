{
 "cells": [
  {
   "cell_type": "markdown",
   "id": "cd52322f",
   "metadata": {},
   "source": [
    "# Solutions of Equations in One Variable: The Bisection Method"
   ]
  },
  {
   "cell_type": "markdown",
   "id": "65659530",
   "metadata": {},
   "source": [
    "Finding a root, or solution, of an equation\n",
    "of the form $f(x)=0$, for a given function $f$. A root of this equation is also called a <b>zero</b>\n",
    "of the function $f$.\n",
    "\n",
    "The first technique, based on <b>the Intermediate Value Theorem</b>, is called <b>the Bisection method</b>.\n",
    "\n",
    "<h4>Intermediate Value Theorem:</h4>\n",
    "Suppose $f$ is a continuous function defined on the interval $[a,b]$, with\n",
    "$f(a)$ and $f(b)$ of opposite sign. By the Intermediate Value Theorem. there exists a number $p$ in\n",
    "$(a,b)$ with $f(p)=0$.\n",
    "\n",
    "Although the procedure will work when there is more than one root\n",
    "in the interval $(a,b)$, we assume for simplicity that the root in this interval is unique.\n",
    "\n",
    "The method calls for <b>a repeated halving of subintervals</b> of $[a,b]$ and, at each step,\n",
    "<b>locating the half containing $p$</b>.\n",
    "\n",
    "\n",
    "<img src=\"http://140.116.53.170/classes/numericalOptimization/bisectionMethod/figure006-1.png\" with=\"600\" heigh=\"400\" alt=\"\">\n",
    "<hr>\n",
    "<img src=\"http://140.116.53.170/classes/numericalOptimization/bisectionMethod/figure006-2.png\" with=\"600\" heigh=\"400\" alt=\"\">\n",
    "<hr>\n",
    "<img src=\"http://140.116.53.170/classes/numericalOptimization/bisectionMethod/figure006-3.png\" with=\"600\" heigh=\"400\" alt=\"\">\n",
    "<hr>\n",
    "<img src=\"http://140.116.53.170/classes/numericalOptimization/bisectionMethod/figure006.png\" with=\"600\" heigh=\"400\" alt=\"\">\n",
    "<hr>\n"
   ]
  },
  {
   "cell_type": "markdown",
   "id": "9b304835",
   "metadata": {},
   "source": [
    "# Pseudocode of Bisection Method"
   ]
  },
  {
   "cell_type": "markdown",
   "id": "178c3c89",
   "metadata": {},
   "source": [
    "<img src=\"http://140.116.53.170/classes/numericalOptimization/bisectionMethod/pseucode-bisection.png\" with=\"600\" alt=\"\">\n",
    "<hr>"
   ]
  },
  {
   "cell_type": "markdown",
   "id": "315ae228",
   "metadata": {},
   "source": [
    "\n",
    "<a href=\"https://youtu.be/wGWxtidg74s\">用十分逼近法求根號 2 的近似值(From 均一教育平台 Junyi Academy)</a>"
   ]
  },
  {
   "cell_type": "code",
   "execution_count": 1,
   "id": "430e802f",
   "metadata": {},
   "outputs": [
    {
     "name": "stdout",
     "output_type": "stream",
     "text": [
      "1.400000 <= sqrt(2.000000) <= 1.500000\n",
      "1.410000 <= sqrt(2.000000) <= 1.420000\n",
      "1.414000 <= sqrt(2.000000) <= 1.415000\n",
      "1.414200 <= sqrt(2.000000) <= 1.414300\n",
      "1.414210 <= sqrt(2.000000) <= 1.414220\n",
      "1.414213 <= sqrt(2.000000) <= 1.414214\n"
     ]
    }
   ],
   "source": [
    "a=1\n",
    "b=2\n",
    "y=2\n",
    "\n",
    "#for k in range(1,10):\n",
    "while b-a >= 1e-6:\n",
    "    leave_loop = False\n",
    "    i=0\n",
    "    j=1\n",
    "    while i<10 and leave_loop is False:\n",
    "        if(a+(b-a)*10**(-j)*(i+1))**2 >=y and (a+(b-a)*10**(-j)*i)**2 <=y:\n",
    "            #print((a+(2-1)*10**(-j)*i))\n",
    "            print(\"%f <= sqrt(%f) <= %f\" % ((a+(b-a)*10**(-j)*(i)),y,(a+(b-a)*10**(-j)*(i+1))))\n",
    "            c=(a+(b-a)*10**(-j)*(i+1))\n",
    "            a=(a+(b-a)*10**(-j)*(i))\n",
    "            b=c\n",
    "            leave_loop = True\n",
    "        i=i+1\n",
    "#print(a,b)\n",
    "leave_loop = False\n"
   ]
  },
  {
   "cell_type": "code",
   "execution_count": 2,
   "id": "fa8a8837",
   "metadata": {},
   "outputs": [
    {
     "data": {
      "text/plain": [
       "2"
      ]
     },
     "execution_count": 2,
     "metadata": {},
     "output_type": "execute_result"
    }
   ],
   "source": [
    "def feval(x):\n",
    "    return x**2-2\n",
    "\n",
    "feval(2)"
   ]
  },
  {
   "cell_type": "code",
   "execution_count": 3,
   "id": "abe91054",
   "metadata": {},
   "outputs": [
    {
     "name": "stdout",
     "output_type": "stream",
     "text": [
      "-1 2\n"
     ]
    }
   ],
   "source": [
    "a=1\n",
    "b=2\n",
    "print(feval(a),feval(2))\n"
   ]
  },
  {
   "cell_type": "code",
   "execution_count": 10,
   "id": "da33ee07",
   "metadata": {},
   "outputs": [
    {
     "name": "stdout",
     "output_type": "stream",
     "text": [
      "-1 2\n",
      "1 1.5\n",
      "-1 0.25\n",
      "1.25 1.5\n",
      "-0.4375 0.25\n",
      "1.375 1.5\n",
      "-0.109375 0.25\n",
      "1.375 1.4375\n",
      "-0.109375 0.06640625\n",
      "1.40625 1.4375\n",
      "-0.0224609375 0.06640625\n"
     ]
    }
   ],
   "source": [
    "sol=[]\n",
    "a=1\n",
    "b=2\n",
    "print(feval(a),feval(b))\n",
    "c=(a+b)/2\n",
    "if feval(c)<0:\n",
    "    a=c\n",
    "if feval(c)>0:\n",
    "    b=c\n",
    "if feval(c)==0:\n",
    "    sol=c\n",
    "print(a,b)\n",
    "print(feval(a),feval(b))\n",
    "c=(a+b)/2\n",
    "if feval(c)<0:\n",
    "    a=c\n",
    "if feval(c)>0:\n",
    "    b=c\n",
    "if feval(c)==0:\n",
    "    sol=c\n",
    "print(a,b)\n",
    "print(feval(a),feval(b))\n",
    "c=(a+b)/2\n",
    "if feval(c)<0:\n",
    "    a=c\n",
    "if feval(c)>0:\n",
    "    b=c\n",
    "if feval(c)==0:\n",
    "    sol=c\n",
    "print(a,b)\n",
    "print(feval(a),feval(b))\n",
    "c=(a+b)/2\n",
    "if feval(c)<0:\n",
    "    a=c\n",
    "if feval(c)>0:\n",
    "    b=c\n",
    "if feval(c)==0:\n",
    "    sol=c\n",
    "print(a,b)\n",
    "print(feval(a),feval(b))\n",
    "c=(a+b)/2\n",
    "if feval(c)<0:\n",
    "    a=c\n",
    "if feval(c)>0:\n",
    "    b=c\n",
    "if feval(c)==0:\n",
    "    sol=c\n",
    "print(a,b)\n",
    "print(feval(a),feval(b))"
   ]
  },
  {
   "cell_type": "code",
   "execution_count": 1,
   "id": "8278c61b",
   "metadata": {},
   "outputs": [
    {
     "ename": "NameError",
     "evalue": "name 'np' is not defined",
     "output_type": "error",
     "traceback": [
      "\u001b[0;31m---------------------------------------------------------------------------\u001b[0m",
      "\u001b[0;31mNameError\u001b[0m                                 Traceback (most recent call last)",
      "Cell \u001b[0;32mIn[1], line 1\u001b[0m\n\u001b[0;32m----> 1\u001b[0m xk\u001b[38;5;241m=\u001b[39mnp\u001b[38;5;241m.\u001b[39mzeros((\u001b[38;5;241m3\u001b[39m,\u001b[38;5;241m1\u001b[39m))\n\u001b[1;32m      2\u001b[0m xk[\u001b[38;5;241m0\u001b[39m,\u001b[38;5;241m0\u001b[39m]\u001b[38;5;241m=\u001b[39m\u001b[38;5;241m2\u001b[39m\n\u001b[1;32m      3\u001b[0m xk[\u001b[38;5;241m1\u001b[39m,\u001b[38;5;241m0\u001b[39m]\u001b[38;5;241m=\u001b[39m\u001b[38;5;241m4\u001b[39m\n",
      "\u001b[0;31mNameError\u001b[0m: name 'np' is not defined"
     ]
    }
   ],
   "source": [
    "xk=np.zeros((3,1))\n",
    "xk[0,0]=2\n",
    "xk[1,0]=4\n",
    "xk[2,0]=8\n",
    "feval(x)\n",
    "xk=xk-np.linalg.inv(gfeval(x)).dot(feval(xk))\n",
    "print(xk)\n",
    "print(\"The function value of f(x,y,x)=(x+yz,y-x^2,cos(z)) at (x,y,z)=(%.4f,%.4f,%.4f) is (%.8f,%.8f,%.8f) \"%(xk[0,0],xk[1,0],xk[2,0],feval(xk)))\n",
    "i=1\n",
    "while i <=Nzero and np.abs(feval(xk))>1e-8:\n",
    "    \n",
    "    #print(xk)\n",
    "    #print(feval(xk))\n",
    "    #print(geval(xk))\n",
    "    xk=xk-np.linalg.inv(gfeval(x)).dot(feval(xk))\n",
    "    i=i+1\n",
    "print(\"The function value of f(x,y,x)=(x+yz,y-x^2,cos(z)) at (x,y,z)=(%.4f,%.4f,%.4f) is (%.8f,%.8f,%.8f) \"%(xk[0,0],xk[1,0],xk[2,0],feval(xk)))"
   ]
  },
  {
   "cell_type": "code",
   "execution_count": null,
   "id": "e0e7ea10",
   "metadata": {},
   "outputs": [],
   "source": []
  }
 ],
 "metadata": {
  "kernelspec": {
   "display_name": "Python 3 (ipykernel)",
   "language": "python",
   "name": "python3"
  },
  "language_info": {
   "codemirror_mode": {
    "name": "ipython",
    "version": 3
   },
   "file_extension": ".py",
   "mimetype": "text/x-python",
   "name": "python",
   "nbconvert_exporter": "python",
   "pygments_lexer": "ipython3",
   "version": "3.11.4"
  }
 },
 "nbformat": 4,
 "nbformat_minor": 5
}
