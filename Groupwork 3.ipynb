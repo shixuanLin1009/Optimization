{
 "cells": [
  {
   "cell_type": "code",
   "execution_count": null,
   "id": "fc9e280d",
   "metadata": {},
   "outputs": [],
   "source": [
    "import numpy as np"
   ]
  },
  {
   "cell_type": "code",
   "execution_count": 1,
   "id": "73e1f165",
   "metadata": {},
   "outputs": [
    {
     "ename": "NameError",
     "evalue": "name 'xk' is not defined",
     "output_type": "error",
     "traceback": [
      "\u001b[0;31m---------------------------------------------------------------------------\u001b[0m",
      "\u001b[0;31mNameError\u001b[0m                                 Traceback (most recent call last)",
      "Cell \u001b[0;32mIn[1], line 31\u001b[0m\n\u001b[1;32m     29\u001b[0m     \u001b[38;5;28mprint\u001b[39m(\u001b[38;5;124m\"\u001b[39m\u001b[38;5;124mAn optimal solution is given by (\u001b[39m\u001b[38;5;132;01m%.6f\u001b[39;00m\u001b[38;5;124m,\u001b[39m\u001b[38;5;132;01m%.6f\u001b[39;00m\u001b[38;5;124m)\u001b[39m\u001b[38;5;124m\"\u001b[39m \u001b[38;5;241m%\u001b[39m (xk[\u001b[38;5;241m-\u001b[39m\u001b[38;5;241m1\u001b[39m][\u001b[38;5;241m0\u001b[39m,\u001b[38;5;241m0\u001b[39m],xk[\u001b[38;5;241m-\u001b[39m\u001b[38;5;241m1\u001b[39m][\u001b[38;5;241m1\u001b[39m,\u001b[38;5;241m0\u001b[39m]))\n\u001b[1;32m     30\u001b[0m \u001b[38;5;66;03m#測資Group1\u001b[39;00m\n\u001b[0;32m---> 31\u001b[0m Homework_1(\u001b[38;5;241m8\u001b[39m,\u001b[38;5;241m90\u001b[39m,\u001b[38;5;241m10\u001b[39m)\n\u001b[1;32m     32\u001b[0m Homework_1(\u001b[38;5;241m1\u001b[39m,\u001b[38;5;241m40\u001b[39m,\u001b[38;5;241m10\u001b[39m)\n\u001b[1;32m     33\u001b[0m Homework_1(\u001b[38;5;241m15\u001b[39m,\u001b[38;5;241m68.69\u001b[39m,\u001b[38;5;241m10\u001b[39m)\n",
      "Cell \u001b[0;32mIn[1], line 21\u001b[0m, in \u001b[0;36mHomework_1\u001b[0;34m(x_1, x_2, theta)\u001b[0m\n\u001b[1;32m     19\u001b[0m alphak\u001b[38;5;241m=\u001b[39m[]\n\u001b[1;32m     20\u001b[0m \u001b[38;5;66;03m#dk.append\u001b[39;00m\n\u001b[0;32m---> 21\u001b[0m dk\u001b[38;5;241m.\u001b[39mappend(\u001b[38;5;241m-\u001b[39mfunctionGradient(xk[k],theta))\n\u001b[1;32m     22\u001b[0m \u001b[38;5;28;01mwhile\u001b[39;00m k\u001b[38;5;241m<\u001b[39m\u001b[38;5;241m10\u001b[39m \u001b[38;5;129;01mand\u001b[39;00m np\u001b[38;5;241m.\u001b[39mlinalg\u001b[38;5;241m.\u001b[39mnorm(dk[k])\u001b[38;5;241m>\u001b[39m\u001b[38;5;241m1e-6\u001b[39m \u001b[38;5;129;01mand\u001b[39;00m xk[\u001b[38;5;241m0\u001b[39m][\u001b[38;5;241m0\u001b[39m,\u001b[38;5;241m0\u001b[39m]\u001b[38;5;241m>\u001b[39m\u001b[38;5;241m0\u001b[39m \u001b[38;5;129;01mand\u001b[39;00m xk[\u001b[38;5;241m0\u001b[39m][\u001b[38;5;241m1\u001b[39m,\u001b[38;5;241m0\u001b[39m]\u001b[38;5;241m>\u001b[39m\u001b[38;5;241m0\u001b[39m \u001b[38;5;129;01mand\u001b[39;00m xk[\u001b[38;5;241m0\u001b[39m][\u001b[38;5;241m0\u001b[39m,\u001b[38;5;241m0\u001b[39m]\u001b[38;5;241m+\u001b[39mxk[\u001b[38;5;241m0\u001b[39m][\u001b[38;5;241m1\u001b[39m,\u001b[38;5;241m0\u001b[39m]\u001b[38;5;241m<\u001b[39m\u001b[38;5;241m100\u001b[39m \u001b[38;5;129;01mand\u001b[39;00m  xk[\u001b[38;5;241m0\u001b[39m][\u001b[38;5;241m0\u001b[39m,\u001b[38;5;241m0\u001b[39m]\u001b[38;5;241m-\u001b[39mxk[\u001b[38;5;241m0\u001b[39m][\u001b[38;5;241m1\u001b[39m,\u001b[38;5;241m0\u001b[39m]\u001b[38;5;241m<\u001b[39m\u001b[38;5;241m50\u001b[39m:\n\u001b[1;32m     23\u001b[0m     \u001b[38;5;66;03m#alphak.append\u001b[39;00m\n\u001b[1;32m     24\u001b[0m     alphak\u001b[38;5;241m.\u001b[39mappend(determineStepSize(xk[k],theta,dk[k]))\n",
      "\u001b[0;31mNameError\u001b[0m: name 'xk' is not defined"
     ]
    }
   ],
   "source": [
    "import numpy as np\n",
    "#求f(x)的值\n",
    "def functionValue(x,theta):\n",
    "    y= -9*x[0,0]-10*x[1,0]+theta*(-np.log(100-x[0,0]-x[1,0])-np.log(x[0,0])-np.log(x[1,0])-np.log(50-x[0,0]+x[1,0]))\n",
    "    return y\n",
    "#求f(x) GRadient 的值\n",
    "def functionGradient(x,theta):\n",
    "    d=[[(5000*theta-theta*x[1,0]**2+theta*x[0,0]**2+50*x[1,0]*theta-45000*x[0,0]-200*x[0,0]*theta-450*x[0,0]*x[1,0]+2*x[0,0]*x[1,0]*theta+9*x[0,0]*x[1,0]**2+1350*x[0,0]**2-9*x[1,0]**3)/(x[0,0]*(100-x[1,0]-x[0,0])*(50+x[1,0]-x[0,0]))],[(x[0,0]**2+1498*x[0,0]*x[1,0]-150*x[0,0]+10*x[1,0]**3-501*x[1,0]**2-10*x[1,0]*x[0,0]**2-49800*x[1,0]+5000)/(x[1,0]*(100-x[1,0]+x[0,0])*(50+x[1,0]-x[0,0]))]]\n",
    "    d=np.array(d)\n",
    "    return d\n",
    "#求a的值\n",
    "def determineStepSize(x,theta,d):\n",
    "    c_1=x[0,0]/d[0,0]\n",
    "    c_2=x[1,0]/d[1,0]\n",
    "    c_3=(100-x[0,0]-x[1,0])/(d[0,0]+d[1,0])\n",
    "    c_4=(50-x[0,0]+x[1,0])/(d[0,0]-d[1,0])\n",
    "    if d[0,0]>0 and d[1,0]>0:\n",
    "        if np.abs(d[0,0])>np.abs(d[1,0]):\n",
    "            a=[c_4,c_3]\n",
    "            alpha=min(a)-1e-6\n",
    "        else:\n",
    "            alpha=c_4\n",
    "    if d[0,0]<0 and d[1,0]>0:\n",
    "        if np.abs(d[0,0])>np.abs(d[1,0]):\n",
    "            alpha=c_1-1e-6\n",
    "        else:\n",
    "            alpha=min(c_1,c_3)-1e-6\n",
    "    if d[0,0]>0 and d[1,0]<0:\n",
    "        if np.abs(d[0,0])>np.abs(d[1,0]):\n",
    "            alpha=min(c_2,c_3,c_4)-1e-6\n",
    "        else:\n",
    "            alpha=min(c_2,c_4)-1e-6\n",
    "    if d[0,0]<0 and d[1,0]<0:\n",
    "        if np.abs(d[0,0])>np.abs(d[1,0]):\n",
    "            alpha=min(c_1,c_2)-1e-6\n",
    "        else:\n",
    "            alpha=min(c_1,c_2,c_4)-1e-6\n",
    "    return alpha\n",
    "#最速下降法演算法\n",
    "def Homework_1(x_1,x_2,theta):\n",
    "    xk=[np.array([[x_1],[x_2]])]\n",
    "    theta = theta\n",
    "    k=0\n",
    "    dk=[]\n",
    "    alphak=[]\n",
    "    #dk.append\n",
    "    dk.append(-functionGradient(xk[k],theta))\n",
    "    while k<10 and np.linalg.norm(dk[k])>1e-6 and xk[0][0,0]>0 and xk[0][1,0]>0 and xk[0][0,0]+xk[0][1,0]<100 and  xk[0][0,0]-xk[0][1,0]<50:\n",
    "        #alphak.append\n",
    "        alphak.append(determineStepSize(xk[k],theta,dk[k]))\n",
    "        xk.append(xk[k]+alphak[k]*dk[k])\n",
    "        k=k+1\n",
    "        dk.append(-functionGradient(xk[k],theta))\n",
    "    print(\"The optimal value is reported as %.6f\" % functionValue(xk[-1],theta))\n",
    "    print(\"An optimal solution is given by (%.6f,%.6f)\" % (xk[-1][0,0],xk[-1][1,0]))\n",
    "#測資Group1\n",
    "Homework_1(8,90,10)\n",
    "Homework_1(1,40,10)\n",
    "Homework_1(15,68.69,10)\n",
    "Homework_1(10,20,10)\n",
    "#測資Group2\n",
    "Homework_1(8,90,100)\n",
    "Homework_1(1,40,100)\n",
    "Homework_1(15,68.69,100)\n",
    "Homework_1(10,20,100)"
   ]
  },
  {
   "cell_type": "code",
   "execution_count": 25,
   "id": "a5765b13",
   "metadata": {},
   "outputs": [
    {
     "name": "stdout",
     "output_type": "stream",
     "text": [
      "1\n",
      "2\n",
      "4\n",
      "5\n",
      "5\n",
      "2\n"
     ]
    }
   ],
   "source": [
    "k=0\n",
    "xk=np.array([[1,2,4],[5,5,2]])\n",
    "for x in xk:\n",
    "    for y in x:\n",
    "        print(y)"
   ]
  },
  {
   "cell_type": "code",
   "execution_count": null,
   "id": "3064eb69",
   "metadata": {},
   "outputs": [],
   "source": []
  }
 ],
 "metadata": {
  "kernelspec": {
   "display_name": "Python 3 (ipykernel)",
   "language": "python",
   "name": "python3"
  },
  "language_info": {
   "codemirror_mode": {
    "name": "ipython",
    "version": 3
   },
   "file_extension": ".py",
   "mimetype": "text/x-python",
   "name": "python",
   "nbconvert_exporter": "python",
   "pygments_lexer": "ipython3",
   "version": "3.11.4"
  }
 },
 "nbformat": 4,
 "nbformat_minor": 5
}
