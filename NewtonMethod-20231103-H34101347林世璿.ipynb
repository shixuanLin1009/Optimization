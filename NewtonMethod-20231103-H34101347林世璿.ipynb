{
 "cells": [
  {
   "cell_type": "code",
   "execution_count": 1,
   "id": "ac2b2a2f",
   "metadata": {},
   "outputs": [],
   "source": [
    "import numpy as np"
   ]
  },
  {
   "cell_type": "markdown",
   "id": "cd52322f",
   "metadata": {},
   "source": [
    "# Solutions of Equations in One Variable: Newton Method"
   ]
  },
  {
   "cell_type": "markdown",
   "id": "65659530",
   "metadata": {},
   "source": [
    "\n",
    "\n",
    "Finding a root, or solution, of an equation\n",
    "of the form $f(x)=0$, for a given function $f$. A root of this equation is also called a <b>zero</b>\n",
    "of the function $f$.\n",
    "\n",
    "\n",
    "Suppose we want to solve:\n",
    "$$\n",
    "\\begin{array}{rl}\n",
    "\\hbox{(P:)} & \\displaystyle \\min_{{\\bf x} \\in {\\mathbb{R}}^{n}} \\, f({\\bf x}) \\\\\n",
    "\\end{array}\n",
    "$$\n",
    "At ${\\bf x} = \\bar{{\\bf x}}$, $f({\\bf x})$ can be approximated by:\n",
    "$$f({\\bf x}) \\thickapprox h({\\bf x}):= f(\\bar{{\\bf x}}) + \\nabla f(\\bar{{\\bf x}})^{T}({\\bf x}-\\bar{{\\bf x}}) + \\displaystyle \\frac{1}{2} ({\\bf x} - \\bar{{\\bf x}})^{t} H(\\bar{{\\bf x}}) ({\\bf x} - \\bar{{\\bf x}}),$$\n",
    "which is the quadratic Taylor expansion of $f({\\bf x})$ at ${\\bf x} = \\bar{{\\bf x}}$. Here $\\nabla f({\\bf x})$ is\n",
    "the gradient of $f({\\bf x})$ and $H({\\bf x})$ is the Hessian of $f({\\bf x})$.\n",
    "\n",
    "Newton Direction\n",
    "\n",
    "\n",
    "The function $h({\\bf x}):= f(\\bar{{\\bf x}}) + \\nabla f(\\bar{{\\bf x}})^{T}({\\bf x}-\\bar{{\\bf x}}) + \\displaystyle \\frac{1}{2} ({\\bf x} - \\bar{{\\bf x}})^{t} H(\\bar{{\\bf x}}) ({\\bf x} - \\bar{{\\bf x}})$ is a quadratic function, which is minimized by solving\n",
    "$\\nabla h({\\bf x}) = 0$.\n",
    "<ul>\n",
    "    <li>Since the gradient of $h({\\bf x})$ is:\n",
    "        $$\\nabla h({\\bf x}) = {\\nabla f(\\bar{{\\bf x}}) + H(\\bar{{\\bf x}}) ({\\bf x} - \\bar{{\\bf x}})},$$</li>\n",
    "    <li>We therefore are motivated to solve:\n",
    "$$ \\nabla f(\\bar{{\\bf x}}) + H(\\bar{{\\bf x}}) ({\\bf x} - \\bar{{\\bf x}}) = 0,$$\n",
    "which yields\n",
    "$${\\bf x} - \\bar{{\\bf x}} = {-H(\\bar{{\\bf x}})^{-1} \\nabla f(\\bar{{\\bf x}})}$$\n",
    "provided that \\alertred{the inverse of $H(\\bar{{\\bf x}})$ exists}. </li>\n",
    "    <li>The direction $-H(\\bar{{\\bf x}})^{-1} \\nabla f(\\bar{{\\bf x}})$ is called the {\\bf Newton direction}, or {\\bf the Newton step} at ${\\bf x} = \\bar{{\\bf x}}$. </li>\n",
    "</ul>"
   ]
  },
  {
   "cell_type": "markdown",
   "id": "9b304835",
   "metadata": {},
   "source": [
    "<h1>Newton Method</h1>\n",
    "<h4>Input</h4> <p>Input the initial approximation ${\\bf x}^{1}$</p>\n",
    "<h4>Step 0:</h4> <p>Given ${\\bf x}^{1}$, set $k = 1$.</p>\n",
    "<h4>Step 1:</h4> <p> Set ${\\bf d}^{k} = -H({\\bf x}^{k})^{-1} \\nabla f({\\bf x}^{k})$.</p>\n",
    "<h4>Step 2:</h4> <p>If ${\\bf d}^{k} = 0$, then stop. Otherwise, Choose step-size $\\alpha^{k} = 1$.</p>\n",
    "<h4>Step 3:</h4> <p>Set ${\\bf x}^{k+1} = {\\bf x}^{k} + \\alpha^{k} {\\bf d}^{k}$, and $k = k + 1$. Go to <span style=\"font-weight:bold;font-size:1em;\">Step 1</span>.</p>\n",
    "<hr>"
   ]
  },
  {
   "cell_type": "code",
   "execution_count": 2,
   "id": "2118904b",
   "metadata": {},
   "outputs": [
    {
     "name": "stdout",
     "output_type": "stream",
     "text": [
      "The function value of f(x)=-x^2+2 at x=1.00000000 is 1.00000000.\n",
      "1\n",
      "1\n",
      "-2\n",
      "The function value of f(x)=-x^2+2 at x=1.50000000 is -0.25000000.\n",
      "1.5\n",
      "-0.25\n",
      "-3.0\n",
      "The function value of f(x)=-x^2+2 at x=1.41666667 is -0.00694444.\n",
      "1.4166666666666667\n",
      "-0.006944444444444642\n",
      "-2.8333333333333335\n",
      "The function value of f(x)=-x^2+2 at x=1.41421569 is -0.00000601.\n",
      "1.4142156862745099\n",
      "-6.007304882871267e-06\n",
      "-2.8284313725490198\n",
      "The function value of f(x)=-x^2+2 at x=1.41421356 is -0.00000000.\n"
     ]
    }
   ],
   "source": [
    "Nzero=20\n",
    "def feval(x):\n",
    "    return -x**2+2\n",
    "\n",
    "def gfeval(x):\n",
    "    return -2*x\n",
    "xk=1\n",
    "\n",
    "i=1\n",
    "while i<=Nzero and np.abs(feval(xk))>1e-8:\n",
    "    print(\"The function value of f(x)=-x^2+2 at x=%.8f is %.8f.\" % (xk,feval(xk)))\n",
    "    print(xk)\n",
    "    print(feval(xk))\n",
    "    print(gfeval(xk))\n",
    "    xk=xk-feval(xk)/gfeval(xk)\n",
    "    i=i+1\n",
    "print(\"The function value of f(x)=-x^2+2 at x=%.8f is %.8f.\" % (xk,feval(xk)))"
   ]
  },
  {
   "cell_type": "code",
   "execution_count": 3,
   "id": "4f0938a9",
   "metadata": {},
   "outputs": [
    {
     "name": "stdout",
     "output_type": "stream",
     "text": [
      "[-10] [-2357]\n",
      "[-10, -9] [-2357, -1753]\n",
      "[-10, -9, -8] [-2357, -1753, -1263]\n",
      "[-10, -9, -8, -7] [-2357, -1753, -1263, -875]\n",
      "[-10, -9, -8, -7, -6] [-2357, -1753, -1263, -875, -577]\n",
      "[-10, -9, -8, -7, -6, -5] [-2357, -1753, -1263, -875, -577, -357]\n",
      "[-10, -9, -8, -7, -6, -5, -4] [-2357, -1753, -1263, -875, -577, -357, -203]\n",
      "[-10, -9, -8, -7, -6, -5, -4, -3] [-2357, -1753, -1263, -875, -577, -357, -203, -103]\n",
      "[-10, -9, -8, -7, -6, -5, -4, -3, -2] [-2357, -1753, -1263, -875, -577, -357, -203, -103, -45]\n",
      "[-10, -9, -8, -7, -6, -5, -4, -3, -2, -1] [-2357, -1753, -1263, -875, -577, -357, -203, -103, -45, -17]\n",
      "[-10, -9, -8, -7, -6, -5, -4, -3, -2, -1, 0] [-2357, -1753, -1263, -875, -577, -357, -203, -103, -45, -17, -7]\n",
      "[-10, -9, -8, -7, -6, -5, -4, -3, -2, -1, 0, 1] [-2357, -1753, -1263, -875, -577, -357, -203, -103, -45, -17, -7, -3]\n",
      "[-10, -9, -8, -7, -6, -5, -4, -3, -2, -1, 0, 1, 2] [-2357, -1753, -1263, -875, -577, -357, -203, -103, -45, -17, -7, -3, 7]\n",
      "[-10, -9, -8, -7, -6, -5, -4, -3, -2, -1, 0, 1, 2, 3] [-2357, -1753, -1263, -875, -577, -357, -203, -103, -45, -17, -7, -3, 7, 35]\n",
      "[-10, -9, -8, -7, -6, -5, -4, -3, -2, -1, 0, 1, 2, 3, 4] [-2357, -1753, -1263, -875, -577, -357, -203, -103, -45, -17, -7, -3, 7, 35, 93]\n",
      "[-10, -9, -8, -7, -6, -5, -4, -3, -2, -1, 0, 1, 2, 3, 4, 5] [-2357, -1753, -1263, -875, -577, -357, -203, -103, -45, -17, -7, -3, 7, 35, 93, 193]\n",
      "[-10, -9, -8, -7, -6, -5, -4, -3, -2, -1, 0, 1, 2, 3, 4, 5, 6] [-2357, -1753, -1263, -875, -577, -357, -203, -103, -45, -17, -7, -3, 7, 35, 93, 193, 347]\n",
      "[-10, -9, -8, -7, -6, -5, -4, -3, -2, -1, 0, 1, 2, 3, 4, 5, 6, 7] [-2357, -1753, -1263, -875, -577, -357, -203, -103, -45, -17, -7, -3, 7, 35, 93, 193, 347, 567]\n",
      "[-10, -9, -8, -7, -6, -5, -4, -3, -2, -1, 0, 1, 2, 3, 4, 5, 6, 7, 8] [-2357, -1753, -1263, -875, -577, -357, -203, -103, -45, -17, -7, -3, 7, 35, 93, 193, 347, 567, 865]\n",
      "[-10, -9, -8, -7, -6, -5, -4, -3, -2, -1, 0, 1, 2, 3, 4, 5, 6, 7, 8, 9] [-2357, -1753, -1263, -875, -577, -357, -203, -103, -45, -17, -7, -3, 7, 35, 93, 193, 347, 567, 865, 1253]\n",
      "The function value of f(x)=f(x)=2x^3-3x^2+5x-7at x=1.44552846 is 0.00000000.\n",
      "[1]\n",
      "[1.4455284586795223]\n",
      "[8.881784197001252e-16]\n"
     ]
    }
   ],
   "source": [
    "Nzero=20\n",
    "def feval(x):\n",
    "    return 2*x**3-3*x**2+5*x-7\n",
    "\n",
    "def gfeval(x):\n",
    "    return 6*x**2-6*x+5\n",
    "\n",
    "def NewtonMethod(xk,Nzero,epsilon=1e-8):\n",
    "    i=1\n",
    "    while i<=Nzero and np.abs(feval(xk))>epsilon:\n",
    "        #print(\"The function value of f(x)=2x^3-3x^2+5x-7 at x=%.8f is %.8f.\" % (xk,feval(xk)))\n",
    "        #print(xk)\n",
    "        #print(feval(xk))\n",
    "        #print(gfeval(xk))\n",
    "        xk=xk-feval(xk)/gfeval(xk)\n",
    "        i=i+1\n",
    "    print(\"The function value of f(x)=f(x)=2x^3-3x^2+5x-7at x=%.8f is %.8f.\" % (xk,feval(xk)))\n",
    "    return(xk,feval(xk))\n",
    "x=[]\n",
    "y=[]\n",
    "\n",
    "for i in range(20):\n",
    "    x.append(-10+i*1)\n",
    "    y.append(feval(x[i]))\n",
    "    xk=-3\n",
    "    print(x,y)\n",
    "xk=[]\n",
    "zeros=[]\n",
    "fvalue=[]\n",
    "for i in range(19):\n",
    "    if y[i]*y[i+1]<0:\n",
    "        zk,yk=NewtonMethod(x[i],Nzero)\n",
    "        xk.append(x[i])\n",
    "        zeros.append(zk)\n",
    "        fvalue.append(yk)\n",
    "print(xk)\n",
    "print(zeros)\n",
    "print(fvalue)"
   ]
  },
  {
   "cell_type": "code",
   "execution_count": 8,
   "id": "5127babc",
   "metadata": {},
   "outputs": [
    {
     "name": "stdout",
     "output_type": "stream",
     "text": [
      "[[-0.28171817]\n",
      " [ 1.        ]]\n",
      "[[2.71828183 1.        ]\n",
      " [1.         1.        ]]\n",
      "The function value of f(x)=f(x)=2x^3-3x^2+5x-7at x=(1.50524150,-0.50524150) is (0.00000000,0.00000000).\n"
     ]
    },
    {
     "data": {
      "text/plain": [
       "(array([[ 1.5052415],\n",
       "        [-0.5052415]]),\n",
       " array([[1.79412041e-13],\n",
       "        [0.00000000e+00]]))"
      ]
     },
     "execution_count": 8,
     "metadata": {},
     "output_type": "execute_result"
    }
   ],
   "source": [
    "Nzero=20\n",
    "def feval(x):\n",
    "    y=np.zeros((2,1))\n",
    "    y[0,0]=np.exp(x[0,0])+x[1,0]-4\n",
    "    y[1,0]=x[0,0]+x[1,0]-1\n",
    "    return y\n",
    "\n",
    "def gfeval(x):\n",
    "    y=np.zeros((2,2))\n",
    "    y[0,0]=np.exp(x[0,0])\n",
    "    y[1,0]=1\n",
    "    y[0,1]=1\n",
    "    y[1,1]=1\n",
    "    return y\n",
    "    \n",
    "\n",
    "def NewtonMethod(xk,Nzero,epsilon=1e-8):\n",
    "    i=1\n",
    "    #while i<=Nzero and np.abs(feval(xk))>epsilon:\n",
    "    while i<=Nzero and np.linalg.norm(feval(xk))>epsilon:\n",
    "        #print(\"The function value of f(x)=2x^3-3x^2+5x-7 at x=%.8f is %.8f.\" % (xk,feval(xk)))\n",
    "        #print(xk)\n",
    "        #print(feval(xk))\n",
    "        #print(gfeval(xk))\n",
    "        xk=xk-np.linalg.inv(gfeval(xk)).dot(feval(xk))\n",
    "        i=i+1\n",
    "    print(\"The function value of f(x)=f(x)=2x^3-3x^2+5x-7at x=(%.8f,%.8f) is (%.8f,%.8f).\" % (xk[0,0],xk[1,0],feval(xk)[0,0],feval(xk)[1,0]))\n",
    "    return xk,feval(xk)\n",
    "\n",
    "    \n",
    "x=np.array([[1],[1]])#2*1\n",
    "print(feval(x))\n",
    "print(gfeval(x))\n",
    "#x=np.array([1,1])#1*2\n",
    "#feval(x)\n",
    "NewtonMethod(x,Nzero)"
   ]
  },
  {
   "cell_type": "code",
   "execution_count": 18,
   "id": "c4510790",
   "metadata": {},
   "outputs": [
    {
     "name": "stdout",
     "output_type": "stream",
     "text": [
      "Approximate Zeros:\n",
      "x = 0.00017944262673371664\n",
      "y = 0.00018676831076708218\n"
     ]
    },
    {
     "name": "stderr",
     "output_type": "stream",
     "text": [
      "/Users/jameslin/anaconda3/lib/python3.11/site-packages/scipy/optimize/_minpack_py.py:178: RuntimeWarning: The iteration is not making good progress, as measured by the \n",
      "  improvement from the last ten iterations.\n",
      "  warnings.warn(msg, RuntimeWarning)\n"
     ]
    }
   ],
   "source": [
    "from scipy.optimize import fsolve\n",
    "import numpy as np\n",
    "\n",
    "# Define the system of equations\n",
    "def equations(vars):\n",
    "    x, y = vars\n",
    "    eq1 = np.exp(x) + y - 4\n",
    "    eq2 = x + y - 1\n",
    "    return [eq1, eq2]\n",
    "\n",
    "# Initial guess for the solution\n",
    "initial_guess = [0, 0]\n",
    "\n",
    "# Use fsolve to find the roots\n",
    "roots = fsolve(equations, initial_guess)\n",
    "\n",
    "print(\"Approximate Zeros:\")\n",
    "print(\"x =\", roots[0])\n",
    "print(\"y =\", roots[1])"
   ]
  },
  {
   "cell_type": "code",
   "execution_count": null,
   "id": "6bc40f0a",
   "metadata": {},
   "outputs": [],
   "source": []
  }
 ],
 "metadata": {
  "kernelspec": {
   "display_name": "Python 3 (ipykernel)",
   "language": "python",
   "name": "python3"
  },
  "language_info": {
   "codemirror_mode": {
    "name": "ipython",
    "version": 3
   },
   "file_extension": ".py",
   "mimetype": "text/x-python",
   "name": "python",
   "nbconvert_exporter": "python",
   "pygments_lexer": "ipython3",
   "version": "3.11.4"
  }
 },
 "nbformat": 4,
 "nbformat_minor": 5
}
