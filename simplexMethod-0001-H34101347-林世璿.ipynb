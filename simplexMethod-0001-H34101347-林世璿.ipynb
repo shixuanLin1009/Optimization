{
 "cells": [
  {
   "cell_type": "code",
   "execution_count": 2,
   "id": "c445a1fc",
   "metadata": {},
   "outputs": [],
   "source": [
    "import numpy as np"
   ]
  },
  {
   "cell_type": "markdown",
   "id": "97feb439",
   "metadata": {},
   "source": [
    "<ol>\n",
    "    <li>Ace Novelty Company has determined that the profit for each Type A, Type B, and Type C souvenir that it plans to produce is 6 dollars, 5 dollars, and 4 dollars, respectively.</li>\n",
    "\n",
    "<li>To manufacture a Type A souvenir requires 2 minutes on Machine I, 1 minute on Machine II, and 2 minutes on Machine III. A Type B souvenir requires 1 minute on Machine I, 3 minutes on Machine II, and 1 minute on Machine III.</li>\n",
    "\n",
    "<li>A Type C souvenir requires 1 minute on Machine I and 2 minutes on each of Machines II and III.</li>\n",
    "\n",
    "<li>Each day, there are 3 hours available on Machine I, 5 hours available on Machine II, and 4 hours available on Machine III for manufacturing these souvenirs.</li>\n",
    "\n",
    "<li>How many souvenirs of each type should Ace Novelty make per day to maximize its profit?</li>\n",
    "</ol>"
   ]
  },
  {
   "cell_type": "markdown",
   "id": "51f91c07",
   "metadata": {},
   "source": [
    "The given information is tabulated as follows:\n",
    "\n",
    "<img src=\"http://140.116.53.170/classes/numericalOptimization/simplexMethods/ch4-p64.png\" width=\"600\" alt=\"Given Information\">\n"
   ]
  },
  {
   "cell_type": "markdown",
   "id": "c53a9a19",
   "metadata": {},
   "source": [
    "Solution:\n",
    "\n",
    "<ol>\n",
    "    <li>Let $x$, $y$, and $z$ denote the respective numbers of Type A, Type B, and Type C souvenirs to be made.</li>\n",
    "    <li>The total amount of time that Machine I is used is given by $2x + y + z$ minutes and must not exceed 180 minutes.</li>\n",
    "    <li>Thus, we have the inequality\n",
    "    $$\n",
    "    2x+y+z \\leq 180\n",
    "    $$</li>\n",
    "    <li>Similar considerations on the use of Machines II and III lead to the inequalities\n",
    "    $$\n",
    "    x+3y+2z \\leq 300\n",
    "    $$\n",
    "    $$\n",
    "    2x+y+2z \\leq 240\n",
    "    $$</li>\n",
    "\n",
    "<li>The profit resulting from the sale of the souvenirs produced is given by\n",
    "    $$\n",
    "    P = 6x + 5y + 4z\n",
    "    $$</li>\n",
    "<li>The mathematical formulation of this problem leads to the following standard linear programming problem: Maximize the objective (profit) function $P = 6x + 5y + 4z$  subject to\n",
    "    $$\n",
    "    2x + y + z \\leq 180\n",
    "    $$\n",
    "    $$\n",
    "    x + 3y + 2z \\leq 300\n",
    "    $$\n",
    "    $$\n",
    "    2x + y + 2z \\leq 240\n",
    "    $$\n",
    "    $$\n",
    "    x \\geq 0 ,y \\geq 0 ,z \\geq 0\n",
    "    $$</li>\n",
    "\n",
    "<li>Introducing the slack variables u, v, and w gives the system of linear equations\n",
    "    $$\n",
    "    P-6x-5y-4z= 0\n",
    "    $$\n",
    "    $$\n",
    "    2x + y + z + u = 180\n",
    "    $$\n",
    "    $$\n",
    "    x + 3y + 2z + v = 300\n",
    "    $$\n",
    "    $$\n",
    "    2x + y + 2z + w = 240\n",
    "    $$\n",
    "    </li>\n",
    "</ol>"
   ]
  },
  {
   "cell_type": "markdown",
   "id": "8b69e74e",
   "metadata": {},
   "source": [
    "# Simplex Tableau\n",
    "# Step 0:"
   ]
  },
  {
   "cell_type": "markdown",
   "id": "18e874e6",
   "metadata": {},
   "source": [
    "$$\n",
    "\\begin{array}{rrrrrrr|c}\n",
    "    P  & x   & y   & z   & u & v & w & RHS\\\\\n",
    "    \\hline\n",
    "    1  & -6 & -5 & -4 & 0 & 0 & 0 &  0 \\\\\n",
    "    \\hline\n",
    "    0  & 2   & 1   & 1   & 1 & 0 & 0 &  180 \\\\\n",
    "    0  & 1   & 3   & 2   & 0 & 1 & 0 &  300 \\\\\n",
    "    0  & 2   & 1   & 2   & 0 & 0 & 1 &  240 \\\\\n",
    "\\end{array}\n",
    "$$"
   ]
  },
  {
   "cell_type": "markdown",
   "id": "89371910",
   "metadata": {},
   "source": [
    "# Step 1:"
   ]
  },
  {
   "cell_type": "markdown",
   "id": "961324ad",
   "metadata": {},
   "source": [
    "$$\n",
    "{\\frac{1}{2}R_{1}\\atop \\longrightarrow}\n",
    "\\begin{array}{rrrrrrr|c}\n",
    "    P  & x   & y   & z   & u & v & w & RHS\\\\\n",
    "    \\hline\n",
    "    1  & -6 & -5 & -4 & 0 & 0 & 0 &  0 \\\\\n",
    "    \\hline\n",
    "    0  & 1   & 1/2   & 1/2   & 1/2 & 0 & 0 &  90 \\\\\n",
    "    0  & 1   & 3   & 2   & 0 & 1 & 0 &  300 \\\\\n",
    "    0  & 2   & 1\n",
    "    & 2   & 0 & 0 & 1 &  240 \\\\\n",
    "\\end{array}\n",
    "$$"
   ]
  },
  {
   "cell_type": "markdown",
   "id": "33794788",
   "metadata": {},
   "source": [
    "# Step 2:"
   ]
  },
  {
   "cell_type": "markdown",
   "id": "c2e951dd",
   "metadata": {},
   "source": [
    "$$\n",
    "{R_{0}+6R_{1}\\atop \\longrightarrow}\n",
    "\\begin{array}{rrrrrrr|c}\n",
    "    P  & x   & y   & z   & u & v & w & RHS\\\\\n",
    "    \\hline\n",
    "    1  & 0 & -2 & -1 & 3 & 0 & 0 &  540 \\\\\n",
    "    \\hline\n",
    "    0  & 1   & 1/2   & 1/2   & 1/2 & 0 & 0 &  90 \\\\\n",
    "    0  & 1   & 3   & 2   & 0 & 1 & 0 &  300 \\\\\n",
    "    0  & 2   & 1   & 2   & 0 & 0 & 1 &  240 \\\\\n",
    "\\end{array}\n",
    "$$"
   ]
  },
  {
   "cell_type": "markdown",
   "id": "9291ff01",
   "metadata": {},
   "source": [
    "# Step 3:"
   ]
  },
  {
   "cell_type": "markdown",
   "id": "6eb897e1",
   "metadata": {},
   "source": [
    "$$\n",
    "{R_{2}-R_{1}\\atop \\longrightarrow}\n",
    "\\begin{array}{rrrrrrr|c}\n",
    "    P  & x   & y   & z   & u & v & w & RHS\\\\\n",
    "    \\hline\n",
    "    1  & 0 & -2 & -1 & 3 & 0 & 0 &  540 \\\\\n",
    "    \\hline\n",
    "    0  & 1   & 1/2   & 1/2   & 1/2 & 0 & 0 &  90 \\\\\n",
    "    0  & 0   & 5/2   & 3/2   & -1/2 & 1 & 0 &  210 \\\\\n",
    "    0  & 2   & 1     & 2   & 0 & 0 & 1 &  240 \\\\\n",
    "\\end{array}\n",
    "$$"
   ]
  },
  {
   "cell_type": "markdown",
   "id": "9839f1c2",
   "metadata": {},
   "source": [
    "# Step 4:"
   ]
  },
  {
   "cell_type": "markdown",
   "id": "13a76b68",
   "metadata": {},
   "source": [
    "$$\n",
    "{R_{3}-2R_{1}\\atop \\longrightarrow}\n",
    "\\begin{array}{rrrrrrr|c}\n",
    "    P  & x   & y   & z   & u & v & w & RHS\\\\\n",
    "    \\hline\n",
    "    1  & 0 & -2 & -1 & 3 & 0 & 0 &  540 \\\\\n",
    "    \\hline\n",
    "    0  & 1   & 1/2   & 1/2   & 1/2 & 0 & 0 &  90 \\\\\n",
    "    0  & 0   & 5/2   & 3/2   & -1/2 & 1 & 0 &  210 \\\\\n",
    "    0  & 0   & -1   & 1   & -1 & 0 & 1 &  60 \\\\\n",
    "\\end{array}\n",
    "$$"
   ]
  },
  {
   "cell_type": "markdown",
   "id": "fe406e6b",
   "metadata": {},
   "source": [
    "# Step 5:"
   ]
  },
  {
   "cell_type": "markdown",
   "id": "808acdd4",
   "metadata": {},
   "source": [
    "$$\n",
    "{\\frac{2}{5}R_{2}\\atop \\longrightarrow}\n",
    "\\begin{array}{rrrrrrr|c}\n",
    "    P  & x   & y   & z   & u & v & w & RHS\\\\\n",
    "    \\hline\n",
    "    1  & 0 & -2 & -1 & 3 & 0 & 0 &  540 \\\\\n",
    "    \\hline\n",
    "    0  & 1   & 1/2   & 1/2   & 1/2 & 0 & 0 &  90 \\\\\n",
    "    0  & 0   & 1   & 3/5   & -1/5 & 2/5 & 0 &  84 \\\\\n",
    "    0  & 0   & 0   & 1   & -1 & 0 & 1 &  60 \\\\\n",
    "\\end{array}\n",
    "$$"
   ]
  },
  {
   "cell_type": "markdown",
   "id": "677aa1bc",
   "metadata": {},
   "source": [
    "# Step 6:"
   ]
  },
  {
   "cell_type": "markdown",
   "id": "7018204c",
   "metadata": {},
   "source": [
    "$$\n",
    "{R_{1}-\\frac{1}{2}R_{2}\\atop \\longrightarrow}\n",
    "\\begin{array}{rrrrrrr|c}\n",
    "    P  & x   & y   & z   & u & v & w & RHS\\\\\n",
    "    \\hline\n",
    "    1  & 0 & 0 & 1/5 & 13/5 & 4/5 & 0 &  708 \\\\\n",
    "    \\hline\n",
    "    0  & 1   & 0   & 1/5   & 3/5 & -1/5 & 0 &  48 \\\\\n",
    "    0  & 0   & 1   & 3/5   & -1/5 & 2/5 & 0 &  84 \\\\\n",
    "    0  & 0   & 0   & 1   & -1 & 0 & 1 &  60 \\\\\n",
    "\\end{array}\n",
    "$$"
   ]
  },
  {
   "cell_type": "markdown",
   "id": "629be1ef",
   "metadata": {},
   "source": [
    "Let us go back to the initial step.\n",
    "$$\n",
    "\\begin{array}{rrrrrrr|c}\n",
    "    P  & x   & y   & z   & u & v & w & RHS\\\\\n",
    "    \\hline\n",
    "    1  & -6 & -5 & -4 & 0 & 0 & 0 &  0 \\\\\n",
    "    \\hline\n",
    "    0  & 2   & 1   & 1   & 1 & 0 & 0 &  180 \\\\\n",
    "    0  & 1   & 3   & 2   & 0 & 1 & 0 &  300 \\\\\n",
    "    0  & 2   & 1   & 2   & 0 & 0 & 1 &  240 \\\\\n",
    "\\end{array}\n",
    "$$\n",
    "We store the initial tableau in a matrix $A$. Only values are stored in $A$."
   ]
  },
  {
   "cell_type": "code",
   "execution_count": 3,
   "id": "0ce85a30",
   "metadata": {},
   "outputs": [
    {
     "name": "stdout",
     "output_type": "stream",
     "text": [
      "[[0. 0. 0. 0. 0. 0. 0. 0.]\n",
      " [0. 0. 0. 0. 0. 0. 0. 0.]\n",
      " [0. 0. 0. 0. 0. 0. 0. 0.]\n",
      " [0. 0. 0. 0. 0. 0. 0. 0.]]\n"
     ]
    }
   ],
   "source": [
    "A=np.zeros((4,8))\n",
    "print(A)"
   ]
  },
  {
   "cell_type": "code",
   "execution_count": 6,
   "id": "e8beb525",
   "metadata": {},
   "outputs": [],
   "source": [
    "A[0,0]=1\n",
    "A[0,1]=-6\n",
    "A[0,2]=-5\n",
    "A[0,3]=-4\n",
    "A[1,1]=2\n",
    "A[1,2]=1\n",
    "A[1,3]=1\n",
    "A[1,4]=1\n",
    "A[1,7]=180\n",
    "A[2,1]=1\n",
    "A[2,2]=3\n",
    "A[2,3]=2\n",
    "A[2,4]=0\n",
    "A[2,5]=1\n",
    "A[2,7]=300\n",
    "A[3,1]=2\n",
    "A[3,2]=1\n",
    "A[3,3]=2\n",
    "A[3,6]=1\n",
    "A[3,7]=240"
   ]
  },
  {
   "cell_type": "code",
   "execution_count": 7,
   "id": "baf6937d",
   "metadata": {},
   "outputs": [
    {
     "name": "stdout",
     "output_type": "stream",
     "text": [
      "[[  1.  -6.  -5.  -4.   0.   0.   0.   0.]\n",
      " [  0.   2.   1.   1.   1.   0.   0. 180.]\n",
      " [  0.   1.   3.   2.   0.   1.   0. 300.]\n",
      " [  0.   2.   1.   2.   0.   0.   1. 240.]]\n"
     ]
    }
   ],
   "source": [
    "print(A)"
   ]
  },
  {
   "cell_type": "markdown",
   "id": "79d86468",
   "metadata": {},
   "source": [
    "To perform any of the three row operations on a matrix $A$, it suffices to take the product  $E_1A$, \n",
    "where $E_1$ is the elementary matrix obtained by using the desired row operation on the identity matrix.\n",
    "\n",
    "# Multiplication by a Scalar and Elementary Matrices\n",
    "\n",
    "Let $E^1_{i,k}$ denote the elementary matrix corresponding to the row operation in which the $i^{th}$ \n",
    "row is multiplied by the nonzero scalar, $k$. Then\n",
    "$$E^1_{i,k}A=B$$ \n",
    "where $B$ is obtained from $A$ by multiplying the $i^{th}$ row of $A$ by $k$.\n",
    "\n",
    "We define this elementary matrix as follows:"
   ]
  },
  {
   "cell_type": "code",
   "execution_count": 8,
   "id": "56e67357",
   "metadata": {},
   "outputs": [],
   "source": [
    "import numpy as np\n",
    "def E1(A,i,k):\n",
    "    m=len(A)\n",
    "    n=len(A[0,:])\n",
    "    I=np.identity(m)\n",
    "    I[i,i]=k\n",
    "    return I.dot(A)"
   ]
  },
  {
   "cell_type": "markdown",
   "id": "1ca46e3d",
   "metadata": {},
   "source": [
    "# Adding Multiples of Rows and Elementary Matrices\n",
    "Let  $E^2_{i,j,k}$ denote the elementary matrix obtained from $I$ by adding $k$\n",
    "times the $i^{th}$ row to the $j^{th}$. Then\n",
    "$$\n",
    "E^{2}_{i,j,k} A=B\n",
    "$$ \n",
    "where $B$ is obtained from $A$ by adding $k$ times the $i^{th}$ row to the $j^{th}$ row of $A$."
   ]
  },
  {
   "cell_type": "code",
   "execution_count": 11,
   "id": "e1a08368",
   "metadata": {},
   "outputs": [],
   "source": [
    "def E2(A,i,j,k):\n",
    "    m=len(A)\n",
    "    n=len(A[0,:])\n",
    "    I=np.identity(m)\n",
    "    I[j,i]=k\n",
    "    return I.dot(A)"
   ]
  },
  {
   "cell_type": "markdown",
   "id": "77a85c6c",
   "metadata": {},
   "source": [
    "Now we want to produce the matrix in Step 1:"
   ]
  },
  {
   "cell_type": "code",
   "execution_count": 10,
   "id": "aec7824b",
   "metadata": {},
   "outputs": [
    {
     "name": "stdout",
     "output_type": "stream",
     "text": [
      "[[  1.  -6.  -5.  -4.   0.   0.   0.   0.]\n",
      " [  0.   2.   1.   1.   1.   0.   0. 180.]\n",
      " [  0.   1.   3.   2.   0.   1.   0. 300.]\n",
      " [  0.   2.   1.   2.   0.   0.   1. 240.]]\n",
      "[[  1.   -6.   -5.   -4.    0.    0.    0.    0. ]\n",
      " [  0.    1.    0.5   0.5   0.5   0.    0.   90. ]\n",
      " [  0.    1.    3.    2.    0.    1.    0.  300. ]\n",
      " [  0.    2.    1.    2.    0.    0.    1.  240. ]]\n"
     ]
    }
   ],
   "source": [
    "print(A)\n",
    "A=E1(A,1,1/2)\n",
    "print(A)"
   ]
  },
  {
   "cell_type": "code",
   "execution_count": null,
   "id": "3d78db03",
   "metadata": {},
   "outputs": [],
   "source": []
  },
  {
   "cell_type": "markdown",
   "id": "08e0fb23",
   "metadata": {},
   "source": [
    "Also, we can produce the matrix in Step 2:"
   ]
  },
  {
   "cell_type": "code",
   "execution_count": 15,
   "id": "9a889c4c",
   "metadata": {
    "scrolled": true
   },
   "outputs": [
    {
     "name": "stdout",
     "output_type": "stream",
     "text": [
      "[[  1.    0.   -2.   -1.    3.    0.    0.  540. ]\n",
      " [  0.    1.    0.5   0.5   0.5   0.    0.   90. ]\n",
      " [  0.    1.    3.    2.    0.    1.    0.  300. ]\n",
      " [  0.    2.    1.    2.    0.    0.    1.  240. ]]\n"
     ]
    }
   ],
   "source": [
    "A= E2(A,1,0,6)\n",
    "print(A)"
   ]
  },
  {
   "cell_type": "code",
   "execution_count": 16,
   "id": "0ac4f567",
   "metadata": {},
   "outputs": [
    {
     "name": "stdout",
     "output_type": "stream",
     "text": [
      "[[  1.    0.   -2.   -1.    3.    0.    0.  540. ]\n",
      " [  0.    1.    0.5   0.5   0.5   0.    0.   90. ]\n",
      " [  0.    1.    3.    2.    0.    1.    0.  300. ]\n",
      " [  0.    2.    1.    2.    0.    0.    1.  240. ]]\n"
     ]
    }
   ],
   "source": [
    "np.set_printoptions(precision=3,suppress=True)\n",
    "print(A)"
   ]
  },
  {
   "cell_type": "code",
   "execution_count": 18,
   "id": "e9d7dd4b",
   "metadata": {},
   "outputs": [
    {
     "name": "stdout",
     "output_type": "stream",
     "text": [
      "[[  1.    0.   -2.   -1.    3.    0.    0.  540. ]\n",
      " [  0.    1.    0.5   0.5   0.5   0.    0.   90. ]\n",
      " [  0.    0.    2.5   1.5  -0.5   1.    0.  210. ]\n",
      " [  0.    2.    1.    2.    0.    0.    1.  240. ]]\n"
     ]
    }
   ],
   "source": [
    "A = E2(A,1,2,-1)\n",
    "print(A)"
   ]
  },
  {
   "cell_type": "code",
   "execution_count": 19,
   "id": "6d64a8c9",
   "metadata": {},
   "outputs": [
    {
     "name": "stdout",
     "output_type": "stream",
     "text": [
      "[[  1.    0.   -2.   -1.    3.    0.    0.  540. ]\n",
      " [  0.    1.    0.5   0.5   0.5   0.    0.   90. ]\n",
      " [  0.    0.    2.5   1.5  -0.5   1.    0.  210. ]\n",
      " [  0.    0.    0.    1.   -1.    0.    1.   60. ]]\n"
     ]
    }
   ],
   "source": [
    "A = E2(A,1,3,-2)\n",
    "print(A)"
   ]
  },
  {
   "cell_type": "markdown",
   "id": "b44eb80e",
   "metadata": {},
   "source": [
    "Then we obtain the matrix in Step 4:"
   ]
  },
  {
   "cell_type": "code",
   "execution_count": 26,
   "id": "87288298",
   "metadata": {},
   "outputs": [
    {
     "name": "stdout",
     "output_type": "stream",
     "text": [
      "[[  1.  -6.  -5.  -4.   0.   0.   0.   0.]\n",
      " [  0.   2.   1.   1.   1.   0.   0. 180.]\n",
      " [  0.   1.   3.   2.   0.   1.   0. 300.]\n",
      " [  0.   2.   1.   2.   0.   0.   1. 240.]]\n",
      "[[  1.    0.   -2.   -1.    3.    0.    0.  540. ]\n",
      " [  0.    1.    0.5   0.5   0.5   0.    0.   90. ]\n",
      " [  0.    0.    2.5   1.5  -0.5   1.    0.  210. ]\n",
      " [  0.    0.    0.    1.   -1.    0.    1.   60. ]]\n"
     ]
    }
   ],
   "source": [
    "A=np.zeros((4,8))\n",
    "A[0,0]=1\n",
    "A[0,1]=-6\n",
    "A[0,2]=-5\n",
    "A[0,3]=-4\n",
    "A[1,1]=2\n",
    "A[1,2]=1\n",
    "A[1,3]=1\n",
    "A[1,4]=1\n",
    "A[1,7]=180\n",
    "A[2,1]=1\n",
    "A[2,2]=3\n",
    "A[2,3]=2\n",
    "A[2,4]=0\n",
    "A[2,5]=1\n",
    "A[2,7]=300\n",
    "A[3,1]=2\n",
    "A[3,2]=1\n",
    "A[3,3]=2\n",
    "A[3,6]=1\n",
    "A[3,7]=240\n",
    "print(A)\n",
    "###\n",
    "p = 1\n",
    "#####\n",
    "A=E1(A,p,1/A[p,p])#A= E2(A,p,0.6)\n",
    "#####\n",
    "l= 0\n",
    "#####\n",
    "A=E2(A,p,l,-A[l,p])#A= E2(A,p,0.6)\n",
    "######\n",
    "l=2\n",
    "######\n",
    "A=E2(A,p,l,-A[l,p])#A= E2(A,2,-1)\n",
    "######\n",
    "l=3\n",
    "####\n",
    "A=E2(A,p,l,-A[l,p])#A= E2(A,3,-2)\n",
    "print(A)"
   ]
  },
  {
   "cell_type": "code",
   "execution_count": 28,
   "id": "72ccbfff",
   "metadata": {},
   "outputs": [
    {
     "name": "stdout",
     "output_type": "stream",
     "text": [
      "[[  1.  -6.  -5.  -4.   0.   0.   0.   0.]\n",
      " [  0.   2.   1.   1.   1.   0.   0. 180.]\n",
      " [  0.   1.   3.   2.   0.   1.   0. 300.]\n",
      " [  0.   2.   1.   2.   0.   0.   1. 240.]]\n",
      "0\n",
      "\n",
      "0\n",
      "0\n",
      "[[  1.    0.   -2.   -1.    3.    0.    0.  540. ]\n",
      " [  0.    1.    0.5   0.5   0.5   0.    0.   90. ]\n",
      " [  0.    0.    2.5   1.5  -0.5   1.    0.  210. ]\n",
      " [  0.    0.    0.    1.   -1.    0.    1.   60. ]]\n"
     ]
    }
   ],
   "source": [
    "A=np.zeros((4,8))\n",
    "A[0,0]=1\n",
    "A[0,1]=-6\n",
    "A[0,2]=-5\n",
    "A[0,3]=-4\n",
    "A[1,1]=2\n",
    "A[1,2]=1\n",
    "A[1,3]=1\n",
    "A[1,4]=1\n",
    "A[1,7]=180\n",
    "A[2,1]=1\n",
    "A[2,2]=3\n",
    "A[2,3]=2\n",
    "A[2,4]=0\n",
    "A[2,5]=1\n",
    "A[2,7]=300\n",
    "A[3,1]=2\n",
    "A[3,2]=1\n",
    "A[3,3]=2\n",
    "A[3,6]=1\n",
    "A[3,7]=240\n",
    "print(A)\n",
    "###\n",
    "p = 1\n",
    "#####\n",
    "A=E1(A,p,1/A[p,p])#A= E2(A,p,0.6)\n",
    "#####\n",
    "for l in range(0,p):\n",
    "    A=E2(A,p,l,-A[l,p])\n",
    "    print(l)\n",
    "print(\"\")\n",
    "for i in range(p+1,4):\n",
    "    A=E2(A,p,l,-A[l,p])\n",
    "    print(l)\n",
    "#####\n",
    "l= 0\n",
    "#####\n",
    "A=E2(A,p,l,-A[l,p])#A= E2(A,p,0.6)\n",
    "######\n",
    "l=2\n",
    "######\n",
    "A=E2(A,p,l,-A[l,p])#A= E2(A,2,-1)\n",
    "######\n",
    "l=3\n",
    "####\n",
    "A=E2(A,p,l,-A[l,p])#A= E2(A,3,-2)\n",
    "print(A)"
   ]
  },
  {
   "cell_type": "code",
   "execution_count": 31,
   "id": "7f480341",
   "metadata": {},
   "outputs": [
    {
     "name": "stdout",
     "output_type": "stream",
     "text": [
      "[[  1.  -6.  -5.  -4.   0.   0.   0.   0.]\n",
      " [  0.   2.   1.   1.   1.   0.   0. 180.]\n",
      " [  0.   1.   3.   2.   0.   1.   0. 300.]\n",
      " [  0.   2.   1.   2.   0.   0.   1. 240.]]\n",
      "[[  1.   -6.   -5.   -4.    0.    0.    0.    0. ]\n",
      " [  0.    1.    0.5   0.5   0.5   0.    0.   90. ]\n",
      " [  0.    1.    3.    2.    0.    1.    0.  300. ]\n",
      " [  0.    2.    1.    2.    0.    0.    1.  240. ]]\n",
      "0\n",
      "\n",
      "2\n",
      "3\n",
      "[[  1.    0.   -2.   -1.    3.    0.    0.  540. ]\n",
      " [  0.    1.    0.5   0.5   0.5   0.    0.   90. ]\n",
      " [  0.    0.    2.5   1.5  -0.5   1.    0.  210. ]\n",
      " [  0.    0.    0.    1.   -1.    0.    1.   60. ]]\n",
      "0\n",
      "1\n",
      "\n",
      "3\n",
      "[[  1.    0.    0.    0.2   2.6   0.8   0.  708. ]\n",
      " [  0.    1.    0.    0.2   0.6  -0.2   0.   48. ]\n",
      " [  0.    0.    1.    0.6  -0.2   0.4   0.   84. ]\n",
      " [  0.    0.    0.    1.   -1.    0.    1.   60. ]]\n"
     ]
    }
   ],
   "source": [
    "A=np.zeros((4,8))\n",
    "A[0,0]=1\n",
    "A[0,1]=-6\n",
    "A[0,2]=-5\n",
    "A[0,3]=-4\n",
    "A[1,1]=2\n",
    "A[1,2]=1\n",
    "A[1,3]=1\n",
    "A[1,4]=1\n",
    "A[1,7]=180\n",
    "A[2,1]=1\n",
    "A[2,2]=3\n",
    "A[2,3]=2\n",
    "A[2,4]=0\n",
    "A[2,5]=1\n",
    "A[2,7]=300\n",
    "A[3,1]=2\n",
    "A[3,2]=1\n",
    "A[3,3]=2\n",
    "A[3,6]=1\n",
    "A[3,7]=240\n",
    "print(A)\n",
    "###\n",
    "p = 1\n",
    "A=E1(A,p,1/A[p,p])\n",
    "print(A)\n",
    "for l in range(0,p):\n",
    "    A=E2(A,p,l,-A[l,p])\n",
    "    print(l)\n",
    "print(\"\")\n",
    "for l in range(p+1,4):\n",
    "    A=E2(A,p,l,-A[l,p])\n",
    "    print(l)\n",
    "print(A)\n",
    "#################\n",
    "p = 2\n",
    "A=E1(A,p,1/A[p,p])#A= E2(A,p,0.6)\n",
    "for l in range(0,p):\n",
    "    A=E2(A,p,l,-A[l,p])\n",
    "    print(l)\n",
    "print(\"\")\n",
    "for l in range(p+1,4):\n",
    "    A=E2(A,p,l,-A[l,p])\n",
    "    print(l)\n",
    "print(A)"
   ]
  },
  {
   "cell_type": "code",
   "execution_count": null,
   "id": "bb94defd",
   "metadata": {},
   "outputs": [],
   "source": [
    "A=E2(A,1,)\n",
    "A=E2(A,1)\n",
    "A=E2(A,1)\n",
    "print(A)"
   ]
  },
  {
   "cell_type": "code",
   "execution_count": null,
   "id": "5d293eeb",
   "metadata": {},
   "outputs": [],
   "source": [
    "A=np.zeros((4,8))\n",
    "\n",
    "\n",
    "i=1\n",
    "j=1\n",
    "A=E1(A,i,1/A[i,j])\n",
    "print(A)\n",
    "l=2\n",
    "print(A[i,j])\n",
    "print(A[l,j])\n",
    "A=E2(A,i,l,-A[i,j]/A[l,j])\n",
    "print(A)"
   ]
  },
  {
   "cell_type": "code",
   "execution_count": null,
   "id": "9459db83",
   "metadata": {},
   "outputs": [],
   "source": [
    "A=np.zeros((4,8))\n",
    "\n",
    "\n",
    "m=len(A)\n",
    "n=len(A[0,:])\n",
    "\n",
    "i=1\n",
    "j=1\n",
    "A=E1(A,i,1/A[i,j])\n",
    "print(A)\n",
    "for l in range(0,i):\n",
    "    print(l)\n",
    "    A=E2(A)\n",
    "    print(A)\n",
    "for l in range(i+1,m):\n",
    "    print(l)\n",
    "    A=E2(A)\n",
    "    print(A)\n",
    "print(A)\n"
   ]
  },
  {
   "cell_type": "code",
   "execution_count": 1,
   "id": "e2340639",
   "metadata": {},
   "outputs": [
    {
     "ename": "NameError",
     "evalue": "name 'np' is not defined",
     "output_type": "error",
     "traceback": [
      "\u001b[1;31m---------------------------------------------------------------------------\u001b[0m",
      "\u001b[1;31mNameError\u001b[0m                                 Traceback (most recent call last)",
      "Input \u001b[1;32mIn [1]\u001b[0m, in \u001b[0;36m<cell line: 1>\u001b[1;34m()\u001b[0m\n\u001b[1;32m----> 1\u001b[0m A\u001b[38;5;241m=\u001b[39m\u001b[43mnp\u001b[49m\u001b[38;5;241m.\u001b[39mzeros((\u001b[38;5;241m4\u001b[39m,\u001b[38;5;241m8\u001b[39m))\n\u001b[0;32m      2\u001b[0m A[\u001b[38;5;241m0\u001b[39m,\u001b[38;5;241m0\u001b[39m]\u001b[38;5;241m=\u001b[39m\u001b[38;5;241m1\u001b[39m\n\u001b[0;32m      3\u001b[0m A[\u001b[38;5;241m0\u001b[39m,\u001b[38;5;241m1\u001b[39m]\u001b[38;5;241m=\u001b[39m\u001b[38;5;241m-\u001b[39m\u001b[38;5;241m6\u001b[39m\n",
      "\u001b[1;31mNameError\u001b[0m: name 'np' is not defined"
     ]
    }
   ],
   "source": [
    "A=np.zeros((4,8))\n",
    "A[0,0]=1\n",
    "A[0,1]=-6\n",
    "A[0,2]=-5\n",
    "A[0,3]=-4\n",
    "A[1,1]=2\n",
    "A[1,2]=1\n",
    "A[1,3]=1\n",
    "A[1,4]=1\n",
    "A[1,7]=180\n",
    "A[2,1]=1\n",
    "A[2,2]=3\n",
    "A[2,3]=2\n",
    "A[2,5]=1\n",
    "A[2,7]=300\n",
    "A[3,1]=2\n",
    "A[3,3]=2\n",
    "A[3,6]=1\n",
    "A[3,7]=240\n",
    "\n",
    "m=len(A)\n",
    "n=len(A[0,:])\n",
    "\n",
    "i=1\n",
    "j=1\n",
    "A=E1(A,i,1/A[i,j])\n",
    "print(A)\n",
    "for l in range(0,i):\n",
    "    print(l)\n",
    "    A=E2(A,i,l,-A[l,j])\n",
    "    print(A)\n",
    "for l in range(i+1,m):\n",
    "    print(l)\n",
    "    A=E2(A,i,l,-A[l,j])\n",
    "    print(A)\n",
    "print(A)\n",
    "\n"
   ]
  },
  {
   "cell_type": "code",
   "execution_count": 5,
   "id": "61c9b35f",
   "metadata": {},
   "outputs": [
    {
     "ename": "SyntaxError",
     "evalue": "invalid syntax. Perhaps you forgot a comma? (2522996378.py, line 22)",
     "output_type": "error",
     "traceback": [
      "\u001b[0;36m  Cell \u001b[0;32mIn[5], line 22\u001b[0;36m\u001b[0m\n\u001b[0;31m    f.write(\"<div class=\"container mt-3\">\")\u001b[0m\n\u001b[0m            ^\u001b[0m\n\u001b[0;31mSyntaxError\u001b[0m\u001b[0;31m:\u001b[0m invalid syntax. Perhaps you forgot a comma?\n"
     ]
    }
   ],
   "source": [
    "f = open(\"SimplexTabuleau.html\", \"w\")\n",
    "f.write(\"Now the file has more content!\")\n",
    "\"\"\"\n",
    "\n",
    "f.write(\"<html lang=\"en\">\")\n",
    "f.write(\"<head>\")\n",
    "f.write(\"<title>Simplex Tableau</title>\")\n",
    "f.write(\"<meta charset=\"utf-8\">\")\n",
    "f.write(\"<meta name=\"viewport\" content=\"width=device-width, initial-scale=1\">\")\n",
    "f.write(\"<link href=\"https://cdn.jsdelivr.net/npm/bootstrap@5.3.1/dist/css/bootstrap.min.css\" rel=\"stylesheet\">\")\n",
    "f.write(\"  <script src=\"https://cdn.jsdelivr.net/npm/bootstrap@5.3.1/dist/js/bootstrap.bundle.min.js\"></script>\")\n",
    "f.write(\"  <script type=\"text/x-mathjax-config\">\")\n",
    "f.write(\"  MathJax.Hub.Config({tex2jax: {inlineMath: [['$','$'], ['\\\\(','\\\\)']]}});\")\n",
    "f.write(\"</script>\")\n",
    "f.write(\"<script type=\"text/javascript\"\")\n",
    "f.write(\"  src=\"http://cdn.mathjax.org/mathjax/latest/MathJax.js?config=TeX-AMS-MML_HTMLorMML\">\")\n",
    "f.write(\"</script>\")\n",
    "f.write(\"</head>\")\n",
    "f.write(\"<body>\")\n",
    "\"\"\"\n",
    "\n",
    "f.write(\"<div class=\"container mt-3\">\")\n",
    "f.write(\"<h2>Simplex Tableau</h2>\")\n",
    "f.write(\"<p>Setp 0:</p>\")\n",
    "f.write(\"<table class=\"table table-bordered table-hover \"><tbody><tr>\")\n",
    "f.write(\"<th></th><th style=\"text-align:center\">Z </th><th style=\"text-align:center\">$x_1$ </th><th style=\"text-align:center\">$x_2$ </th><th style=\"text-align:center\">$x_3$ </th><th style=\"text-align:center\">$x_4$ </th><th style=\"text-align:center\">$x_5$ </th><th style=\"text-align:center\">RHS </th><th style=\"text-align:center\"> </th></tr> \")\n",
    "f.write(\"<tr><td style=\"text-align:center\">Z </td><td style=\"text-align:center\"> 1.00  </td><td style=\"text-align:center\"> -3.00  </td><td style=\"text-align:center\"> -5.00  </td><td style=\"text-align:center\"> 0.00  </td><td style=\"text-align:center\"> 0.00  </td><td style=\"text-align:center\"> 0.00  </td><td style=\"text-align:center\"> 0.00  </td><td style=\"text-align:center\"> </td></tr> \")\n",
    "f.write(\"<tr><td style=\"text-align:center\">$x_3$ </td><td style=\"text-align:center\"> 0.00  </td><td style=\"text-align:center\"> 1.00  </td><td style=\"text-align:center\"> 0.00  </td><td style=\"text-align:center\"> 1.00  </td><td style=\"text-align:center\"> 0.00  </td><td style=\"text-align:center\"> 0.00  </td><td style=\"text-align:center\"> 4.00  </td><td style=\"text-align:center\">-- </td></tr> \")\n",
    "f.write(\"<tr><td style=\"text-align:center\">$x_4$ </td><td style=\"text-align:center\"> 0.00  </td><td style=\"text-align:center\"> 0.00  </td><td style=\"text-align:center\"> 2.00  </td><td style=\"text-align:center\"> 0.00  </td><td style=\"text-align:center\"> 1.00  </td><td style=\"text-align:center\"> 0.00  </td><td style=\"text-align:center\"> 12.00  </td><td style=\"text-align:center\"> 6.00  </td></tr> \")\n",
    "f.write(\"<tr><td style=\"text-align:center\">$x_5$ </td><td style=\"text-align:center\"> 0.00  </td><td style=\"text-align:center\"> 3.00  </td><td style=\"text-align:center\"> 2.00  </td><td style=\"text-align:center\"> 0.00  </td><td style=\"text-align:center\"> 0.00  </td><td style=\"text-align:center\"> 1.00  </td><td style=\"text-align:center\"> 18.00  </td><td style=\"text-align:center\"> 9.00  </td></tr> \")\n",
    "f.write(\"</tbody></table>\")\n",
    "f.write(\"</html>\")\n",
    "f.close()"
   ]
  },
  {
   "cell_type": "code",
   "execution_count": null,
   "id": "49962013",
   "metadata": {},
   "outputs": [],
   "source": []
  }
 ],
 "metadata": {
  "kernelspec": {
   "display_name": "Python 3 (ipykernel)",
   "language": "python",
   "name": "python3"
  },
  "language_info": {
   "codemirror_mode": {
    "name": "ipython",
    "version": 3
   },
   "file_extension": ".py",
   "mimetype": "text/x-python",
   "name": "python",
   "nbconvert_exporter": "python",
   "pygments_lexer": "ipython3",
   "version": "3.11.4"
  }
 },
 "nbformat": 4,
 "nbformat_minor": 5
}
